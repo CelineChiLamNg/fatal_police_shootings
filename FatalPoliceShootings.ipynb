{
 "cells": [
  {
   "cell_type": "markdown",
   "source": [
    "# Fatal Police Shootings\n",
    "\n",
    "*author: Celine Ng*"
   ],
   "metadata": {
    "collapsed": false
   },
   "id": "8de0a5b6bc3b2d6f"
  },
  {
   "cell_type": "markdown",
   "source": [
    "# 1. Import Libraries &  Data Retrieval"
   ],
   "metadata": {
    "collapsed": false
   },
   "id": "453e5c3d95494dff"
  },
  {
   "cell_type": "code",
   "outputs": [
    {
     "name": "stdout",
     "output_type": "stream",
     "text": [
      "Requirement already satisfied: pandas in d:\\acer\\documents\\data science\\turing\\capstone projects\\m1_cp\\fatalshooting\\.venv\\lib\\site-packages (2.2.1)\n",
      "Requirement already satisfied: numpy<2,>=1.22.4 in d:\\acer\\documents\\data science\\turing\\capstone projects\\m1_cp\\fatalshooting\\.venv\\lib\\site-packages (from pandas) (1.26.4)\n",
      "Requirement already satisfied: python-dateutil>=2.8.2 in d:\\acer\\documents\\data science\\turing\\capstone projects\\m1_cp\\fatalshooting\\.venv\\lib\\site-packages (from pandas) (2.8.2)\n",
      "Requirement already satisfied: pytz>=2020.1 in d:\\acer\\documents\\data science\\turing\\capstone projects\\m1_cp\\fatalshooting\\.venv\\lib\\site-packages (from pandas) (2024.1)\n",
      "Requirement already satisfied: tzdata>=2022.7 in d:\\acer\\documents\\data science\\turing\\capstone projects\\m1_cp\\fatalshooting\\.venv\\lib\\site-packages (from pandas) (2024.1)\n",
      "Requirement already satisfied: six>=1.5 in d:\\acer\\documents\\data science\\turing\\capstone projects\\m1_cp\\fatalshooting\\.venv\\lib\\site-packages (from python-dateutil>=2.8.2->pandas) (1.16.0)\n",
      "Requirement already satisfied: matplotlib in d:\\acer\\documents\\data science\\turing\\capstone projects\\m1_cp\\fatalshooting\\.venv\\lib\\site-packages (3.8.3)\n",
      "Requirement already satisfied: contourpy>=1.0.1 in d:\\acer\\documents\\data science\\turing\\capstone projects\\m1_cp\\fatalshooting\\.venv\\lib\\site-packages (from matplotlib) (1.2.0)\n",
      "Requirement already satisfied: cycler>=0.10 in d:\\acer\\documents\\data science\\turing\\capstone projects\\m1_cp\\fatalshooting\\.venv\\lib\\site-packages (from matplotlib) (0.12.1)\n",
      "Requirement already satisfied: fonttools>=4.22.0 in d:\\acer\\documents\\data science\\turing\\capstone projects\\m1_cp\\fatalshooting\\.venv\\lib\\site-packages (from matplotlib) (4.49.0)\n",
      "Requirement already satisfied: kiwisolver>=1.3.1 in d:\\acer\\documents\\data science\\turing\\capstone projects\\m1_cp\\fatalshooting\\.venv\\lib\\site-packages (from matplotlib) (1.4.5)\n",
      "Requirement already satisfied: numpy<2,>=1.21 in d:\\acer\\documents\\data science\\turing\\capstone projects\\m1_cp\\fatalshooting\\.venv\\lib\\site-packages (from matplotlib) (1.26.4)\n",
      "Requirement already satisfied: packaging>=20.0 in d:\\acer\\documents\\data science\\turing\\capstone projects\\m1_cp\\fatalshooting\\.venv\\lib\\site-packages (from matplotlib) (23.2)\n",
      "Requirement already satisfied: pillow>=8 in d:\\acer\\documents\\data science\\turing\\capstone projects\\m1_cp\\fatalshooting\\.venv\\lib\\site-packages (from matplotlib) (10.2.0)\n",
      "Requirement already satisfied: pyparsing>=2.3.1 in d:\\acer\\documents\\data science\\turing\\capstone projects\\m1_cp\\fatalshooting\\.venv\\lib\\site-packages (from matplotlib) (3.1.1)\n",
      "Requirement already satisfied: python-dateutil>=2.7 in d:\\acer\\documents\\data science\\turing\\capstone projects\\m1_cp\\fatalshooting\\.venv\\lib\\site-packages (from matplotlib) (2.8.2)\n",
      "Requirement already satisfied: six>=1.5 in d:\\acer\\documents\\data science\\turing\\capstone projects\\m1_cp\\fatalshooting\\.venv\\lib\\site-packages (from python-dateutil>=2.7->matplotlib) (1.16.0)\n",
      "Requirement already satisfied: seaborn in d:\\acer\\documents\\data science\\turing\\capstone projects\\m1_cp\\fatalshooting\\.venv\\lib\\site-packages (0.13.2)\n",
      "Requirement already satisfied: numpy!=1.24.0,>=1.20 in d:\\acer\\documents\\data science\\turing\\capstone projects\\m1_cp\\fatalshooting\\.venv\\lib\\site-packages (from seaborn) (1.26.4)\n",
      "Requirement already satisfied: pandas>=1.2 in d:\\acer\\documents\\data science\\turing\\capstone projects\\m1_cp\\fatalshooting\\.venv\\lib\\site-packages (from seaborn) (2.2.1)\n",
      "Requirement already satisfied: matplotlib!=3.6.1,>=3.4 in d:\\acer\\documents\\data science\\turing\\capstone projects\\m1_cp\\fatalshooting\\.venv\\lib\\site-packages (from seaborn) (3.8.3)\n",
      "Requirement already satisfied: contourpy>=1.0.1 in d:\\acer\\documents\\data science\\turing\\capstone projects\\m1_cp\\fatalshooting\\.venv\\lib\\site-packages (from matplotlib!=3.6.1,>=3.4->seaborn) (1.2.0)\n",
      "Requirement already satisfied: cycler>=0.10 in d:\\acer\\documents\\data science\\turing\\capstone projects\\m1_cp\\fatalshooting\\.venv\\lib\\site-packages (from matplotlib!=3.6.1,>=3.4->seaborn) (0.12.1)\n",
      "Requirement already satisfied: fonttools>=4.22.0 in d:\\acer\\documents\\data science\\turing\\capstone projects\\m1_cp\\fatalshooting\\.venv\\lib\\site-packages (from matplotlib!=3.6.1,>=3.4->seaborn) (4.49.0)\n",
      "Requirement already satisfied: kiwisolver>=1.3.1 in d:\\acer\\documents\\data science\\turing\\capstone projects\\m1_cp\\fatalshooting\\.venv\\lib\\site-packages (from matplotlib!=3.6.1,>=3.4->seaborn) (1.4.5)\n",
      "Requirement already satisfied: packaging>=20.0 in d:\\acer\\documents\\data science\\turing\\capstone projects\\m1_cp\\fatalshooting\\.venv\\lib\\site-packages (from matplotlib!=3.6.1,>=3.4->seaborn) (23.2)\n",
      "Requirement already satisfied: pillow>=8 in d:\\acer\\documents\\data science\\turing\\capstone projects\\m1_cp\\fatalshooting\\.venv\\lib\\site-packages (from matplotlib!=3.6.1,>=3.4->seaborn) (10.2.0)\n",
      "Requirement already satisfied: pyparsing>=2.3.1 in d:\\acer\\documents\\data science\\turing\\capstone projects\\m1_cp\\fatalshooting\\.venv\\lib\\site-packages (from matplotlib!=3.6.1,>=3.4->seaborn) (3.1.1)\n",
      "Requirement already satisfied: python-dateutil>=2.7 in d:\\acer\\documents\\data science\\turing\\capstone projects\\m1_cp\\fatalshooting\\.venv\\lib\\site-packages (from matplotlib!=3.6.1,>=3.4->seaborn) (2.8.2)\n",
      "Requirement already satisfied: pytz>=2020.1 in d:\\acer\\documents\\data science\\turing\\capstone projects\\m1_cp\\fatalshooting\\.venv\\lib\\site-packages (from pandas>=1.2->seaborn) (2024.1)\n",
      "Requirement already satisfied: tzdata>=2022.7 in d:\\acer\\documents\\data science\\turing\\capstone projects\\m1_cp\\fatalshooting\\.venv\\lib\\site-packages (from pandas>=1.2->seaborn) (2024.1)\n",
      "Requirement already satisfied: six>=1.5 in d:\\acer\\documents\\data science\\turing\\capstone projects\\m1_cp\\fatalshooting\\.venv\\lib\\site-packages (from python-dateutil>=2.7->matplotlib!=3.6.1,>=3.4->seaborn) (1.16.0)\n"
     ]
    }
   ],
   "source": [
    "!pip install pandas\n",
    "!pip install matplotlib\n",
    "!pip install seaborn"
   ],
   "metadata": {
    "collapsed": false,
    "ExecuteTime": {
     "end_time": "2024-03-01T15:09:55.003495900Z",
     "start_time": "2024-03-01T15:09:48.327560400Z"
    }
   },
   "id": "603d2a95b96c0031",
   "execution_count": 55
  },
  {
   "cell_type": "code",
   "outputs": [],
   "source": [
    "import pandas as pd\n",
    "import matplotlib.pyplot as plt\n",
    "import seaborn as sns"
   ],
   "metadata": {
    "collapsed": false,
    "ExecuteTime": {
     "end_time": "2024-03-01T15:09:55.035187Z",
     "start_time": "2024-03-01T15:09:55.009336300Z"
    }
   },
   "id": "b85f7b4c781b8672",
   "execution_count": 56
  },
  {
   "cell_type": "code",
   "outputs": [],
   "source": [
    "db = pd.read_csv(\"database.csv\")"
   ],
   "metadata": {
    "collapsed": false,
    "ExecuteTime": {
     "end_time": "2024-03-01T15:09:55.080040200Z",
     "start_time": "2024-03-01T15:09:55.025360200Z"
    }
   },
   "id": "b8741dd6175b25d2",
   "execution_count": 57
  },
  {
   "cell_type": "code",
   "outputs": [
    {
     "data": {
      "text/plain": "        id                 name        date   manner_of_death       armed  \\\n0        3           Tim Elliot  2015-01-02              shot         gun   \n1        4     Lewis Lee Lembke  2015-01-02              shot         gun   \n2        5   John Paul Quintero  2015-01-03  shot and Tasered     unarmed   \n3        8      Matthew Hoffman  2015-01-04              shot  toy weapon   \n4        9    Michael Rodriguez  2015-01-04              shot    nail gun   \n...    ...                  ...         ...               ...         ...   \n2137  2382   James Leroy Marker  2017-02-26              shot         gun   \n2138  2378      Joey J. Bridges  2017-02-27              shot         gun   \n2139  2391       Shawn M. Igers  2017-02-27              shot         gun   \n2140  2393           Earl Riley  2017-02-28              shot         gun   \n2141  2394  Christopher Redding  2017-02-28              shot         gun   \n\n       age gender race           city state  signs_of_mental_illness  \\\n0     53.0      M    A        Shelton    WA                     True   \n1     47.0      M    W          Aloha    OR                    False   \n2     23.0      M    H        Wichita    KS                    False   \n3     32.0      M    W  San Francisco    CA                     True   \n4     39.0      M    H          Evans    CO                    False   \n...    ...    ...  ...            ...   ...                      ...   \n2137  66.0      M    W    Floral City    FL                    False   \n2138  27.0      M    W         Shelby    NC                     True   \n2139  40.0      M    W        Corning    WI                    False   \n2140  25.0      M    B        Houston    TX                    False   \n2141  20.0      M    B        Orlando    FL                    False   \n\n     threat_level         flee  body_camera  \n0          attack  Not fleeing        False  \n1          attack  Not fleeing        False  \n2           other  Not fleeing        False  \n3          attack  Not fleeing        False  \n4          attack  Not fleeing        False  \n...           ...          ...          ...  \n2137        other          Car        False  \n2138       attack         Foot        False  \n2139       attack  Not fleeing        False  \n2140       attack  Not fleeing        False  \n2141       attack         Foot        False  \n\n[2142 rows x 14 columns]",
      "text/html": "<div>\n<style scoped>\n    .dataframe tbody tr th:only-of-type {\n        vertical-align: middle;\n    }\n\n    .dataframe tbody tr th {\n        vertical-align: top;\n    }\n\n    .dataframe thead th {\n        text-align: right;\n    }\n</style>\n<table border=\"1\" class=\"dataframe\">\n  <thead>\n    <tr style=\"text-align: right;\">\n      <th></th>\n      <th>id</th>\n      <th>name</th>\n      <th>date</th>\n      <th>manner_of_death</th>\n      <th>armed</th>\n      <th>age</th>\n      <th>gender</th>\n      <th>race</th>\n      <th>city</th>\n      <th>state</th>\n      <th>signs_of_mental_illness</th>\n      <th>threat_level</th>\n      <th>flee</th>\n      <th>body_camera</th>\n    </tr>\n  </thead>\n  <tbody>\n    <tr>\n      <th>0</th>\n      <td>3</td>\n      <td>Tim Elliot</td>\n      <td>2015-01-02</td>\n      <td>shot</td>\n      <td>gun</td>\n      <td>53.0</td>\n      <td>M</td>\n      <td>A</td>\n      <td>Shelton</td>\n      <td>WA</td>\n      <td>True</td>\n      <td>attack</td>\n      <td>Not fleeing</td>\n      <td>False</td>\n    </tr>\n    <tr>\n      <th>1</th>\n      <td>4</td>\n      <td>Lewis Lee Lembke</td>\n      <td>2015-01-02</td>\n      <td>shot</td>\n      <td>gun</td>\n      <td>47.0</td>\n      <td>M</td>\n      <td>W</td>\n      <td>Aloha</td>\n      <td>OR</td>\n      <td>False</td>\n      <td>attack</td>\n      <td>Not fleeing</td>\n      <td>False</td>\n    </tr>\n    <tr>\n      <th>2</th>\n      <td>5</td>\n      <td>John Paul Quintero</td>\n      <td>2015-01-03</td>\n      <td>shot and Tasered</td>\n      <td>unarmed</td>\n      <td>23.0</td>\n      <td>M</td>\n      <td>H</td>\n      <td>Wichita</td>\n      <td>KS</td>\n      <td>False</td>\n      <td>other</td>\n      <td>Not fleeing</td>\n      <td>False</td>\n    </tr>\n    <tr>\n      <th>3</th>\n      <td>8</td>\n      <td>Matthew Hoffman</td>\n      <td>2015-01-04</td>\n      <td>shot</td>\n      <td>toy weapon</td>\n      <td>32.0</td>\n      <td>M</td>\n      <td>W</td>\n      <td>San Francisco</td>\n      <td>CA</td>\n      <td>True</td>\n      <td>attack</td>\n      <td>Not fleeing</td>\n      <td>False</td>\n    </tr>\n    <tr>\n      <th>4</th>\n      <td>9</td>\n      <td>Michael Rodriguez</td>\n      <td>2015-01-04</td>\n      <td>shot</td>\n      <td>nail gun</td>\n      <td>39.0</td>\n      <td>M</td>\n      <td>H</td>\n      <td>Evans</td>\n      <td>CO</td>\n      <td>False</td>\n      <td>attack</td>\n      <td>Not fleeing</td>\n      <td>False</td>\n    </tr>\n    <tr>\n      <th>...</th>\n      <td>...</td>\n      <td>...</td>\n      <td>...</td>\n      <td>...</td>\n      <td>...</td>\n      <td>...</td>\n      <td>...</td>\n      <td>...</td>\n      <td>...</td>\n      <td>...</td>\n      <td>...</td>\n      <td>...</td>\n      <td>...</td>\n      <td>...</td>\n    </tr>\n    <tr>\n      <th>2137</th>\n      <td>2382</td>\n      <td>James Leroy Marker</td>\n      <td>2017-02-26</td>\n      <td>shot</td>\n      <td>gun</td>\n      <td>66.0</td>\n      <td>M</td>\n      <td>W</td>\n      <td>Floral City</td>\n      <td>FL</td>\n      <td>False</td>\n      <td>other</td>\n      <td>Car</td>\n      <td>False</td>\n    </tr>\n    <tr>\n      <th>2138</th>\n      <td>2378</td>\n      <td>Joey J. Bridges</td>\n      <td>2017-02-27</td>\n      <td>shot</td>\n      <td>gun</td>\n      <td>27.0</td>\n      <td>M</td>\n      <td>W</td>\n      <td>Shelby</td>\n      <td>NC</td>\n      <td>True</td>\n      <td>attack</td>\n      <td>Foot</td>\n      <td>False</td>\n    </tr>\n    <tr>\n      <th>2139</th>\n      <td>2391</td>\n      <td>Shawn M. Igers</td>\n      <td>2017-02-27</td>\n      <td>shot</td>\n      <td>gun</td>\n      <td>40.0</td>\n      <td>M</td>\n      <td>W</td>\n      <td>Corning</td>\n      <td>WI</td>\n      <td>False</td>\n      <td>attack</td>\n      <td>Not fleeing</td>\n      <td>False</td>\n    </tr>\n    <tr>\n      <th>2140</th>\n      <td>2393</td>\n      <td>Earl Riley</td>\n      <td>2017-02-28</td>\n      <td>shot</td>\n      <td>gun</td>\n      <td>25.0</td>\n      <td>M</td>\n      <td>B</td>\n      <td>Houston</td>\n      <td>TX</td>\n      <td>False</td>\n      <td>attack</td>\n      <td>Not fleeing</td>\n      <td>False</td>\n    </tr>\n    <tr>\n      <th>2141</th>\n      <td>2394</td>\n      <td>Christopher Redding</td>\n      <td>2017-02-28</td>\n      <td>shot</td>\n      <td>gun</td>\n      <td>20.0</td>\n      <td>M</td>\n      <td>B</td>\n      <td>Orlando</td>\n      <td>FL</td>\n      <td>False</td>\n      <td>attack</td>\n      <td>Foot</td>\n      <td>False</td>\n    </tr>\n  </tbody>\n</table>\n<p>2142 rows × 14 columns</p>\n</div>"
     },
     "execution_count": 58,
     "metadata": {},
     "output_type": "execute_result"
    }
   ],
   "source": [
    "db"
   ],
   "metadata": {
    "collapsed": false,
    "ExecuteTime": {
     "end_time": "2024-03-01T15:09:55.148247300Z",
     "start_time": "2024-03-01T15:09:55.069993600Z"
    }
   },
   "id": "53276f1f8aca6c5e",
   "execution_count": 58
  },
  {
   "cell_type": "markdown",
   "source": [
    "# 2. Quick Exploration & Data Cleaning\n",
    "\n",
    "## 2.1 Missing values\n",
    "\n",
    "Summary:\n",
    "After locating the missing values, quick visualization and exploration were \n",
    "applied to understand the which are the best treatments. There are too \n",
    "many missing values and rows containing missing values, therefore \n",
    "imputation method was used in most cases. For columns \"name\" and \"race\", due\n",
    "to its irrelevance and complication to impute data, missing data are not \n",
    "treated."
   ],
   "metadata": {
    "collapsed": false
   },
   "id": "6e2870ab17a6ef24"
  },
  {
   "cell_type": "markdown",
   "source": [
    "1. Is there any empty values?"
   ],
   "metadata": {
    "collapsed": false
   },
   "id": "b3fa9e72ea3a7ea2"
  },
  {
   "cell_type": "code",
   "outputs": [
    {
     "data": {
      "text/plain": "id                         False\nname                        True\ndate                       False\nmanner_of_death            False\narmed                       True\nage                         True\ngender                      True\nrace                        True\ncity                       False\nstate                      False\nsigns_of_mental_illness    False\nthreat_level               False\nflee                        True\nbody_camera                False\ndtype: bool"
     },
     "execution_count": 59,
     "metadata": {},
     "output_type": "execute_result"
    }
   ],
   "source": [
    "db.isnull().any()"
   ],
   "metadata": {
    "collapsed": false,
    "ExecuteTime": {
     "end_time": "2024-03-01T15:09:55.197336600Z",
     "start_time": "2024-03-01T15:09:55.152238100Z"
    }
   },
   "id": "f3cd608f1eab4673",
   "execution_count": 59
  },
  {
   "cell_type": "markdown",
   "source": [
    "2. How many empty values are there?"
   ],
   "metadata": {
    "collapsed": false
   },
   "id": "4e162d01dd2995a1"
  },
  {
   "cell_type": "code",
   "outputs": [
    {
     "data": {
      "text/plain": "208"
     },
     "execution_count": 60,
     "metadata": {},
     "output_type": "execute_result"
    }
   ],
   "source": [
    "db.isnull().sum().sum()"
   ],
   "metadata": {
    "collapsed": false,
    "ExecuteTime": {
     "end_time": "2024-03-01T15:09:55.318305700Z",
     "start_time": "2024-03-01T15:09:55.178308400Z"
    }
   },
   "id": "1fec106228731b01",
   "execution_count": 60
  },
  {
   "cell_type": "code",
   "outputs": [
    {
     "data": {
      "text/plain": "id                           0\nname                        19\ndate                         0\nmanner_of_death              0\narmed                        6\nage                         43\ngender                       1\nrace                       103\ncity                         0\nstate                        0\nsigns_of_mental_illness      0\nthreat_level                 0\nflee                        36\nbody_camera                  0\ndtype: int64"
     },
     "execution_count": 71,
     "metadata": {},
     "output_type": "execute_result"
    }
   ],
   "source": [
    "empty_values = db.isnull().sum()\n",
    "empty_values"
   ],
   "metadata": {
    "collapsed": false,
    "ExecuteTime": {
     "end_time": "2024-03-02T11:49:53.702391700Z",
     "start_time": "2024-03-02T11:49:53.630584Z"
    }
   },
   "id": "b72f68b1751443b2",
   "execution_count": 71
  },
  {
   "cell_type": "code",
   "outputs": [
    {
     "data": {
      "text/plain": "([0, 1, 2, 3, 4, 5, 6, 7, 8, 9, 10, 11, 12, 13],\n [Text(0, 0, 'race'),\n  Text(1, 0, 'age'),\n  Text(2, 0, 'flee'),\n  Text(3, 0, 'name'),\n  Text(4, 0, 'armed'),\n  Text(5, 0, 'gender'),\n  Text(6, 0, 'id'),\n  Text(7, 0, 'date'),\n  Text(8, 0, 'manner_of_death'),\n  Text(9, 0, 'city'),\n  Text(10, 0, 'state'),\n  Text(11, 0, 'signs_of_mental_illness'),\n  Text(12, 0, 'threat_level'),\n  Text(13, 0, 'body_camera')])"
     },
     "execution_count": 88,
     "metadata": {},
     "output_type": "execute_result"
    },
    {
     "data": {
      "text/plain": "<Figure size 500x250 with 1 Axes>",
      "image/png": "[encoded data removed]"
     },
     "metadata": {},
     "output_type": "display_data"
    }
   ],
   "source": [
    "empty_values_df = empty_values.reset_index()\n",
    "empty_values_df.columns = [\"column_name\", \"count\"]\n",
    "empty_values_df_ordered = empty_values_df.sort_values(\n",
    "    \"count\", ascending=False)\n",
    "\n",
    "plt.figure(figsize=(5, 2.5))\n",
    "sns.barplot(data=empty_values_df_ordered, \n",
    "            x=empty_values_df_ordered[\"column_name\"], \n",
    "            y=empty_values_df_ordered[\"count\"])\n",
    "plt.xticks(rotation=90)          "
   ],
   "metadata": {
    "collapsed": false,
    "ExecuteTime": {
     "end_time": "2024-03-02T18:12:26.529498300Z",
     "start_time": "2024-03-02T18:12:25.413693500Z"
    }
   },
   "id": "90da132b6499fa74",
   "execution_count": 88
  },
  {
   "cell_type": "markdown",
   "source": [
    "3. How many rows with empty values?"
   ],
   "metadata": {
    "collapsed": false
   },
   "id": "368d9c0b5a8473fc"
  },
  {
   "cell_type": "code",
   "outputs": [
    {
     "data": {
      "text/plain": "        id                  name        date   manner_of_death  \\\n59     110      William Campbell  2015-01-25              shot   \n124    584     Alejandro Salazar  2015-02-20              shot   \n241    244    John Marcell Allen  2015-03-30              shot   \n266    534            Mark Smith  2015-04-09  shot and Tasered   \n340    433            Joseph Roy  2015-05-07              shot   \n...    ...                   ...         ...               ...   \n2100  2345         Mauro Garnica  2017-02-15              shot   \n2125  2373     Kenneth Robertson  2017-02-23              shot   \n2132  2383  Lorenzo Antoine Cruz  2017-02-25              shot   \n2133  2384                   NaN  2017-02-25              shot   \n2134  2379         Jacob Taulbee  2017-02-26              shot   \n\n               armed   age gender race           city state  \\\n59               gun  59.0      M  NaN        Winslow    NJ   \n124              gun   NaN      M    H        Houston    TX   \n241              gun  54.0      M  NaN   Boulder City    NV   \n266          vehicle  54.0      M  NaN     Kellyville    OK   \n340            knife  72.0      M  NaN  Lawrenceville    GA   \n...              ...   ...    ...  ...            ...   ...   \n2100  unknown weapon  55.0      M  NaN         Newman    CA   \n2125             gun  54.0      M  NaN        Fairfax    OK   \n2132      toy weapon  23.0      M  NaN        Rocklin    CA   \n2133             gun   NaN    NaN  NaN        Lumpkin    GA   \n2134           knife   NaN      M    W      Englewood    FL   \n\n      signs_of_mental_illness threat_level         flee  body_camera  \n59                      False       attack  Not fleeing        False  \n124                     False       attack          Car        False  \n241                     False       attack  Not fleeing        False  \n266                     False       attack        Other        False  \n340                      True        other  Not fleeing        False  \n...                       ...          ...          ...          ...  \n2100                    False       attack  Not fleeing        False  \n2125                    False       attack  Not fleeing        False  \n2132                    False       attack         Foot        False  \n2133                    False       attack          Car        False  \n2134                    False        other  Not fleeing        False  \n\n[156 rows x 14 columns]",
      "text/html": "<div>\n<style scoped>\n    .dataframe tbody tr th:only-of-type {\n        vertical-align: middle;\n    }\n\n    .dataframe tbody tr th {\n        vertical-align: top;\n    }\n\n    .dataframe thead th {\n        text-align: right;\n    }\n</style>\n<table border=\"1\" class=\"dataframe\">\n  <thead>\n    <tr style=\"text-align: right;\">\n      <th></th>\n      <th>id</th>\n      <th>name</th>\n      <th>date</th>\n      <th>manner_of_death</th>\n      <th>armed</th>\n      <th>age</th>\n      <th>gender</th>\n      <th>race</th>\n      <th>city</th>\n      <th>state</th>\n      <th>signs_of_mental_illness</th>\n      <th>threat_level</th>\n      <th>flee</th>\n      <th>body_camera</th>\n    </tr>\n  </thead>\n  <tbody>\n    <tr>\n      <th>59</th>\n      <td>110</td>\n      <td>William Campbell</td>\n      <td>2015-01-25</td>\n      <td>shot</td>\n      <td>gun</td>\n      <td>59.0</td>\n      <td>M</td>\n      <td>NaN</td>\n      <td>Winslow</td>\n      <td>NJ</td>\n      <td>False</td>\n      <td>attack</td>\n      <td>Not fleeing</td>\n      <td>False</td>\n    </tr>\n    <tr>\n      <th>124</th>\n      <td>584</td>\n      <td>Alejandro Salazar</td>\n      <td>2015-02-20</td>\n      <td>shot</td>\n      <td>gun</td>\n      <td>NaN</td>\n      <td>M</td>\n      <td>H</td>\n      <td>Houston</td>\n      <td>TX</td>\n      <td>False</td>\n      <td>attack</td>\n      <td>Car</td>\n      <td>False</td>\n    </tr>\n    <tr>\n      <th>241</th>\n      <td>244</td>\n      <td>John Marcell Allen</td>\n      <td>2015-03-30</td>\n      <td>shot</td>\n      <td>gun</td>\n      <td>54.0</td>\n      <td>M</td>\n      <td>NaN</td>\n      <td>Boulder City</td>\n      <td>NV</td>\n      <td>False</td>\n      <td>attack</td>\n      <td>Not fleeing</td>\n      <td>False</td>\n    </tr>\n    <tr>\n      <th>266</th>\n      <td>534</td>\n      <td>Mark Smith</td>\n      <td>2015-04-09</td>\n      <td>shot and Tasered</td>\n      <td>vehicle</td>\n      <td>54.0</td>\n      <td>M</td>\n      <td>NaN</td>\n      <td>Kellyville</td>\n      <td>OK</td>\n      <td>False</td>\n      <td>attack</td>\n      <td>Other</td>\n      <td>False</td>\n    </tr>\n    <tr>\n      <th>340</th>\n      <td>433</td>\n      <td>Joseph Roy</td>\n      <td>2015-05-07</td>\n      <td>shot</td>\n      <td>knife</td>\n      <td>72.0</td>\n      <td>M</td>\n      <td>NaN</td>\n      <td>Lawrenceville</td>\n      <td>GA</td>\n      <td>True</td>\n      <td>other</td>\n      <td>Not fleeing</td>\n      <td>False</td>\n    </tr>\n    <tr>\n      <th>...</th>\n      <td>...</td>\n      <td>...</td>\n      <td>...</td>\n      <td>...</td>\n      <td>...</td>\n      <td>...</td>\n      <td>...</td>\n      <td>...</td>\n      <td>...</td>\n      <td>...</td>\n      <td>...</td>\n      <td>...</td>\n      <td>...</td>\n      <td>...</td>\n    </tr>\n    <tr>\n      <th>2100</th>\n      <td>2345</td>\n      <td>Mauro Garnica</td>\n      <td>2017-02-15</td>\n      <td>shot</td>\n      <td>unknown weapon</td>\n      <td>55.0</td>\n      <td>M</td>\n      <td>NaN</td>\n      <td>Newman</td>\n      <td>CA</td>\n      <td>False</td>\n      <td>attack</td>\n      <td>Not fleeing</td>\n      <td>False</td>\n    </tr>\n    <tr>\n      <th>2125</th>\n      <td>2373</td>\n      <td>Kenneth Robertson</td>\n      <td>2017-02-23</td>\n      <td>shot</td>\n      <td>gun</td>\n      <td>54.0</td>\n      <td>M</td>\n      <td>NaN</td>\n      <td>Fairfax</td>\n      <td>OK</td>\n      <td>False</td>\n      <td>attack</td>\n      <td>Not fleeing</td>\n      <td>False</td>\n    </tr>\n    <tr>\n      <th>2132</th>\n      <td>2383</td>\n      <td>Lorenzo Antoine Cruz</td>\n      <td>2017-02-25</td>\n      <td>shot</td>\n      <td>toy weapon</td>\n      <td>23.0</td>\n      <td>M</td>\n      <td>NaN</td>\n      <td>Rocklin</td>\n      <td>CA</td>\n      <td>False</td>\n      <td>attack</td>\n      <td>Foot</td>\n      <td>False</td>\n    </tr>\n    <tr>\n      <th>2133</th>\n      <td>2384</td>\n      <td>NaN</td>\n      <td>2017-02-25</td>\n      <td>shot</td>\n      <td>gun</td>\n      <td>NaN</td>\n      <td>NaN</td>\n      <td>NaN</td>\n      <td>Lumpkin</td>\n      <td>GA</td>\n      <td>False</td>\n      <td>attack</td>\n      <td>Car</td>\n      <td>False</td>\n    </tr>\n    <tr>\n      <th>2134</th>\n      <td>2379</td>\n      <td>Jacob Taulbee</td>\n      <td>2017-02-26</td>\n      <td>shot</td>\n      <td>knife</td>\n      <td>NaN</td>\n      <td>M</td>\n      <td>W</td>\n      <td>Englewood</td>\n      <td>FL</td>\n      <td>False</td>\n      <td>other</td>\n      <td>Not fleeing</td>\n      <td>False</td>\n    </tr>\n  </tbody>\n</table>\n<p>156 rows × 14 columns</p>\n</div>"
     },
     "execution_count": 62,
     "metadata": {},
     "output_type": "execute_result"
    }
   ],
   "source": [
    "rows_with_emtpy = db[db.isnull().any(axis=1)]\n",
    "rows_with_emtpy"
   ],
   "metadata": {
    "collapsed": false,
    "ExecuteTime": {
     "end_time": "2024-03-01T15:09:55.372288800Z",
     "start_time": "2024-03-01T15:09:55.223876500Z"
    }
   },
   "id": "327a3d78272ed697",
   "execution_count": 62
  },
  {
   "cell_type": "code",
   "outputs": [
    {
     "data": {
      "text/plain": "156"
     },
     "execution_count": 79,
     "metadata": {},
     "output_type": "execute_result"
    }
   ],
   "source": [
    "number_rows = rows_with_emtpy.shape[0]\n",
    "number_rows"
   ],
   "metadata": {
    "collapsed": false,
    "ExecuteTime": {
     "end_time": "2024-03-02T12:27:39.380095400Z",
     "start_time": "2024-03-02T12:27:39.327975Z"
    }
   },
   "id": "bb8128edb7097460",
   "execution_count": 79
  },
  {
   "cell_type": "markdown",
   "source": [
    "4. What is the percentage of rows containing missing values out of all rows?"
   ],
   "metadata": {
    "collapsed": false
   },
   "id": "545da1f35a49b3db"
  },
  {
   "cell_type": "code",
   "outputs": [
    {
     "data": {
      "text/plain": "0.07282913165266107"
     },
     "execution_count": 81,
     "metadata": {},
     "output_type": "execute_result"
    }
   ],
   "source": [
    "db_rows = db.shape[0]\n",
    "number_rows/db_rows"
   ],
   "metadata": {
    "collapsed": false,
    "ExecuteTime": {
     "end_time": "2024-03-02T12:34:22.470324200Z",
     "start_time": "2024-03-02T12:34:22.426380700Z"
    }
   },
   "id": "bd2230e9060e8d30",
   "execution_count": 81
  },
  {
   "cell_type": "markdown",
   "source": [
    "7% is too much data to delete. Can not simply delete rows containing empty \n",
    "values."
   ],
   "metadata": {
    "collapsed": false
   },
   "id": "ab0c8d8468f8e286"
  },
  {
   "cell_type": "markdown",
   "source": [
    "5. What is the percentage of missing values in each column?"
   ],
   "metadata": {
    "collapsed": false
   },
   "id": "2bef71020f878c4"
  },
  {
   "cell_type": "code",
   "outputs": [
    {
     "data": {
      "text/plain": "                column_name  count         %\n0                        id      0  0.000000\n1                      name     19  0.887021\n2                      date      0  0.000000\n3           manner_of_death      0  0.000000\n4                     armed      6  0.280112\n5                       age     43  2.007470\n6                    gender      1  0.046685\n7                      race    103  4.808590\n8                      city      0  0.000000\n9                     state      0  0.000000\n10  signs_of_mental_illness      0  0.000000\n11             threat_level      0  0.000000\n12                     flee     36  1.680672\n13              body_camera      0  0.000000",
      "text/html": "<div>\n<style scoped>\n    .dataframe tbody tr th:only-of-type {\n        vertical-align: middle;\n    }\n\n    .dataframe tbody tr th {\n        vertical-align: top;\n    }\n\n    .dataframe thead th {\n        text-align: right;\n    }\n</style>\n<table border=\"1\" class=\"dataframe\">\n  <thead>\n    <tr style=\"text-align: right;\">\n      <th></th>\n      <th>column_name</th>\n      <th>count</th>\n      <th>%</th>\n    </tr>\n  </thead>\n  <tbody>\n    <tr>\n      <th>0</th>\n      <td>id</td>\n      <td>0</td>\n      <td>0.000000</td>\n    </tr>\n    <tr>\n      <th>1</th>\n      <td>name</td>\n      <td>19</td>\n      <td>0.887021</td>\n    </tr>\n    <tr>\n      <th>2</th>\n      <td>date</td>\n      <td>0</td>\n      <td>0.000000</td>\n    </tr>\n    <tr>\n      <th>3</th>\n      <td>manner_of_death</td>\n      <td>0</td>\n      <td>0.000000</td>\n    </tr>\n    <tr>\n      <th>4</th>\n      <td>armed</td>\n      <td>6</td>\n      <td>0.280112</td>\n    </tr>\n    <tr>\n      <th>5</th>\n      <td>age</td>\n      <td>43</td>\n      <td>2.007470</td>\n    </tr>\n    <tr>\n      <th>6</th>\n      <td>gender</td>\n      <td>1</td>\n      <td>0.046685</td>\n    </tr>\n    <tr>\n      <th>7</th>\n      <td>race</td>\n      <td>103</td>\n      <td>4.808590</td>\n    </tr>\n    <tr>\n      <th>8</th>\n      <td>city</td>\n      <td>0</td>\n      <td>0.000000</td>\n    </tr>\n    <tr>\n      <th>9</th>\n      <td>state</td>\n      <td>0</td>\n      <td>0.000000</td>\n    </tr>\n    <tr>\n      <th>10</th>\n      <td>signs_of_mental_illness</td>\n      <td>0</td>\n      <td>0.000000</td>\n    </tr>\n    <tr>\n      <th>11</th>\n      <td>threat_level</td>\n      <td>0</td>\n      <td>0.000000</td>\n    </tr>\n    <tr>\n      <th>12</th>\n      <td>flee</td>\n      <td>36</td>\n      <td>1.680672</td>\n    </tr>\n    <tr>\n      <th>13</th>\n      <td>body_camera</td>\n      <td>0</td>\n      <td>0.000000</td>\n    </tr>\n  </tbody>\n</table>\n</div>"
     },
     "execution_count": 89,
     "metadata": {},
     "output_type": "execute_result"
    }
   ],
   "source": [
    "empty_values_df[\"%\"] = empty_values_df[\"count\"]*100/db_rows\n",
    "empty_values_df"
   ],
   "metadata": {
    "collapsed": false,
    "ExecuteTime": {
     "end_time": "2024-03-02T18:12:40.891208300Z",
     "start_time": "2024-03-02T18:12:40.666621200Z"
    }
   },
   "id": "9d590a8f4f1759db",
   "execution_count": 89
  },
  {
   "cell_type": "markdown",
   "source": [
    "No column has enough missing values to be removing the whole column.\n",
    "\n",
    "### Imputation (mean, median, mode)\n",
    "Instead of deleting data, we will leave name and race as it is and impute \n",
    "data for the rest: age, flee, armed, gender.\n",
    "Visualizing the distribution will help pick which imputation method affects \n",
    "the least our data analysis. "
   ],
   "metadata": {
    "collapsed": false
   },
   "id": "ed89e08788c51176"
  },
  {
   "cell_type": "markdown",
   "source": [
    "6. How may unique values for *armed*, *age*, *gender*, *flee* ? "
   ],
   "metadata": {
    "collapsed": false
   },
   "id": "85a9d8838e4f593d"
  },
  {
   "cell_type": "code",
   "outputs": [
    {
     "data": {
      "text/plain": "64"
     },
     "execution_count": 118,
     "metadata": {},
     "output_type": "execute_result"
    }
   ],
   "source": [
    "db[\"armed\"].nunique()"
   ],
   "metadata": {
    "collapsed": false,
    "ExecuteTime": {
     "end_time": "2024-03-02T19:13:13.063353900Z",
     "start_time": "2024-03-02T19:13:12.792110300Z"
    }
   },
   "id": "24dcdc2e00ee45c2",
   "execution_count": 118
  },
  {
   "cell_type": "code",
   "outputs": [
    {
     "data": {
      "text/plain": "71"
     },
     "execution_count": 119,
     "metadata": {},
     "output_type": "execute_result"
    }
   ],
   "source": [
    "db[\"age\"].nunique()"
   ],
   "metadata": {
    "collapsed": false,
    "ExecuteTime": {
     "end_time": "2024-03-02T19:13:31.052762400Z",
     "start_time": "2024-03-02T19:13:30.733952900Z"
    }
   },
   "id": "4f3f470a77a01593",
   "execution_count": 119
  },
  {
   "cell_type": "code",
   "outputs": [
    {
     "data": {
      "text/plain": "2"
     },
     "execution_count": 120,
     "metadata": {},
     "output_type": "execute_result"
    }
   ],
   "source": [
    "db[\"gender\"].nunique()"
   ],
   "metadata": {
    "collapsed": false,
    "ExecuteTime": {
     "end_time": "2024-03-02T19:13:51.713354400Z",
     "start_time": "2024-03-02T19:13:51.600873500Z"
    }
   },
   "id": "9d4e47710a322225",
   "execution_count": 120
  },
  {
   "cell_type": "code",
   "outputs": [
    {
     "data": {
      "text/plain": "4"
     },
     "execution_count": 121,
     "metadata": {},
     "output_type": "execute_result"
    }
   ],
   "source": [
    "db[\"flee\"].nunique()"
   ],
   "metadata": {
    "collapsed": false,
    "ExecuteTime": {
     "end_time": "2024-03-02T19:14:15.603546100Z",
     "start_time": "2024-03-02T19:14:15.343758600Z"
    }
   },
   "id": "f54635d0eac374bc",
   "execution_count": 121
  },
  {
   "cell_type": "markdown",
   "source": [
    "7. How many of each?"
   ],
   "metadata": {
    "collapsed": false
   },
   "id": "f34b645423181a77"
  },
  {
   "cell_type": "code",
   "outputs": [
    {
     "data": {
      "text/plain": "armed\ngun                                 1173\nknife                                319\nunarmed                              155\nvehicle                              136\nundetermined                         101\n                                    ... \nbean-bag gun                           1\nbaseball bat and fireplace poker       1\nstraight edge razor                    1\nhand torch                             1\npole and knife                         1\nName: count, Length: 64, dtype: int64"
     },
     "execution_count": 101,
     "metadata": {},
     "output_type": "execute_result"
    }
   ],
   "source": [
    "db.armed.value_counts()"
   ],
   "metadata": {
    "collapsed": false,
    "ExecuteTime": {
     "end_time": "2024-03-02T18:37:54.611513400Z",
     "start_time": "2024-03-02T18:37:54.496104800Z"
    }
   },
   "id": "7412f2da3c7bac19",
   "execution_count": 101
  },
  {
   "cell_type": "code",
   "outputs": [
    {
     "data": {
      "text/plain": "age\n25.0    85\n31.0    82\n36.0    79\n29.0    75\n26.0    65\n        ..\n80.0     1\n14.0     1\n82.0     1\n13.0     1\n73.0     1\nName: count, Length: 71, dtype: int64"
     },
     "execution_count": 102,
     "metadata": {},
     "output_type": "execute_result"
    }
   ],
   "source": [
    "db.age.value_counts()"
   ],
   "metadata": {
    "collapsed": false,
    "ExecuteTime": {
     "end_time": "2024-03-02T18:39:27.887664400Z",
     "start_time": "2024-03-02T18:39:27.814251400Z"
    }
   },
   "id": "e91ee71a45fb2335",
   "execution_count": 102
  },
  {
   "cell_type": "code",
   "outputs": [
    {
     "data": {
      "text/plain": "gender\nM    2052\nF      89\nName: count, dtype: int64"
     },
     "execution_count": 103,
     "metadata": {},
     "output_type": "execute_result"
    }
   ],
   "source": [
    "db.gender.value_counts()"
   ],
   "metadata": {
    "collapsed": false,
    "ExecuteTime": {
     "end_time": "2024-03-02T18:41:33.627175300Z",
     "start_time": "2024-03-02T18:41:33.529988500Z"
    }
   },
   "id": "f5548f9b5a8904d8",
   "execution_count": 103
  },
  {
   "cell_type": "code",
   "outputs": [
    {
     "data": {
      "text/plain": "flee\nNot fleeing    1453\nCar             318\nFoot            254\nOther            81\nName: count, dtype: int64"
     },
     "execution_count": 104,
     "metadata": {},
     "output_type": "execute_result"
    }
   ],
   "source": [
    "db.flee.value_counts()"
   ],
   "metadata": {
    "collapsed": false,
    "ExecuteTime": {
     "end_time": "2024-03-02T18:42:45.346590200Z",
     "start_time": "2024-03-02T18:42:45.290316300Z"
    }
   },
   "id": "ab99035af870720f",
   "execution_count": 104
  },
  {
   "cell_type": "markdown",
   "source": [
    "Visualizing it."
   ],
   "metadata": {
    "collapsed": false
   },
   "id": "c49c2efcb153ae62"
  },
  {
   "cell_type": "code",
   "outputs": [
    {
     "data": {
      "text/plain": "<Axes: xlabel='flee', ylabel='count'>"
     },
     "execution_count": 124,
     "metadata": {},
     "output_type": "execute_result"
    },
    {
     "data": {
      "text/plain": "<Figure size 1000x1000 with 4 Axes>",
      "image/png": "[encoded data removed]"
     },
     "metadata": {},
     "output_type": "display_data"
    }
   ],
   "source": [
    "fig = plt.figure(figsize=(10, 10))\n",
    "\n",
    "ax1 = plt.subplot(2, 2, 1)\n",
    "sns.countplot(data=db, x=db[\"armed\"])\n",
    "plt.xticks(rotation=90)\n",
    "\n",
    "ax2 = plt.subplot(2, 2, 2)\n",
    "sns.countplot(data=db, x=db[\"age\"])\n",
    "\n",
    "ax3 = plt.subplot(2, 2, 3)\n",
    "sns.countplot(data=db, x=db[\"gender\"])\n",
    "\n",
    "ax4 = plt.subplot(2, 2, 4)\n",
    "sns.countplot(data=db, x=db[\"flee\"])"
   ],
   "metadata": {
    "collapsed": false,
    "ExecuteTime": {
     "end_time": "2024-03-02T19:31:22.993155800Z",
     "start_time": "2024-03-02T19:31:17.943595700Z"
    }
   },
   "id": "5fdd4d7da474a53",
   "execution_count": 124
  },
  {
   "cell_type": "markdown",
   "source": [
    "## 2.2 Duplicates\n",
    "\n",
    "4. Is there any duplicated rows? "
   ],
   "metadata": {
    "collapsed": false
   },
   "id": "402d3c92901486b2"
  },
  {
   "cell_type": "code",
   "outputs": [
    {
     "data": {
      "text/plain": "False"
     },
     "execution_count": 70,
     "metadata": {},
     "output_type": "execute_result"
    }
   ],
   "source": [
    "db.duplicated().any()"
   ],
   "metadata": {
    "collapsed": false,
    "ExecuteTime": {
     "end_time": "2024-03-01T15:14:02.490215400Z",
     "start_time": "2024-03-01T15:14:02.450160300Z"
    }
   },
   "id": "a968d2f956aadfcd",
   "execution_count": 70
  },
  {
   "cell_type": "markdown",
   "source": [
    "5. Is there any same case/Id?"
   ],
   "metadata": {
    "collapsed": false
   },
   "id": "2618baa53a506cbf"
  },
  {
   "cell_type": "code",
   "outputs": [
    {
     "data": {
      "text/plain": "False"
     },
     "execution_count": 91,
     "metadata": {},
     "output_type": "execute_result"
    }
   ],
   "source": [
    "db.id.duplicated().any()"
   ],
   "metadata": {
    "collapsed": false,
    "ExecuteTime": {
     "end_time": "2024-03-02T18:17:54.156969200Z",
     "start_time": "2024-03-02T18:17:54.103208200Z"
    }
   },
   "id": "dc6a37dd0f047902",
   "execution_count": 91
  },
  {
   "cell_type": "markdown",
   "source": [
    "## 2.3 Inadequate Datatypes"
   ],
   "metadata": {
    "collapsed": false
   },
   "id": "83e91abde169e9c4"
  },
  {
   "cell_type": "code",
   "outputs": [
    {
     "name": "stdout",
     "output_type": "stream",
     "text": [
      "<class 'pandas.core.frame.DataFrame'>\n",
      "RangeIndex: 2142 entries, 0 to 2141\n",
      "Data columns (total 14 columns):\n",
      " #   Column                   Non-Null Count  Dtype  \n",
      "---  ------                   --------------  -----  \n",
      " 0   id                       2142 non-null   int64  \n",
      " 1   name                     2123 non-null   object \n",
      " 2   date                     2142 non-null   object \n",
      " 3   manner_of_death          2142 non-null   object \n",
      " 4   armed                    2136 non-null   object \n",
      " 5   age                      2099 non-null   float64\n",
      " 6   gender                   2141 non-null   object \n",
      " 7   race                     2039 non-null   object \n",
      " 8   city                     2142 non-null   object \n",
      " 9   state                    2142 non-null   object \n",
      " 10  signs_of_mental_illness  2142 non-null   bool   \n",
      " 11  threat_level             2142 non-null   object \n",
      " 12  flee                     2106 non-null   object \n",
      " 13  body_camera              2142 non-null   bool   \n",
      "dtypes: bool(2), float64(1), int64(1), object(10)\n",
      "memory usage: 205.1+ KB\n"
     ]
    }
   ],
   "source": [
    "db.info()"
   ],
   "metadata": {
    "collapsed": false,
    "ExecuteTime": {
     "end_time": "2024-03-01T15:09:55.429543800Z",
     "start_time": "2024-03-01T15:09:55.274200300Z"
    }
   },
   "id": "ea312d56d5e6b29f",
   "execution_count": 64
  },
  {
   "cell_type": "markdown",
   "source": [
    "Age and date datatypes are inadequate."
   ],
   "metadata": {
    "collapsed": false
   },
   "id": "35ec5d395eddd0eb"
  },
  {
   "cell_type": "markdown",
   "source": [
    "## 2.4 Others/Outliers/Data visualization"
   ],
   "metadata": {
    "collapsed": false
   },
   "id": "9d209ced053593e3"
  },
  {
   "cell_type": "code",
   "outputs": [
    {
     "data": {
      "text/plain": "(2142, 14)"
     },
     "execution_count": 65,
     "metadata": {},
     "output_type": "execute_result"
    }
   ],
   "source": [
    "db.shape"
   ],
   "metadata": {
    "collapsed": false,
    "ExecuteTime": {
     "end_time": "2024-03-01T15:09:55.429543800Z",
     "start_time": "2024-03-01T15:09:55.300804700Z"
    }
   },
   "id": "6ce3c2de25d54e7e",
   "execution_count": 65
  },
  {
   "cell_type": "code",
   "outputs": [
    {
     "data": {
      "text/plain": "2119"
     },
     "execution_count": 66,
     "metadata": {},
     "output_type": "execute_result"
    }
   ],
   "source": [
    "len(db.name.unique())"
   ],
   "metadata": {
    "collapsed": false,
    "ExecuteTime": {
     "end_time": "2024-03-01T15:09:55.430538200Z",
     "start_time": "2024-03-01T15:09:55.319335800Z"
    }
   },
   "id": "e825ec1e80a0dc0d",
   "execution_count": 66
  },
  {
   "cell_type": "code",
   "outputs": [],
   "source": [],
   "metadata": {
    "collapsed": false,
    "ExecuteTime": {
     "end_time": "2024-03-01T15:09:55.432535200Z",
     "start_time": "2024-03-01T15:09:55.336026100Z"
    }
   },
   "id": "becc722d3d75b02a",
   "execution_count": 66
  }
 ],
 "metadata": {
  "kernelspec": {
   "display_name": "Python 3",
   "language": "python",
   "name": "python3"
  },
  "language_info": {
   "codemirror_mode": {
    "name": "ipython",
    "version": 2
   },
   "file_extension": ".py",
   "mimetype": "text/x-python",
   "name": "python",
   "nbconvert_exporter": "python",
   "pygments_lexer": "ipython2",
   "version": "2.7.6"
  }
 },
 "nbformat": 4,
 "nbformat_minor": 5
}
