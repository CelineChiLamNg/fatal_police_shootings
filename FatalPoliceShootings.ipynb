{
 "cells": [
  {
   "cell_type": "markdown",
   "source": [
    "# Fatal Police Shootings\n",
    "\n",
    "*author: Celine Ng*"
   ],
   "metadata": {
    "collapsed": false
   },
   "id": "8de0a5b6bc3b2d6f"
  },
  {
   "cell_type": "markdown",
   "source": [
    "# 1. Import Libraries &  Data Retrieval"
   ],
   "metadata": {
    "collapsed": false
   },
   "id": "453e5c3d95494dff"
  },
  {
   "cell_type": "code",
   "outputs": [
    {
     "name": "stdout",
     "output_type": "stream",
     "text": [
      "Requirement already satisfied: pandas in d:\\acer\\documents\\data science\\turing\\capstone projects\\m1_cp\\fatalshooting\\.venv\\lib\\site-packages (2.2.1)\n",
      "Requirement already satisfied: numpy<2,>=1.22.4 in d:\\acer\\documents\\data science\\turing\\capstone projects\\m1_cp\\fatalshooting\\.venv\\lib\\site-packages (from pandas) (1.26.4)\n",
      "Requirement already satisfied: python-dateutil>=2.8.2 in d:\\acer\\documents\\data science\\turing\\capstone projects\\m1_cp\\fatalshooting\\.venv\\lib\\site-packages (from pandas) (2.8.2)\n",
      "Requirement already satisfied: pytz>=2020.1 in d:\\acer\\documents\\data science\\turing\\capstone projects\\m1_cp\\fatalshooting\\.venv\\lib\\site-packages (from pandas) (2024.1)\n",
      "Requirement already satisfied: tzdata>=2022.7 in d:\\acer\\documents\\data science\\turing\\capstone projects\\m1_cp\\fatalshooting\\.venv\\lib\\site-packages (from pandas) (2024.1)\n",
      "Requirement already satisfied: six>=1.5 in d:\\acer\\documents\\data science\\turing\\capstone projects\\m1_cp\\fatalshooting\\.venv\\lib\\site-packages (from python-dateutil>=2.8.2->pandas) (1.16.0)\n",
      "Requirement already satisfied: matplotlib in d:\\acer\\documents\\data science\\turing\\capstone projects\\m1_cp\\fatalshooting\\.venv\\lib\\site-packages (3.8.3)\n",
      "Requirement already satisfied: contourpy>=1.0.1 in d:\\acer\\documents\\data science\\turing\\capstone projects\\m1_cp\\fatalshooting\\.venv\\lib\\site-packages (from matplotlib) (1.2.0)\n",
      "Requirement already satisfied: cycler>=0.10 in d:\\acer\\documents\\data science\\turing\\capstone projects\\m1_cp\\fatalshooting\\.venv\\lib\\site-packages (from matplotlib) (0.12.1)\n",
      "Requirement already satisfied: fonttools>=4.22.0 in d:\\acer\\documents\\data science\\turing\\capstone projects\\m1_cp\\fatalshooting\\.venv\\lib\\site-packages (from matplotlib) (4.49.0)\n",
      "Requirement already satisfied: kiwisolver>=1.3.1 in d:\\acer\\documents\\data science\\turing\\capstone projects\\m1_cp\\fatalshooting\\.venv\\lib\\site-packages (from matplotlib) (1.4.5)\n",
      "Requirement already satisfied: numpy<2,>=1.21 in d:\\acer\\documents\\data science\\turing\\capstone projects\\m1_cp\\fatalshooting\\.venv\\lib\\site-packages (from matplotlib) (1.26.4)\n",
      "Requirement already satisfied: packaging>=20.0 in d:\\acer\\documents\\data science\\turing\\capstone projects\\m1_cp\\fatalshooting\\.venv\\lib\\site-packages (from matplotlib) (23.2)\n",
      "Requirement already satisfied: pillow>=8 in d:\\acer\\documents\\data science\\turing\\capstone projects\\m1_cp\\fatalshooting\\.venv\\lib\\site-packages (from matplotlib) (10.2.0)\n",
      "Requirement already satisfied: pyparsing>=2.3.1 in d:\\acer\\documents\\data science\\turing\\capstone projects\\m1_cp\\fatalshooting\\.venv\\lib\\site-packages (from matplotlib) (3.1.1)\n",
      "Requirement already satisfied: python-dateutil>=2.7 in d:\\acer\\documents\\data science\\turing\\capstone projects\\m1_cp\\fatalshooting\\.venv\\lib\\site-packages (from matplotlib) (2.8.2)\n",
      "Requirement already satisfied: six>=1.5 in d:\\acer\\documents\\data science\\turing\\capstone projects\\m1_cp\\fatalshooting\\.venv\\lib\\site-packages (from python-dateutil>=2.7->matplotlib) (1.16.0)\n",
      "Requirement already satisfied: seaborn in d:\\acer\\documents\\data science\\turing\\capstone projects\\m1_cp\\fatalshooting\\.venv\\lib\\site-packages (0.13.2)\n",
      "Requirement already satisfied: numpy!=1.24.0,>=1.20 in d:\\acer\\documents\\data science\\turing\\capstone projects\\m1_cp\\fatalshooting\\.venv\\lib\\site-packages (from seaborn) (1.26.4)\n",
      "Requirement already satisfied: pandas>=1.2 in d:\\acer\\documents\\data science\\turing\\capstone projects\\m1_cp\\fatalshooting\\.venv\\lib\\site-packages (from seaborn) (2.2.1)\n",
      "Requirement already satisfied: matplotlib!=3.6.1,>=3.4 in d:\\acer\\documents\\data science\\turing\\capstone projects\\m1_cp\\fatalshooting\\.venv\\lib\\site-packages (from seaborn) (3.8.3)\n",
      "Requirement already satisfied: contourpy>=1.0.1 in d:\\acer\\documents\\data science\\turing\\capstone projects\\m1_cp\\fatalshooting\\.venv\\lib\\site-packages (from matplotlib!=3.6.1,>=3.4->seaborn) (1.2.0)\n",
      "Requirement already satisfied: cycler>=0.10 in d:\\acer\\documents\\data science\\turing\\capstone projects\\m1_cp\\fatalshooting\\.venv\\lib\\site-packages (from matplotlib!=3.6.1,>=3.4->seaborn) (0.12.1)\n",
      "Requirement already satisfied: fonttools>=4.22.0 in d:\\acer\\documents\\data science\\turing\\capstone projects\\m1_cp\\fatalshooting\\.venv\\lib\\site-packages (from matplotlib!=3.6.1,>=3.4->seaborn) (4.49.0)\n",
      "Requirement already satisfied: kiwisolver>=1.3.1 in d:\\acer\\documents\\data science\\turing\\capstone projects\\m1_cp\\fatalshooting\\.venv\\lib\\site-packages (from matplotlib!=3.6.1,>=3.4->seaborn) (1.4.5)\n",
      "Requirement already satisfied: packaging>=20.0 in d:\\acer\\documents\\data science\\turing\\capstone projects\\m1_cp\\fatalshooting\\.venv\\lib\\site-packages (from matplotlib!=3.6.1,>=3.4->seaborn) (23.2)\n",
      "Requirement already satisfied: pillow>=8 in d:\\acer\\documents\\data science\\turing\\capstone projects\\m1_cp\\fatalshooting\\.venv\\lib\\site-packages (from matplotlib!=3.6.1,>=3.4->seaborn) (10.2.0)\n",
      "Requirement already satisfied: pyparsing>=2.3.1 in d:\\acer\\documents\\data science\\turing\\capstone projects\\m1_cp\\fatalshooting\\.venv\\lib\\site-packages (from matplotlib!=3.6.1,>=3.4->seaborn) (3.1.1)\n",
      "Requirement already satisfied: python-dateutil>=2.7 in d:\\acer\\documents\\data science\\turing\\capstone projects\\m1_cp\\fatalshooting\\.venv\\lib\\site-packages (from matplotlib!=3.6.1,>=3.4->seaborn) (2.8.2)\n",
      "Requirement already satisfied: pytz>=2020.1 in d:\\acer\\documents\\data science\\turing\\capstone projects\\m1_cp\\fatalshooting\\.venv\\lib\\site-packages (from pandas>=1.2->seaborn) (2024.1)\n",
      "Requirement already satisfied: tzdata>=2022.7 in d:\\acer\\documents\\data science\\turing\\capstone projects\\m1_cp\\fatalshooting\\.venv\\lib\\site-packages (from pandas>=1.2->seaborn) (2024.1)\n",
      "Requirement already satisfied: six>=1.5 in d:\\acer\\documents\\data science\\turing\\capstone projects\\m1_cp\\fatalshooting\\.venv\\lib\\site-packages (from python-dateutil>=2.7->matplotlib!=3.6.1,>=3.4->seaborn) (1.16.0)\n"
     ]
    }
   ],
   "source": [
    "!pip install pandas\n",
    "!pip install matplotlib\n",
    "!pip install seaborn"
   ],
   "metadata": {
    "collapsed": false,
    "ExecuteTime": {
     "end_time": "2024-03-01T15:09:55.003495900Z",
     "start_time": "2024-03-01T15:09:48.327560400Z"
    }
   },
   "id": "603d2a95b96c0031",
   "execution_count": 55
  },
  {
   "cell_type": "code",
   "outputs": [],
   "source": [
    "import pandas as pd\n",
    "import matplotlib.pyplot as plt\n",
    "import seaborn as sns"
   ],
   "metadata": {
    "collapsed": false,
    "ExecuteTime": {
     "end_time": "2024-03-01T15:09:55.035187Z",
     "start_time": "2024-03-01T15:09:55.009336300Z"
    }
   },
   "id": "b85f7b4c781b8672",
   "execution_count": 56
  },
  {
   "cell_type": "code",
   "outputs": [],
   "source": [
    "db = pd.read_csv(\"database.csv\")"
   ],
   "metadata": {
    "collapsed": false,
    "ExecuteTime": {
     "end_time": "2024-03-01T15:09:55.080040200Z",
     "start_time": "2024-03-01T15:09:55.025360200Z"
    }
   },
   "id": "b8741dd6175b25d2",
   "execution_count": 57
  },
  {
   "cell_type": "code",
   "outputs": [
    {
     "data": {
      "text/plain": "        id                 name        date   manner_of_death       armed  \\\n0        3           Tim Elliot  2015-01-02              shot         gun   \n1        4     Lewis Lee Lembke  2015-01-02              shot         gun   \n2        5   John Paul Quintero  2015-01-03  shot and Tasered     unarmed   \n3        8      Matthew Hoffman  2015-01-04              shot  toy weapon   \n4        9    Michael Rodriguez  2015-01-04              shot    nail gun   \n...    ...                  ...         ...               ...         ...   \n2137  2382   James Leroy Marker  2017-02-26              shot         gun   \n2138  2378      Joey J. Bridges  2017-02-27              shot         gun   \n2139  2391       Shawn M. Igers  2017-02-27              shot         gun   \n2140  2393           Earl Riley  2017-02-28              shot         gun   \n2141  2394  Christopher Redding  2017-02-28              shot         gun   \n\n       age gender race           city state  signs_of_mental_illness  \\\n0     53.0      M    A        Shelton    WA                     True   \n1     47.0      M    W          Aloha    OR                    False   \n2     23.0      M    H        Wichita    KS                    False   \n3     32.0      M    W  San Francisco    CA                     True   \n4     39.0      M    H          Evans    CO                    False   \n...    ...    ...  ...            ...   ...                      ...   \n2137  66.0      M    W    Floral City    FL                    False   \n2138  27.0      M    W         Shelby    NC                     True   \n2139  40.0      M    W        Corning    WI                    False   \n2140  25.0      M    B        Houston    TX                    False   \n2141  20.0      M    B        Orlando    FL                    False   \n\n     threat_level         flee  body_camera  \n0          attack  Not fleeing        False  \n1          attack  Not fleeing        False  \n2           other  Not fleeing        False  \n3          attack  Not fleeing        False  \n4          attack  Not fleeing        False  \n...           ...          ...          ...  \n2137        other          Car        False  \n2138       attack         Foot        False  \n2139       attack  Not fleeing        False  \n2140       attack  Not fleeing        False  \n2141       attack         Foot        False  \n\n[2142 rows x 14 columns]",
      "text/html": "<div>\n<style scoped>\n    .dataframe tbody tr th:only-of-type {\n        vertical-align: middle;\n    }\n\n    .dataframe tbody tr th {\n        vertical-align: top;\n    }\n\n    .dataframe thead th {\n        text-align: right;\n    }\n</style>\n<table border=\"1\" class=\"dataframe\">\n  <thead>\n    <tr style=\"text-align: right;\">\n      <th></th>\n      <th>id</th>\n      <th>name</th>\n      <th>date</th>\n      <th>manner_of_death</th>\n      <th>armed</th>\n      <th>age</th>\n      <th>gender</th>\n      <th>race</th>\n      <th>city</th>\n      <th>state</th>\n      <th>signs_of_mental_illness</th>\n      <th>threat_level</th>\n      <th>flee</th>\n      <th>body_camera</th>\n    </tr>\n  </thead>\n  <tbody>\n    <tr>\n      <th>0</th>\n      <td>3</td>\n      <td>Tim Elliot</td>\n      <td>2015-01-02</td>\n      <td>shot</td>\n      <td>gun</td>\n      <td>53.0</td>\n      <td>M</td>\n      <td>A</td>\n      <td>Shelton</td>\n      <td>WA</td>\n      <td>True</td>\n      <td>attack</td>\n      <td>Not fleeing</td>\n      <td>False</td>\n    </tr>\n    <tr>\n      <th>1</th>\n      <td>4</td>\n      <td>Lewis Lee Lembke</td>\n      <td>2015-01-02</td>\n      <td>shot</td>\n      <td>gun</td>\n      <td>47.0</td>\n      <td>M</td>\n      <td>W</td>\n      <td>Aloha</td>\n      <td>OR</td>\n      <td>False</td>\n      <td>attack</td>\n      <td>Not fleeing</td>\n      <td>False</td>\n    </tr>\n    <tr>\n      <th>2</th>\n      <td>5</td>\n      <td>John Paul Quintero</td>\n      <td>2015-01-03</td>\n      <td>shot and Tasered</td>\n      <td>unarmed</td>\n      <td>23.0</td>\n      <td>M</td>\n      <td>H</td>\n      <td>Wichita</td>\n      <td>KS</td>\n      <td>False</td>\n      <td>other</td>\n      <td>Not fleeing</td>\n      <td>False</td>\n    </tr>\n    <tr>\n      <th>3</th>\n      <td>8</td>\n      <td>Matthew Hoffman</td>\n      <td>2015-01-04</td>\n      <td>shot</td>\n      <td>toy weapon</td>\n      <td>32.0</td>\n      <td>M</td>\n      <td>W</td>\n      <td>San Francisco</td>\n      <td>CA</td>\n      <td>True</td>\n      <td>attack</td>\n      <td>Not fleeing</td>\n      <td>False</td>\n    </tr>\n    <tr>\n      <th>4</th>\n      <td>9</td>\n      <td>Michael Rodriguez</td>\n      <td>2015-01-04</td>\n      <td>shot</td>\n      <td>nail gun</td>\n      <td>39.0</td>\n      <td>M</td>\n      <td>H</td>\n      <td>Evans</td>\n      <td>CO</td>\n      <td>False</td>\n      <td>attack</td>\n      <td>Not fleeing</td>\n      <td>False</td>\n    </tr>\n    <tr>\n      <th>...</th>\n      <td>...</td>\n      <td>...</td>\n      <td>...</td>\n      <td>...</td>\n      <td>...</td>\n      <td>...</td>\n      <td>...</td>\n      <td>...</td>\n      <td>...</td>\n      <td>...</td>\n      <td>...</td>\n      <td>...</td>\n      <td>...</td>\n      <td>...</td>\n    </tr>\n    <tr>\n      <th>2137</th>\n      <td>2382</td>\n      <td>James Leroy Marker</td>\n      <td>2017-02-26</td>\n      <td>shot</td>\n      <td>gun</td>\n      <td>66.0</td>\n      <td>M</td>\n      <td>W</td>\n      <td>Floral City</td>\n      <td>FL</td>\n      <td>False</td>\n      <td>other</td>\n      <td>Car</td>\n      <td>False</td>\n    </tr>\n    <tr>\n      <th>2138</th>\n      <td>2378</td>\n      <td>Joey J. Bridges</td>\n      <td>2017-02-27</td>\n      <td>shot</td>\n      <td>gun</td>\n      <td>27.0</td>\n      <td>M</td>\n      <td>W</td>\n      <td>Shelby</td>\n      <td>NC</td>\n      <td>True</td>\n      <td>attack</td>\n      <td>Foot</td>\n      <td>False</td>\n    </tr>\n    <tr>\n      <th>2139</th>\n      <td>2391</td>\n      <td>Shawn M. Igers</td>\n      <td>2017-02-27</td>\n      <td>shot</td>\n      <td>gun</td>\n      <td>40.0</td>\n      <td>M</td>\n      <td>W</td>\n      <td>Corning</td>\n      <td>WI</td>\n      <td>False</td>\n      <td>attack</td>\n      <td>Not fleeing</td>\n      <td>False</td>\n    </tr>\n    <tr>\n      <th>2140</th>\n      <td>2393</td>\n      <td>Earl Riley</td>\n      <td>2017-02-28</td>\n      <td>shot</td>\n      <td>gun</td>\n      <td>25.0</td>\n      <td>M</td>\n      <td>B</td>\n      <td>Houston</td>\n      <td>TX</td>\n      <td>False</td>\n      <td>attack</td>\n      <td>Not fleeing</td>\n      <td>False</td>\n    </tr>\n    <tr>\n      <th>2141</th>\n      <td>2394</td>\n      <td>Christopher Redding</td>\n      <td>2017-02-28</td>\n      <td>shot</td>\n      <td>gun</td>\n      <td>20.0</td>\n      <td>M</td>\n      <td>B</td>\n      <td>Orlando</td>\n      <td>FL</td>\n      <td>False</td>\n      <td>attack</td>\n      <td>Foot</td>\n      <td>False</td>\n    </tr>\n  </tbody>\n</table>\n<p>2142 rows × 14 columns</p>\n</div>"
     },
     "execution_count": 58,
     "metadata": {},
     "output_type": "execute_result"
    }
   ],
   "source": [
    "db"
   ],
   "metadata": {
    "collapsed": false,
    "ExecuteTime": {
     "end_time": "2024-03-01T15:09:55.148247300Z",
     "start_time": "2024-03-01T15:09:55.069993600Z"
    }
   },
   "id": "53276f1f8aca6c5e",
   "execution_count": 58
  },
  {
   "cell_type": "markdown",
   "source": [
    "# 2. Quick Exploration & Data Cleaning\n",
    "\n",
    "## 2.1 Missing values"
   ],
   "metadata": {
    "collapsed": false
   },
   "id": "6e2870ab17a6ef24"
  },
  {
   "cell_type": "markdown",
   "source": [
    "1. Is there any empty values?"
   ],
   "metadata": {
    "collapsed": false
   },
   "id": "b3fa9e72ea3a7ea2"
  },
  {
   "cell_type": "code",
   "outputs": [
    {
     "data": {
      "text/plain": "id                         False\nname                        True\ndate                       False\nmanner_of_death            False\narmed                       True\nage                         True\ngender                      True\nrace                        True\ncity                       False\nstate                      False\nsigns_of_mental_illness    False\nthreat_level               False\nflee                        True\nbody_camera                False\ndtype: bool"
     },
     "execution_count": 59,
     "metadata": {},
     "output_type": "execute_result"
    }
   ],
   "source": [
    "db.isnull().any()"
   ],
   "metadata": {
    "collapsed": false,
    "ExecuteTime": {
     "end_time": "2024-03-01T15:09:55.197336600Z",
     "start_time": "2024-03-01T15:09:55.152238100Z"
    }
   },
   "id": "f3cd608f1eab4673",
   "execution_count": 59
  },
  {
   "cell_type": "markdown",
   "source": [
    "2. How many empty values are there?"
   ],
   "metadata": {
    "collapsed": false
   },
   "id": "4e162d01dd2995a1"
  },
  {
   "cell_type": "code",
   "outputs": [
    {
     "data": {
      "text/plain": "208"
     },
     "execution_count": 60,
     "metadata": {},
     "output_type": "execute_result"
    }
   ],
   "source": [
    "db.isnull().sum().sum()"
   ],
   "metadata": {
    "collapsed": false,
    "ExecuteTime": {
     "end_time": "2024-03-01T15:09:55.318305700Z",
     "start_time": "2024-03-01T15:09:55.178308400Z"
    }
   },
   "id": "1fec106228731b01",
   "execution_count": 60
  },
  {
   "cell_type": "code",
   "outputs": [
    {
     "data": {
      "text/plain": "id                           0\nname                        19\ndate                         0\nmanner_of_death              0\narmed                        6\nage                         43\ngender                       1\nrace                       103\ncity                         0\nstate                        0\nsigns_of_mental_illness      0\nthreat_level                 0\nflee                        36\nbody_camera                  0\ndtype: int64"
     },
     "execution_count": 61,
     "metadata": {},
     "output_type": "execute_result"
    }
   ],
   "source": [
    "db.isnull().sum()"
   ],
   "metadata": {
    "collapsed": false,
    "ExecuteTime": {
     "end_time": "2024-03-01T15:09:55.339045Z",
     "start_time": "2024-03-01T15:09:55.209773400Z"
    }
   },
   "id": "b72f68b1751443b2",
   "execution_count": 61
  },
  {
   "cell_type": "markdown",
   "source": [
    "3. How many rows with empty values?"
   ],
   "metadata": {
    "collapsed": false
   },
   "id": "368d9c0b5a8473fc"
  },
  {
   "cell_type": "code",
   "outputs": [
    {
     "data": {
      "text/plain": "        id                  name        date   manner_of_death  \\\n59     110      William Campbell  2015-01-25              shot   \n124    584     Alejandro Salazar  2015-02-20              shot   \n241    244    John Marcell Allen  2015-03-30              shot   \n266    534            Mark Smith  2015-04-09  shot and Tasered   \n340    433            Joseph Roy  2015-05-07              shot   \n...    ...                   ...         ...               ...   \n2100  2345         Mauro Garnica  2017-02-15              shot   \n2125  2373     Kenneth Robertson  2017-02-23              shot   \n2132  2383  Lorenzo Antoine Cruz  2017-02-25              shot   \n2133  2384                   NaN  2017-02-25              shot   \n2134  2379         Jacob Taulbee  2017-02-26              shot   \n\n               armed   age gender race           city state  \\\n59               gun  59.0      M  NaN        Winslow    NJ   \n124              gun   NaN      M    H        Houston    TX   \n241              gun  54.0      M  NaN   Boulder City    NV   \n266          vehicle  54.0      M  NaN     Kellyville    OK   \n340            knife  72.0      M  NaN  Lawrenceville    GA   \n...              ...   ...    ...  ...            ...   ...   \n2100  unknown weapon  55.0      M  NaN         Newman    CA   \n2125             gun  54.0      M  NaN        Fairfax    OK   \n2132      toy weapon  23.0      M  NaN        Rocklin    CA   \n2133             gun   NaN    NaN  NaN        Lumpkin    GA   \n2134           knife   NaN      M    W      Englewood    FL   \n\n      signs_of_mental_illness threat_level         flee  body_camera  \n59                      False       attack  Not fleeing        False  \n124                     False       attack          Car        False  \n241                     False       attack  Not fleeing        False  \n266                     False       attack        Other        False  \n340                      True        other  Not fleeing        False  \n...                       ...          ...          ...          ...  \n2100                    False       attack  Not fleeing        False  \n2125                    False       attack  Not fleeing        False  \n2132                    False       attack         Foot        False  \n2133                    False       attack          Car        False  \n2134                    False        other  Not fleeing        False  \n\n[156 rows x 14 columns]",
      "text/html": "<div>\n<style scoped>\n    .dataframe tbody tr th:only-of-type {\n        vertical-align: middle;\n    }\n\n    .dataframe tbody tr th {\n        vertical-align: top;\n    }\n\n    .dataframe thead th {\n        text-align: right;\n    }\n</style>\n<table border=\"1\" class=\"dataframe\">\n  <thead>\n    <tr style=\"text-align: right;\">\n      <th></th>\n      <th>id</th>\n      <th>name</th>\n      <th>date</th>\n      <th>manner_of_death</th>\n      <th>armed</th>\n      <th>age</th>\n      <th>gender</th>\n      <th>race</th>\n      <th>city</th>\n      <th>state</th>\n      <th>signs_of_mental_illness</th>\n      <th>threat_level</th>\n      <th>flee</th>\n      <th>body_camera</th>\n    </tr>\n  </thead>\n  <tbody>\n    <tr>\n      <th>59</th>\n      <td>110</td>\n      <td>William Campbell</td>\n      <td>2015-01-25</td>\n      <td>shot</td>\n      <td>gun</td>\n      <td>59.0</td>\n      <td>M</td>\n      <td>NaN</td>\n      <td>Winslow</td>\n      <td>NJ</td>\n      <td>False</td>\n      <td>attack</td>\n      <td>Not fleeing</td>\n      <td>False</td>\n    </tr>\n    <tr>\n      <th>124</th>\n      <td>584</td>\n      <td>Alejandro Salazar</td>\n      <td>2015-02-20</td>\n      <td>shot</td>\n      <td>gun</td>\n      <td>NaN</td>\n      <td>M</td>\n      <td>H</td>\n      <td>Houston</td>\n      <td>TX</td>\n      <td>False</td>\n      <td>attack</td>\n      <td>Car</td>\n      <td>False</td>\n    </tr>\n    <tr>\n      <th>241</th>\n      <td>244</td>\n      <td>John Marcell Allen</td>\n      <td>2015-03-30</td>\n      <td>shot</td>\n      <td>gun</td>\n      <td>54.0</td>\n      <td>M</td>\n      <td>NaN</td>\n      <td>Boulder City</td>\n      <td>NV</td>\n      <td>False</td>\n      <td>attack</td>\n      <td>Not fleeing</td>\n      <td>False</td>\n    </tr>\n    <tr>\n      <th>266</th>\n      <td>534</td>\n      <td>Mark Smith</td>\n      <td>2015-04-09</td>\n      <td>shot and Tasered</td>\n      <td>vehicle</td>\n      <td>54.0</td>\n      <td>M</td>\n      <td>NaN</td>\n      <td>Kellyville</td>\n      <td>OK</td>\n      <td>False</td>\n      <td>attack</td>\n      <td>Other</td>\n      <td>False</td>\n    </tr>\n    <tr>\n      <th>340</th>\n      <td>433</td>\n      <td>Joseph Roy</td>\n      <td>2015-05-07</td>\n      <td>shot</td>\n      <td>knife</td>\n      <td>72.0</td>\n      <td>M</td>\n      <td>NaN</td>\n      <td>Lawrenceville</td>\n      <td>GA</td>\n      <td>True</td>\n      <td>other</td>\n      <td>Not fleeing</td>\n      <td>False</td>\n    </tr>\n    <tr>\n      <th>...</th>\n      <td>...</td>\n      <td>...</td>\n      <td>...</td>\n      <td>...</td>\n      <td>...</td>\n      <td>...</td>\n      <td>...</td>\n      <td>...</td>\n      <td>...</td>\n      <td>...</td>\n      <td>...</td>\n      <td>...</td>\n      <td>...</td>\n      <td>...</td>\n    </tr>\n    <tr>\n      <th>2100</th>\n      <td>2345</td>\n      <td>Mauro Garnica</td>\n      <td>2017-02-15</td>\n      <td>shot</td>\n      <td>unknown weapon</td>\n      <td>55.0</td>\n      <td>M</td>\n      <td>NaN</td>\n      <td>Newman</td>\n      <td>CA</td>\n      <td>False</td>\n      <td>attack</td>\n      <td>Not fleeing</td>\n      <td>False</td>\n    </tr>\n    <tr>\n      <th>2125</th>\n      <td>2373</td>\n      <td>Kenneth Robertson</td>\n      <td>2017-02-23</td>\n      <td>shot</td>\n      <td>gun</td>\n      <td>54.0</td>\n      <td>M</td>\n      <td>NaN</td>\n      <td>Fairfax</td>\n      <td>OK</td>\n      <td>False</td>\n      <td>attack</td>\n      <td>Not fleeing</td>\n      <td>False</td>\n    </tr>\n    <tr>\n      <th>2132</th>\n      <td>2383</td>\n      <td>Lorenzo Antoine Cruz</td>\n      <td>2017-02-25</td>\n      <td>shot</td>\n      <td>toy weapon</td>\n      <td>23.0</td>\n      <td>M</td>\n      <td>NaN</td>\n      <td>Rocklin</td>\n      <td>CA</td>\n      <td>False</td>\n      <td>attack</td>\n      <td>Foot</td>\n      <td>False</td>\n    </tr>\n    <tr>\n      <th>2133</th>\n      <td>2384</td>\n      <td>NaN</td>\n      <td>2017-02-25</td>\n      <td>shot</td>\n      <td>gun</td>\n      <td>NaN</td>\n      <td>NaN</td>\n      <td>NaN</td>\n      <td>Lumpkin</td>\n      <td>GA</td>\n      <td>False</td>\n      <td>attack</td>\n      <td>Car</td>\n      <td>False</td>\n    </tr>\n    <tr>\n      <th>2134</th>\n      <td>2379</td>\n      <td>Jacob Taulbee</td>\n      <td>2017-02-26</td>\n      <td>shot</td>\n      <td>knife</td>\n      <td>NaN</td>\n      <td>M</td>\n      <td>W</td>\n      <td>Englewood</td>\n      <td>FL</td>\n      <td>False</td>\n      <td>other</td>\n      <td>Not fleeing</td>\n      <td>False</td>\n    </tr>\n  </tbody>\n</table>\n<p>156 rows × 14 columns</p>\n</div>"
     },
     "execution_count": 62,
     "metadata": {},
     "output_type": "execute_result"
    }
   ],
   "source": [
    "rows_with_emtpy = db[db.isnull().any(axis=1)]\n",
    "rows_with_emtpy"
   ],
   "metadata": {
    "collapsed": false,
    "ExecuteTime": {
     "end_time": "2024-03-01T15:09:55.372288800Z",
     "start_time": "2024-03-01T15:09:55.223876500Z"
    }
   },
   "id": "327a3d78272ed697",
   "execution_count": 62
  },
  {
   "cell_type": "code",
   "outputs": [
    {
     "data": {
      "text/plain": "156"
     },
     "execution_count": 63,
     "metadata": {},
     "output_type": "execute_result"
    }
   ],
   "source": [
    "rows_with_emtpy.shape[0]"
   ],
   "metadata": {
    "collapsed": false,
    "ExecuteTime": {
     "end_time": "2024-03-01T15:09:55.373284900Z",
     "start_time": "2024-03-01T15:09:55.253736200Z"
    }
   },
   "id": "bb8128edb7097460",
   "execution_count": 63
  },
  {
   "cell_type": "markdown",
   "source": [
    "## 2.2 Duplicates\n",
    "\n",
    "4. Is there any duplicated rows? "
   ],
   "metadata": {
    "collapsed": false
   },
   "id": "402d3c92901486b2"
  },
  {
   "cell_type": "code",
   "outputs": [
    {
     "data": {
      "text/plain": "False"
     },
     "execution_count": 70,
     "metadata": {},
     "output_type": "execute_result"
    }
   ],
   "source": [
    "db.duplicated().any()"
   ],
   "metadata": {
    "collapsed": false,
    "ExecuteTime": {
     "end_time": "2024-03-01T15:14:02.490215400Z",
     "start_time": "2024-03-01T15:14:02.450160300Z"
    }
   },
   "id": "a968d2f956aadfcd",
   "execution_count": 70
  },
  {
   "cell_type": "markdown",
   "source": [
    "## 2.3 Inadequate Datatypes"
   ],
   "metadata": {
    "collapsed": false
   },
   "id": "83e91abde169e9c4"
  },
  {
   "cell_type": "code",
   "outputs": [
    {
     "name": "stdout",
     "output_type": "stream",
     "text": [
      "<class 'pandas.core.frame.DataFrame'>\n",
      "RangeIndex: 2142 entries, 0 to 2141\n",
      "Data columns (total 14 columns):\n",
      " #   Column                   Non-Null Count  Dtype  \n",
      "---  ------                   --------------  -----  \n",
      " 0   id                       2142 non-null   int64  \n",
      " 1   name                     2123 non-null   object \n",
      " 2   date                     2142 non-null   object \n",
      " 3   manner_of_death          2142 non-null   object \n",
      " 4   armed                    2136 non-null   object \n",
      " 5   age                      2099 non-null   float64\n",
      " 6   gender                   2141 non-null   object \n",
      " 7   race                     2039 non-null   object \n",
      " 8   city                     2142 non-null   object \n",
      " 9   state                    2142 non-null   object \n",
      " 10  signs_of_mental_illness  2142 non-null   bool   \n",
      " 11  threat_level             2142 non-null   object \n",
      " 12  flee                     2106 non-null   object \n",
      " 13  body_camera              2142 non-null   bool   \n",
      "dtypes: bool(2), float64(1), int64(1), object(10)\n",
      "memory usage: 205.1+ KB\n"
     ]
    }
   ],
   "source": [
    "db.info()"
   ],
   "metadata": {
    "collapsed": false,
    "ExecuteTime": {
     "end_time": "2024-03-01T15:09:55.429543800Z",
     "start_time": "2024-03-01T15:09:55.274200300Z"
    }
   },
   "id": "ea312d56d5e6b29f",
   "execution_count": 64
  },
  {
   "cell_type": "markdown",
   "source": [
    "Age and date datatypes are inadequate."
   ],
   "metadata": {
    "collapsed": false
   },
   "id": "35ec5d395eddd0eb"
  },
  {
   "cell_type": "markdown",
   "source": [
    "## 2.4 Others/Outliers/Data visualization"
   ],
   "metadata": {
    "collapsed": false
   },
   "id": "9d209ced053593e3"
  },
  {
   "cell_type": "code",
   "outputs": [
    {
     "data": {
      "text/plain": "(2142, 14)"
     },
     "execution_count": 65,
     "metadata": {},
     "output_type": "execute_result"
    }
   ],
   "source": [
    "db.shape"
   ],
   "metadata": {
    "collapsed": false,
    "ExecuteTime": {
     "end_time": "2024-03-01T15:09:55.429543800Z",
     "start_time": "2024-03-01T15:09:55.300804700Z"
    }
   },
   "id": "6ce3c2de25d54e7e",
   "execution_count": 65
  },
  {
   "cell_type": "code",
   "outputs": [
    {
     "data": {
      "text/plain": "2119"
     },
     "execution_count": 66,
     "metadata": {},
     "output_type": "execute_result"
    }
   ],
   "source": [
    "len(db.name.unique())"
   ],
   "metadata": {
    "collapsed": false,
    "ExecuteTime": {
     "end_time": "2024-03-01T15:09:55.430538200Z",
     "start_time": "2024-03-01T15:09:55.319335800Z"
    }
   },
   "id": "e825ec1e80a0dc0d",
   "execution_count": 66
  },
  {
   "cell_type": "code",
   "outputs": [],
   "source": [],
   "metadata": {
    "collapsed": false,
    "ExecuteTime": {
     "end_time": "2024-03-01T15:09:55.432535200Z",
     "start_time": "2024-03-01T15:09:55.336026100Z"
    }
   },
   "id": "becc722d3d75b02a",
   "execution_count": 66
  }
 ],
 "metadata": {
  "kernelspec": {
   "display_name": "Python 3",
   "language": "python",
   "name": "python3"
  },
  "language_info": {
   "codemirror_mode": {
    "name": "ipython",
    "version": 2
   },
   "file_extension": ".py",
   "mimetype": "text/x-python",
   "name": "python",
   "nbconvert_exporter": "python",
   "pygments_lexer": "ipython2",
   "version": "2.7.6"
  }
 },
 "nbformat": 4,
 "nbformat_minor": 5
}
