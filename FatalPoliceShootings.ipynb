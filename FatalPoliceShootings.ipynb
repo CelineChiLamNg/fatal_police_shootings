{
 "cells": [
  {
   "cell_type": "markdown",
   "source": [
    "# Fatal Police Shootings\n",
    "\n",
    "author: Celine Ng"
   ],
   "metadata": {
    "collapsed": false
   },
   "id": "8de0a5b6bc3b2d6f"
  },
  {
   "cell_type": "markdown",
   "source": [
    "# 1. Import Libraries &  Data Retrieve"
   ],
   "metadata": {
    "collapsed": false
   },
   "id": "453e5c3d95494dff"
  },
  {
   "cell_type": "code",
   "outputs": [
    {
     "name": "stdout",
     "output_type": "stream",
     "text": [
      "Requirement already satisfied: pandas in d:\\acer\\documents\\data science\\turing\\capstone projects\\m1_cp\\fatalshooting\\.venv\\lib\\site-packages (2.2.1)\n",
      "Requirement already satisfied: numpy<2,>=1.22.4 in d:\\acer\\documents\\data science\\turing\\capstone projects\\m1_cp\\fatalshooting\\.venv\\lib\\site-packages (from pandas) (1.26.4)\n",
      "Requirement already satisfied: python-dateutil>=2.8.2 in d:\\acer\\documents\\data science\\turing\\capstone projects\\m1_cp\\fatalshooting\\.venv\\lib\\site-packages (from pandas) (2.8.2)\n",
      "Requirement already satisfied: pytz>=2020.1 in d:\\acer\\documents\\data science\\turing\\capstone projects\\m1_cp\\fatalshooting\\.venv\\lib\\site-packages (from pandas) (2024.1)\n",
      "Requirement already satisfied: tzdata>=2022.7 in d:\\acer\\documents\\data science\\turing\\capstone projects\\m1_cp\\fatalshooting\\.venv\\lib\\site-packages (from pandas) (2024.1)\n",
      "Requirement already satisfied: six>=1.5 in d:\\acer\\documents\\data science\\turing\\capstone projects\\m1_cp\\fatalshooting\\.venv\\lib\\site-packages (from python-dateutil>=2.8.2->pandas) (1.16.0)\n"
     ]
    },
    {
     "name": "stderr",
     "output_type": "stream",
     "text": [
      "\n",
      "[notice] A new release of pip is available: 23.2.1 -> 24.0\n",
      "[notice] To update, run: python.exe -m pip install --upgrade pip\n"
     ]
    },
    {
     "name": "stdout",
     "output_type": "stream",
     "text": [
      "Requirement already satisfied: matplotlib in d:\\acer\\documents\\data science\\turing\\capstone projects\\m1_cp\\fatalshooting\\.venv\\lib\\site-packages (3.8.3)\n",
      "Requirement already satisfied: contourpy>=1.0.1 in d:\\acer\\documents\\data science\\turing\\capstone projects\\m1_cp\\fatalshooting\\.venv\\lib\\site-packages (from matplotlib) (1.2.0)\n",
      "Requirement already satisfied: cycler>=0.10 in d:\\acer\\documents\\data science\\turing\\capstone projects\\m1_cp\\fatalshooting\\.venv\\lib\\site-packages (from matplotlib) (0.12.1)\n",
      "Requirement already satisfied: fonttools>=4.22.0 in d:\\acer\\documents\\data science\\turing\\capstone projects\\m1_cp\\fatalshooting\\.venv\\lib\\site-packages (from matplotlib) (4.49.0)\n",
      "Requirement already satisfied: kiwisolver>=1.3.1 in d:\\acer\\documents\\data science\\turing\\capstone projects\\m1_cp\\fatalshooting\\.venv\\lib\\site-packages (from matplotlib) (1.4.5)\n",
      "Requirement already satisfied: numpy<2,>=1.21 in d:\\acer\\documents\\data science\\turing\\capstone projects\\m1_cp\\fatalshooting\\.venv\\lib\\site-packages (from matplotlib) (1.26.4)\n",
      "Requirement already satisfied: packaging>=20.0 in d:\\acer\\documents\\data science\\turing\\capstone projects\\m1_cp\\fatalshooting\\.venv\\lib\\site-packages (from matplotlib) (23.2)\n",
      "Requirement already satisfied: pillow>=8 in d:\\acer\\documents\\data science\\turing\\capstone projects\\m1_cp\\fatalshooting\\.venv\\lib\\site-packages (from matplotlib) (10.2.0)\n",
      "Requirement already satisfied: pyparsing>=2.3.1 in d:\\acer\\documents\\data science\\turing\\capstone projects\\m1_cp\\fatalshooting\\.venv\\lib\\site-packages (from matplotlib) (3.1.1)\n",
      "Requirement already satisfied: python-dateutil>=2.7 in d:\\acer\\documents\\data science\\turing\\capstone projects\\m1_cp\\fatalshooting\\.venv\\lib\\site-packages (from matplotlib) (2.8.2)\n",
      "Requirement already satisfied: six>=1.5 in d:\\acer\\documents\\data science\\turing\\capstone projects\\m1_cp\\fatalshooting\\.venv\\lib\\site-packages (from python-dateutil>=2.7->matplotlib) (1.16.0)\n"
     ]
    },
    {
     "name": "stderr",
     "output_type": "stream",
     "text": [
      "\n",
      "[notice] A new release of pip is available: 23.2.1 -> 24.0\n",
      "[notice] To update, run: python.exe -m pip install --upgrade pip\n"
     ]
    },
    {
     "name": "stdout",
     "output_type": "stream",
     "text": [
      "Requirement already satisfied: seaborn in d:\\acer\\documents\\data science\\turing\\capstone projects\\m1_cp\\fatalshooting\\.venv\\lib\\site-packages (0.13.2)\n",
      "Requirement already satisfied: numpy!=1.24.0,>=1.20 in d:\\acer\\documents\\data science\\turing\\capstone projects\\m1_cp\\fatalshooting\\.venv\\lib\\site-packages (from seaborn) (1.26.4)\n",
      "Requirement already satisfied: pandas>=1.2 in d:\\acer\\documents\\data science\\turing\\capstone projects\\m1_cp\\fatalshooting\\.venv\\lib\\site-packages (from seaborn) (2.2.1)\n",
      "Requirement already satisfied: matplotlib!=3.6.1,>=3.4 in d:\\acer\\documents\\data science\\turing\\capstone projects\\m1_cp\\fatalshooting\\.venv\\lib\\site-packages (from seaborn) (3.8.3)\n",
      "Requirement already satisfied: contourpy>=1.0.1 in d:\\acer\\documents\\data science\\turing\\capstone projects\\m1_cp\\fatalshooting\\.venv\\lib\\site-packages (from matplotlib!=3.6.1,>=3.4->seaborn) (1.2.0)\n",
      "Requirement already satisfied: cycler>=0.10 in d:\\acer\\documents\\data science\\turing\\capstone projects\\m1_cp\\fatalshooting\\.venv\\lib\\site-packages (from matplotlib!=3.6.1,>=3.4->seaborn) (0.12.1)\n",
      "Requirement already satisfied: fonttools>=4.22.0 in d:\\acer\\documents\\data science\\turing\\capstone projects\\m1_cp\\fatalshooting\\.venv\\lib\\site-packages (from matplotlib!=3.6.1,>=3.4->seaborn) (4.49.0)\n",
      "Requirement already satisfied: kiwisolver>=1.3.1 in d:\\acer\\documents\\data science\\turing\\capstone projects\\m1_cp\\fatalshooting\\.venv\\lib\\site-packages (from matplotlib!=3.6.1,>=3.4->seaborn) (1.4.5)\n",
      "Requirement already satisfied: packaging>=20.0 in d:\\acer\\documents\\data science\\turing\\capstone projects\\m1_cp\\fatalshooting\\.venv\\lib\\site-packages (from matplotlib!=3.6.1,>=3.4->seaborn) (23.2)\n",
      "Requirement already satisfied: pillow>=8 in d:\\acer\\documents\\data science\\turing\\capstone projects\\m1_cp\\fatalshooting\\.venv\\lib\\site-packages (from matplotlib!=3.6.1,>=3.4->seaborn) (10.2.0)\n",
      "Requirement already satisfied: pyparsing>=2.3.1 in d:\\acer\\documents\\data science\\turing\\capstone projects\\m1_cp\\fatalshooting\\.venv\\lib\\site-packages (from matplotlib!=3.6.1,>=3.4->seaborn) (3.1.1)\n",
      "Requirement already satisfied: python-dateutil>=2.7 in d:\\acer\\documents\\data science\\turing\\capstone projects\\m1_cp\\fatalshooting\\.venv\\lib\\site-packages (from matplotlib!=3.6.1,>=3.4->seaborn) (2.8.2)\n",
      "Requirement already satisfied: pytz>=2020.1 in d:\\acer\\documents\\data science\\turing\\capstone projects\\m1_cp\\fatalshooting\\.venv\\lib\\site-packages (from pandas>=1.2->seaborn) (2024.1)\n",
      "Requirement already satisfied: tzdata>=2022.7 in d:\\acer\\documents\\data science\\turing\\capstone projects\\m1_cp\\fatalshooting\\.venv\\lib\\site-packages (from pandas>=1.2->seaborn) (2024.1)\n",
      "Requirement already satisfied: six>=1.5 in d:\\acer\\documents\\data science\\turing\\capstone projects\\m1_cp\\fatalshooting\\.venv\\lib\\site-packages (from python-dateutil>=2.7->matplotlib!=3.6.1,>=3.4->seaborn) (1.16.0)\n"
     ]
    },
    {
     "name": "stderr",
     "output_type": "stream",
     "text": [
      "\n",
      "[notice] A new release of pip is available: 23.2.1 -> 24.0\n",
      "[notice] To update, run: python.exe -m pip install --upgrade pip\n"
     ]
    }
   ],
   "source": [
    "!pip install pandas\n",
    "!pip install matplotlib\n",
    "!pip install seaborn"
   ],
   "metadata": {
    "collapsed": false,
    "ExecuteTime": {
     "end_time": "2024-02-28T17:47:52.396400500Z",
     "start_time": "2024-02-28T17:47:42.066893100Z"
    }
   },
   "id": "603d2a95b96c0031",
   "execution_count": 3
  },
  {
   "cell_type": "code",
   "outputs": [],
   "source": [
    "import pandas as pd\n",
    "import matplotlib.pyplot as plt\n",
    "import seaborn as sns"
   ],
   "metadata": {
    "collapsed": false,
    "ExecuteTime": {
     "end_time": "2024-02-28T17:47:57.445399600Z",
     "start_time": "2024-02-28T17:47:52.401422800Z"
    }
   },
   "id": "b85f7b4c781b8672",
   "execution_count": 4
  },
  {
   "cell_type": "code",
   "outputs": [],
   "source": [],
   "metadata": {
    "collapsed": false,
    "ExecuteTime": {
     "end_time": "2024-02-28T17:47:57.486166800Z",
     "start_time": "2024-02-28T17:47:57.453432100Z"
    }
   },
   "id": "b8741dd6175b25d2",
   "execution_count": 4
  }
 ],
 "metadata": {
  "kernelspec": {
   "display_name": "Python 3",
   "language": "python",
   "name": "python3"
  },
  "language_info": {
   "codemirror_mode": {
    "name": "ipython",
    "version": 2
   },
   "file_extension": ".py",
   "mimetype": "text/x-python",
   "name": "python",
   "nbconvert_exporter": "python",
   "pygments_lexer": "ipython2",
   "version": "2.7.6"
  }
 },
 "nbformat": 4,
 "nbformat_minor": 5
}
