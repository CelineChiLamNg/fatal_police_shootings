{
 "cells": [
  {
   "cell_type": "markdown",
   "source": [
    "# Fatal Police Shootings (2015-2017)\n",
    "\n",
    "*author: Celine Ng*"
   ],
   "metadata": {
    "collapsed": false
   },
   "id": "8de0a5b6bc3b2d6f"
  },
  {
   "cell_type": "markdown",
   "source": [
    "# 1. Import Libraries &  Data Retrieval"
   ],
   "metadata": {
    "collapsed": false
   },
   "id": "453e5c3d95494dff"
  },
  {
   "cell_type": "code",
   "outputs": [
    {
     "name": "stdout",
     "output_type": "stream",
     "text": [
      "Requirement already satisfied: pandas in d:\\acer\\documents\\data science\\turing\\capstone projects\\m1_cp\\fatalshooting\\.venv\\lib\\site-packages (2.2.1)\n",
      "Requirement already satisfied: numpy<2,>=1.22.4 in d:\\acer\\documents\\data science\\turing\\capstone projects\\m1_cp\\fatalshooting\\.venv\\lib\\site-packages (from pandas) (1.26.4)\n",
      "Requirement already satisfied: python-dateutil>=2.8.2 in d:\\acer\\documents\\data science\\turing\\capstone projects\\m1_cp\\fatalshooting\\.venv\\lib\\site-packages (from pandas) (2.8.2)\n",
      "Requirement already satisfied: pytz>=2020.1 in d:\\acer\\documents\\data science\\turing\\capstone projects\\m1_cp\\fatalshooting\\.venv\\lib\\site-packages (from pandas) (2024.1)\n",
      "Requirement already satisfied: tzdata>=2022.7 in d:\\acer\\documents\\data science\\turing\\capstone projects\\m1_cp\\fatalshooting\\.venv\\lib\\site-packages (from pandas) (2024.1)\n",
      "Requirement already satisfied: six>=1.5 in d:\\acer\\documents\\data science\\turing\\capstone projects\\m1_cp\\fatalshooting\\.venv\\lib\\site-packages (from python-dateutil>=2.8.2->pandas) (1.16.0)\n",
      "Requirement already satisfied: matplotlib in d:\\acer\\documents\\data science\\turing\\capstone projects\\m1_cp\\fatalshooting\\.venv\\lib\\site-packages (3.8.3)\n",
      "Requirement already satisfied: contourpy>=1.0.1 in d:\\acer\\documents\\data science\\turing\\capstone projects\\m1_cp\\fatalshooting\\.venv\\lib\\site-packages (from matplotlib) (1.2.0)\n",
      "Requirement already satisfied: cycler>=0.10 in d:\\acer\\documents\\data science\\turing\\capstone projects\\m1_cp\\fatalshooting\\.venv\\lib\\site-packages (from matplotlib) (0.12.1)\n",
      "Requirement already satisfied: fonttools>=4.22.0 in d:\\acer\\documents\\data science\\turing\\capstone projects\\m1_cp\\fatalshooting\\.venv\\lib\\site-packages (from matplotlib) (4.49.0)\n",
      "Requirement already satisfied: kiwisolver>=1.3.1 in d:\\acer\\documents\\data science\\turing\\capstone projects\\m1_cp\\fatalshooting\\.venv\\lib\\site-packages (from matplotlib) (1.4.5)\n",
      "Requirement already satisfied: numpy<2,>=1.21 in d:\\acer\\documents\\data science\\turing\\capstone projects\\m1_cp\\fatalshooting\\.venv\\lib\\site-packages (from matplotlib) (1.26.4)\n",
      "Requirement already satisfied: packaging>=20.0 in d:\\acer\\documents\\data science\\turing\\capstone projects\\m1_cp\\fatalshooting\\.venv\\lib\\site-packages (from matplotlib) (23.2)\n",
      "Requirement already satisfied: pillow>=8 in d:\\acer\\documents\\data science\\turing\\capstone projects\\m1_cp\\fatalshooting\\.venv\\lib\\site-packages (from matplotlib) (10.2.0)\n",
      "Requirement already satisfied: pyparsing>=2.3.1 in d:\\acer\\documents\\data science\\turing\\capstone projects\\m1_cp\\fatalshooting\\.venv\\lib\\site-packages (from matplotlib) (3.1.1)\n",
      "Requirement already satisfied: python-dateutil>=2.7 in d:\\acer\\documents\\data science\\turing\\capstone projects\\m1_cp\\fatalshooting\\.venv\\lib\\site-packages (from matplotlib) (2.8.2)\n",
      "Requirement already satisfied: six>=1.5 in d:\\acer\\documents\\data science\\turing\\capstone projects\\m1_cp\\fatalshooting\\.venv\\lib\\site-packages (from python-dateutil>=2.7->matplotlib) (1.16.0)\n",
      "Requirement already satisfied: seaborn in d:\\acer\\documents\\data science\\turing\\capstone projects\\m1_cp\\fatalshooting\\.venv\\lib\\site-packages (0.13.2)\n",
      "Requirement already satisfied: numpy!=1.24.0,>=1.20 in d:\\acer\\documents\\data science\\turing\\capstone projects\\m1_cp\\fatalshooting\\.venv\\lib\\site-packages (from seaborn) (1.26.4)\n",
      "Requirement already satisfied: pandas>=1.2 in d:\\acer\\documents\\data science\\turing\\capstone projects\\m1_cp\\fatalshooting\\.venv\\lib\\site-packages (from seaborn) (2.2.1)\n",
      "Requirement already satisfied: matplotlib!=3.6.1,>=3.4 in d:\\acer\\documents\\data science\\turing\\capstone projects\\m1_cp\\fatalshooting\\.venv\\lib\\site-packages (from seaborn) (3.8.3)\n",
      "Requirement already satisfied: contourpy>=1.0.1 in d:\\acer\\documents\\data science\\turing\\capstone projects\\m1_cp\\fatalshooting\\.venv\\lib\\site-packages (from matplotlib!=3.6.1,>=3.4->seaborn) (1.2.0)\n",
      "Requirement already satisfied: cycler>=0.10 in d:\\acer\\documents\\data science\\turing\\capstone projects\\m1_cp\\fatalshooting\\.venv\\lib\\site-packages (from matplotlib!=3.6.1,>=3.4->seaborn) (0.12.1)\n",
      "Requirement already satisfied: fonttools>=4.22.0 in d:\\acer\\documents\\data science\\turing\\capstone projects\\m1_cp\\fatalshooting\\.venv\\lib\\site-packages (from matplotlib!=3.6.1,>=3.4->seaborn) (4.49.0)\n",
      "Requirement already satisfied: kiwisolver>=1.3.1 in d:\\acer\\documents\\data science\\turing\\capstone projects\\m1_cp\\fatalshooting\\.venv\\lib\\site-packages (from matplotlib!=3.6.1,>=3.4->seaborn) (1.4.5)\n",
      "Requirement already satisfied: packaging>=20.0 in d:\\acer\\documents\\data science\\turing\\capstone projects\\m1_cp\\fatalshooting\\.venv\\lib\\site-packages (from matplotlib!=3.6.1,>=3.4->seaborn) (23.2)\n",
      "Requirement already satisfied: pillow>=8 in d:\\acer\\documents\\data science\\turing\\capstone projects\\m1_cp\\fatalshooting\\.venv\\lib\\site-packages (from matplotlib!=3.6.1,>=3.4->seaborn) (10.2.0)\n",
      "Requirement already satisfied: pyparsing>=2.3.1 in d:\\acer\\documents\\data science\\turing\\capstone projects\\m1_cp\\fatalshooting\\.venv\\lib\\site-packages (from matplotlib!=3.6.1,>=3.4->seaborn) (3.1.1)\n",
      "Requirement already satisfied: python-dateutil>=2.7 in d:\\acer\\documents\\data science\\turing\\capstone projects\\m1_cp\\fatalshooting\\.venv\\lib\\site-packages (from matplotlib!=3.6.1,>=3.4->seaborn) (2.8.2)\n",
      "Requirement already satisfied: pytz>=2020.1 in d:\\acer\\documents\\data science\\turing\\capstone projects\\m1_cp\\fatalshooting\\.venv\\lib\\site-packages (from pandas>=1.2->seaborn) (2024.1)\n",
      "Requirement already satisfied: tzdata>=2022.7 in d:\\acer\\documents\\data science\\turing\\capstone projects\\m1_cp\\fatalshooting\\.venv\\lib\\site-packages (from pandas>=1.2->seaborn) (2024.1)\n",
      "Requirement already satisfied: six>=1.5 in d:\\acer\\documents\\data science\\turing\\capstone projects\\m1_cp\\fatalshooting\\.venv\\lib\\site-packages (from python-dateutil>=2.7->matplotlib!=3.6.1,>=3.4->seaborn) (1.16.0)\n",
      "Requirement already satisfied: folium in d:\\acer\\documents\\data science\\turing\\capstone projects\\m1_cp\\fatalshooting\\.venv\\lib\\site-packages (0.16.0)\n",
      "Requirement already satisfied: branca>=0.6.0 in d:\\acer\\documents\\data science\\turing\\capstone projects\\m1_cp\\fatalshooting\\.venv\\lib\\site-packages (from folium) (0.7.1)\n",
      "Requirement already satisfied: jinja2>=2.9 in d:\\acer\\documents\\data science\\turing\\capstone projects\\m1_cp\\fatalshooting\\.venv\\lib\\site-packages (from folium) (3.1.3)\n",
      "Requirement already satisfied: numpy in d:\\acer\\documents\\data science\\turing\\capstone projects\\m1_cp\\fatalshooting\\.venv\\lib\\site-packages (from folium) (1.26.4)\n",
      "Requirement already satisfied: requests in d:\\acer\\documents\\data science\\turing\\capstone projects\\m1_cp\\fatalshooting\\.venv\\lib\\site-packages (from folium) (2.31.0)\n",
      "Requirement already satisfied: xyzservices in d:\\acer\\documents\\data science\\turing\\capstone projects\\m1_cp\\fatalshooting\\.venv\\lib\\site-packages (from folium) (2023.10.1)\n",
      "Requirement already satisfied: MarkupSafe>=2.0 in d:\\acer\\documents\\data science\\turing\\capstone projects\\m1_cp\\fatalshooting\\.venv\\lib\\site-packages (from jinja2>=2.9->folium) (2.1.5)\n",
      "Requirement already satisfied: charset-normalizer<4,>=2 in d:\\acer\\documents\\data science\\turing\\capstone projects\\m1_cp\\fatalshooting\\.venv\\lib\\site-packages (from requests->folium) (3.3.2)\n",
      "Requirement already satisfied: idna<4,>=2.5 in d:\\acer\\documents\\data science\\turing\\capstone projects\\m1_cp\\fatalshooting\\.venv\\lib\\site-packages (from requests->folium) (3.6)\n",
      "Requirement already satisfied: urllib3<3,>=1.21.1 in d:\\acer\\documents\\data science\\turing\\capstone projects\\m1_cp\\fatalshooting\\.venv\\lib\\site-packages (from requests->folium) (2.2.1)\n",
      "Requirement already satisfied: certifi>=2017.4.17 in d:\\acer\\documents\\data science\\turing\\capstone projects\\m1_cp\\fatalshooting\\.venv\\lib\\site-packages (from requests->folium) (2024.2.2)\n",
      "Requirement already satisfied: geopandas in d:\\acer\\documents\\data science\\turing\\capstone projects\\m1_cp\\fatalshooting\\.venv\\lib\\site-packages (0.14.3)\n",
      "Requirement already satisfied: fiona>=1.8.21 in d:\\acer\\documents\\data science\\turing\\capstone projects\\m1_cp\\fatalshooting\\.venv\\lib\\site-packages (from geopandas) (1.9.5)\n",
      "Requirement already satisfied: packaging in d:\\acer\\documents\\data science\\turing\\capstone projects\\m1_cp\\fatalshooting\\.venv\\lib\\site-packages (from geopandas) (23.2)\n",
      "Requirement already satisfied: pandas>=1.4.0 in d:\\acer\\documents\\data science\\turing\\capstone projects\\m1_cp\\fatalshooting\\.venv\\lib\\site-packages (from geopandas) (2.2.1)\n",
      "Requirement already satisfied: pyproj>=3.3.0 in d:\\acer\\documents\\data science\\turing\\capstone projects\\m1_cp\\fatalshooting\\.venv\\lib\\site-packages (from geopandas) (3.6.1)\n",
      "Requirement already satisfied: shapely>=1.8.0 in d:\\acer\\documents\\data science\\turing\\capstone projects\\m1_cp\\fatalshooting\\.venv\\lib\\site-packages (from geopandas) (2.0.3)\n",
      "Requirement already satisfied: attrs>=19.2.0 in d:\\acer\\documents\\data science\\turing\\capstone projects\\m1_cp\\fatalshooting\\.venv\\lib\\site-packages (from fiona>=1.8.21->geopandas) (23.2.0)\n",
      "Requirement already satisfied: certifi in d:\\acer\\documents\\data science\\turing\\capstone projects\\m1_cp\\fatalshooting\\.venv\\lib\\site-packages (from fiona>=1.8.21->geopandas) (2024.2.2)\n",
      "Requirement already satisfied: click~=8.0 in d:\\acer\\documents\\data science\\turing\\capstone projects\\m1_cp\\fatalshooting\\.venv\\lib\\site-packages (from fiona>=1.8.21->geopandas) (8.1.7)\n",
      "Requirement already satisfied: click-plugins>=1.0 in d:\\acer\\documents\\data science\\turing\\capstone projects\\m1_cp\\fatalshooting\\.venv\\lib\\site-packages (from fiona>=1.8.21->geopandas) (1.1.1)\n",
      "Requirement already satisfied: cligj>=0.5 in d:\\acer\\documents\\data science\\turing\\capstone projects\\m1_cp\\fatalshooting\\.venv\\lib\\site-packages (from fiona>=1.8.21->geopandas) (0.7.2)\n",
      "Requirement already satisfied: six in d:\\acer\\documents\\data science\\turing\\capstone projects\\m1_cp\\fatalshooting\\.venv\\lib\\site-packages (from fiona>=1.8.21->geopandas) (1.16.0)\n",
      "Requirement already satisfied: setuptools in d:\\acer\\documents\\data science\\turing\\capstone projects\\m1_cp\\fatalshooting\\.venv\\lib\\site-packages (from fiona>=1.8.21->geopandas) (68.2.0)\n",
      "Requirement already satisfied: numpy<2,>=1.22.4 in d:\\acer\\documents\\data science\\turing\\capstone projects\\m1_cp\\fatalshooting\\.venv\\lib\\site-packages (from pandas>=1.4.0->geopandas) (1.26.4)\n",
      "Requirement already satisfied: python-dateutil>=2.8.2 in d:\\acer\\documents\\data science\\turing\\capstone projects\\m1_cp\\fatalshooting\\.venv\\lib\\site-packages (from pandas>=1.4.0->geopandas) (2.8.2)\n",
      "Requirement already satisfied: pytz>=2020.1 in d:\\acer\\documents\\data science\\turing\\capstone projects\\m1_cp\\fatalshooting\\.venv\\lib\\site-packages (from pandas>=1.4.0->geopandas) (2024.1)\n",
      "Requirement already satisfied: tzdata>=2022.7 in d:\\acer\\documents\\data science\\turing\\capstone projects\\m1_cp\\fatalshooting\\.venv\\lib\\site-packages (from pandas>=1.4.0->geopandas) (2024.1)\n",
      "Requirement already satisfied: colorama in d:\\acer\\documents\\data science\\turing\\capstone projects\\m1_cp\\fatalshooting\\.venv\\lib\\site-packages (from click~=8.0->fiona>=1.8.21->geopandas) (0.4.6)\n",
      "Collecting scipy\n",
      "  Downloading scipy-1.12.0-cp310-cp310-win_amd64.whl.metadata (60 kB)\n",
      "     ---------------------------------------- 0.0/60.4 kB ? eta -:--:--\n",
      "     ------ --------------------------------- 10.2/60.4 kB ? eta -:--:--\n",
      "     ------------ ------------------------- 20.5/60.4 kB 131.3 kB/s eta 0:00:01\n",
      "     ------------------------- ------------ 41.0/60.4 kB 245.8 kB/s eta 0:00:01\n",
      "     -------------------------------- ----- 51.2/60.4 kB 262.6 kB/s eta 0:00:01\n",
      "     -------------------------------------- 60.4/60.4 kB 229.2 kB/s eta 0:00:00\n",
      "Requirement already satisfied: numpy<1.29.0,>=1.22.4 in d:\\acer\\documents\\data science\\turing\\capstone projects\\m1_cp\\fatalshooting\\.venv\\lib\\site-packages (from scipy) (1.26.4)\n",
      "Downloading scipy-1.12.0-cp310-cp310-win_amd64.whl (46.2 MB)\n",
      "   ---------------------------------------- 0.0/46.2 MB ? eta -:--:--\n",
      "   ---------------------------------------- 0.1/46.2 MB 1.7 MB/s eta 0:00:28\n",
      "   ---------------------------------------- 0.1/46.2 MB 871.5 kB/s eta 0:00:53\n",
      "   ---------------------------------------- 0.1/46.2 MB 944.1 kB/s eta 0:00:49\n",
      "   ---------------------------------------- 0.2/46.2 MB 1.1 MB/s eta 0:00:43\n",
      "   ---------------------------------------- 0.3/46.2 MB 1.4 MB/s eta 0:00:33\n",
      "   ---------------------------------------- 0.5/46.2 MB 1.7 MB/s eta 0:00:27\n",
      "    --------------------------------------- 0.6/46.2 MB 1.9 MB/s eta 0:00:24\n",
      "    --------------------------------------- 0.7/46.2 MB 2.0 MB/s eta 0:00:24\n",
      "    --------------------------------------- 0.9/46.2 MB 2.2 MB/s eta 0:00:21\n",
      "    --------------------------------------- 0.9/46.2 MB 2.2 MB/s eta 0:00:21\n",
      "    --------------------------------------- 0.9/46.2 MB 2.2 MB/s eta 0:00:21\n",
      "    --------------------------------------- 1.1/46.2 MB 1.8 MB/s eta 0:00:26\n",
      "   - -------------------------------------- 1.5/46.2 MB 2.3 MB/s eta 0:00:20\n",
      "   - -------------------------------------- 2.0/46.2 MB 2.8 MB/s eta 0:00:16\n",
      "   - -------------------------------------- 2.2/46.2 MB 2.8 MB/s eta 0:00:16\n",
      "   -- ------------------------------------- 2.3/46.2 MB 2.9 MB/s eta 0:00:16\n",
      "   -- ------------------------------------- 2.5/46.2 MB 2.9 MB/s eta 0:00:15\n",
      "   -- ------------------------------------- 2.7/46.2 MB 2.9 MB/s eta 0:00:15\n",
      "   -- ------------------------------------- 2.8/46.2 MB 3.0 MB/s eta 0:00:15\n",
      "   -- ------------------------------------- 3.0/46.2 MB 3.0 MB/s eta 0:00:15\n",
      "   -- ------------------------------------- 3.2/46.2 MB 3.0 MB/s eta 0:00:15\n",
      "   -- ------------------------------------- 3.2/46.2 MB 3.0 MB/s eta 0:00:15\n",
      "   -- ------------------------------------- 3.2/46.2 MB 3.0 MB/s eta 0:00:15\n",
      "   -- ------------------------------------- 3.2/46.2 MB 3.0 MB/s eta 0:00:15\n",
      "   -- ------------------------------------- 3.2/46.2 MB 3.0 MB/s eta 0:00:15\n",
      "   -- ------------------------------------- 3.3/46.2 MB 2.6 MB/s eta 0:00:17\n",
      "   -- ------------------------------------- 3.3/46.2 MB 2.6 MB/s eta 0:00:17\n",
      "   -- ------------------------------------- 3.3/46.2 MB 2.6 MB/s eta 0:00:17\n",
      "   -- ------------------------------------- 3.3/46.2 MB 2.6 MB/s eta 0:00:17\n",
      "   --- ------------------------------------ 3.6/46.2 MB 2.4 MB/s eta 0:00:18\n",
      "   --- ------------------------------------ 3.7/46.2 MB 2.5 MB/s eta 0:00:18\n",
      "   --- ------------------------------------ 3.7/46.2 MB 2.5 MB/s eta 0:00:18\n",
      "   --- ------------------------------------ 3.7/46.2 MB 2.5 MB/s eta 0:00:18\n",
      "   --- ------------------------------------ 3.7/46.2 MB 2.5 MB/s eta 0:00:18\n",
      "   --- ------------------------------------ 3.7/46.2 MB 2.5 MB/s eta 0:00:18\n",
      "   --- ------------------------------------ 3.7/46.2 MB 2.5 MB/s eta 0:00:18\n",
      "   --- ------------------------------------ 3.7/46.2 MB 2.5 MB/s eta 0:00:18\n",
      "   --- ------------------------------------ 4.4/46.2 MB 2.3 MB/s eta 0:00:18\n",
      "   ---- ----------------------------------- 4.8/46.2 MB 2.5 MB/s eta 0:00:17\n",
      "   ---- ----------------------------------- 4.8/46.2 MB 2.5 MB/s eta 0:00:17\n",
      "   ---- ----------------------------------- 4.8/46.2 MB 2.5 MB/s eta 0:00:17\n",
      "   ---- ----------------------------------- 4.9/46.2 MB 2.4 MB/s eta 0:00:18\n",
      "   ---- ----------------------------------- 4.9/46.2 MB 2.4 MB/s eta 0:00:18\n",
      "   ---- ----------------------------------- 4.9/46.2 MB 2.4 MB/s eta 0:00:18\n",
      "   ---- ----------------------------------- 4.9/46.2 MB 2.4 MB/s eta 0:00:18\n",
      "   ---- ----------------------------------- 4.9/46.2 MB 2.4 MB/s eta 0:00:18\n",
      "   ---- ----------------------------------- 4.9/46.2 MB 2.4 MB/s eta 0:00:18\n",
      "   ---- ----------------------------------- 4.9/46.2 MB 2.4 MB/s eta 0:00:18\n",
      "   ---- ----------------------------------- 5.5/46.2 MB 2.2 MB/s eta 0:00:19\n",
      "   ----- ---------------------------------- 6.0/46.2 MB 2.4 MB/s eta 0:00:17\n",
      "   ----- ---------------------------------- 6.5/46.2 MB 2.6 MB/s eta 0:00:16\n",
      "   ----- ---------------------------------- 6.5/46.2 MB 2.6 MB/s eta 0:00:16\n",
      "   ----- ---------------------------------- 6.5/46.2 MB 2.6 MB/s eta 0:00:16\n",
      "   ----- ---------------------------------- 6.5/46.2 MB 2.6 MB/s eta 0:00:16\n",
      "   ----- ---------------------------------- 6.5/46.2 MB 2.6 MB/s eta 0:00:16\n",
      "   ----- ---------------------------------- 6.5/46.2 MB 2.6 MB/s eta 0:00:16\n",
      "   ----- ---------------------------------- 6.5/46.2 MB 2.6 MB/s eta 0:00:16\n",
      "   ----- ---------------------------------- 6.5/46.2 MB 2.6 MB/s eta 0:00:16\n",
      "   ----- ---------------------------------- 6.5/46.2 MB 2.6 MB/s eta 0:00:16\n",
      "   ----- ---------------------------------- 6.5/46.2 MB 2.6 MB/s eta 0:00:16\n",
      "   ----- ---------------------------------- 6.7/46.2 MB 2.2 MB/s eta 0:00:18\n",
      "   ----- ---------------------------------- 6.8/46.2 MB 2.2 MB/s eta 0:00:18\n",
      "   ----- ---------------------------------- 6.8/46.2 MB 2.2 MB/s eta 0:00:18\n",
      "   ----- ---------------------------------- 6.8/46.2 MB 2.2 MB/s eta 0:00:18\n",
      "   ----- ---------------------------------- 6.8/46.2 MB 2.2 MB/s eta 0:00:18\n",
      "   ------ --------------------------------- 7.1/46.2 MB 2.2 MB/s eta 0:00:18\n",
      "   ------ --------------------------------- 7.2/46.2 MB 2.2 MB/s eta 0:00:18\n",
      "   ------ --------------------------------- 7.2/46.2 MB 2.2 MB/s eta 0:00:18\n",
      "   ------ --------------------------------- 7.2/46.2 MB 2.2 MB/s eta 0:00:18\n",
      "   ------ --------------------------------- 7.2/46.2 MB 2.2 MB/s eta 0:00:18\n",
      "   ------ --------------------------------- 7.2/46.2 MB 2.2 MB/s eta 0:00:18\n",
      "   ------ --------------------------------- 7.2/46.2 MB 2.2 MB/s eta 0:00:18\n",
      "   ------ --------------------------------- 7.3/46.2 MB 2.0 MB/s eta 0:00:19\n",
      "   ------ --------------------------------- 7.5/46.2 MB 2.1 MB/s eta 0:00:19\n",
      "   ------ --------------------------------- 7.5/46.2 MB 2.1 MB/s eta 0:00:19\n",
      "   ------ --------------------------------- 7.5/46.2 MB 2.1 MB/s eta 0:00:19\n",
      "   ------ --------------------------------- 7.7/46.2 MB 2.0 MB/s eta 0:00:19\n",
      "   ------- -------------------------------- 8.1/46.2 MB 2.1 MB/s eta 0:00:18\n",
      "   ------- -------------------------------- 8.5/46.2 MB 2.2 MB/s eta 0:00:18\n",
      "   ------- -------------------------------- 8.7/46.2 MB 2.2 MB/s eta 0:00:17\n",
      "   ------- -------------------------------- 8.8/46.2 MB 2.2 MB/s eta 0:00:17\n",
      "   ------- -------------------------------- 8.8/46.2 MB 2.2 MB/s eta 0:00:17\n",
      "   ------- -------------------------------- 8.8/46.2 MB 2.2 MB/s eta 0:00:17\n",
      "   ------- -------------------------------- 8.9/46.2 MB 2.1 MB/s eta 0:00:18\n",
      "   ------- -------------------------------- 9.0/46.2 MB 2.1 MB/s eta 0:00:18\n",
      "   -------- ------------------------------- 9.5/46.2 MB 2.2 MB/s eta 0:00:17\n",
      "   -------- ------------------------------- 9.6/46.2 MB 2.2 MB/s eta 0:00:17\n",
      "   -------- ------------------------------- 9.6/46.2 MB 2.2 MB/s eta 0:00:17\n",
      "   -------- ------------------------------- 9.9/46.2 MB 2.2 MB/s eta 0:00:17\n",
      "   -------- ------------------------------- 9.9/46.2 MB 2.2 MB/s eta 0:00:17\n",
      "   -------- ------------------------------- 9.9/46.2 MB 2.2 MB/s eta 0:00:17\n",
      "   -------- ------------------------------- 9.9/46.2 MB 2.2 MB/s eta 0:00:17\n",
      "   -------- ------------------------------- 9.9/46.2 MB 2.1 MB/s eta 0:00:18\n",
      "   -------- ------------------------------- 10.1/46.2 MB 2.1 MB/s eta 0:00:17\n",
      "   -------- ------------------------------- 10.1/46.2 MB 2.1 MB/s eta 0:00:17\n",
      "   -------- ------------------------------- 10.1/46.2 MB 2.1 MB/s eta 0:00:17\n",
      "   -------- ------------------------------- 10.1/46.2 MB 2.1 MB/s eta 0:00:17\n",
      "   -------- ------------------------------- 10.1/46.2 MB 2.1 MB/s eta 0:00:17\n",
      "   -------- ------------------------------- 10.2/46.2 MB 2.0 MB/s eta 0:00:18\n",
      "   --------- ------------------------------ 11.5/46.2 MB 2.3 MB/s eta 0:00:15\n",
      "   ---------- ----------------------------- 11.6/46.2 MB 2.3 MB/s eta 0:00:16\n",
      "   ---------- ----------------------------- 11.7/46.2 MB 2.3 MB/s eta 0:00:16\n",
      "   ---------- ----------------------------- 11.8/46.2 MB 2.3 MB/s eta 0:00:16\n",
      "   ---------- ----------------------------- 11.9/46.2 MB 2.3 MB/s eta 0:00:16\n",
      "   ---------- ----------------------------- 12.0/46.2 MB 2.2 MB/s eta 0:00:16\n",
      "   ---------- ----------------------------- 12.1/46.2 MB 2.2 MB/s eta 0:00:16\n",
      "   ---------- ----------------------------- 12.2/46.2 MB 2.2 MB/s eta 0:00:16\n",
      "   ---------- ----------------------------- 12.2/46.2 MB 2.2 MB/s eta 0:00:16\n",
      "   ----------- ---------------------------- 12.8/46.2 MB 2.2 MB/s eta 0:00:16\n",
      "   ----------- ---------------------------- 12.9/46.2 MB 2.2 MB/s eta 0:00:16\n",
      "   ----------- ---------------------------- 12.9/46.2 MB 2.2 MB/s eta 0:00:16\n",
      "   ----------- ---------------------------- 12.9/46.2 MB 2.2 MB/s eta 0:00:16\n",
      "   ----------- ---------------------------- 12.9/46.2 MB 2.2 MB/s eta 0:00:16\n",
      "   ----------- ---------------------------- 12.9/46.2 MB 2.2 MB/s eta 0:00:16\n",
      "   ----------- ---------------------------- 12.9/46.2 MB 2.1 MB/s eta 0:00:17\n",
      "   ----------- ---------------------------- 13.4/46.2 MB 2.2 MB/s eta 0:00:15\n",
      "   ----------- ---------------------------- 13.4/46.2 MB 2.2 MB/s eta 0:00:15\n",
      "   ----------- ---------------------------- 13.4/46.2 MB 2.2 MB/s eta 0:00:15\n",
      "   ----------- ---------------------------- 13.4/46.2 MB 2.2 MB/s eta 0:00:15\n",
      "   ----------- ---------------------------- 13.5/46.2 MB 2.2 MB/s eta 0:00:15\n",
      "   ----------- ---------------------------- 13.9/46.2 MB 2.2 MB/s eta 0:00:15\n",
      "   ----------- ---------------------------- 13.9/46.2 MB 2.2 MB/s eta 0:00:15\n",
      "   ------------ --------------------------- 14.5/46.2 MB 2.3 MB/s eta 0:00:14\n",
      "   ------------ --------------------------- 14.6/46.2 MB 2.3 MB/s eta 0:00:14\n",
      "   ------------ --------------------------- 14.7/46.2 MB 2.3 MB/s eta 0:00:14\n",
      "   ------------ --------------------------- 14.8/46.2 MB 2.3 MB/s eta 0:00:14\n",
      "   ------------ --------------------------- 15.0/46.2 MB 2.3 MB/s eta 0:00:14\n",
      "   ------------- -------------------------- 15.0/46.2 MB 2.3 MB/s eta 0:00:14\n",
      "   ------------- -------------------------- 15.1/46.2 MB 2.3 MB/s eta 0:00:14\n",
      "   ------------- -------------------------- 15.1/46.2 MB 2.3 MB/s eta 0:00:14\n",
      "   ------------- -------------------------- 15.1/46.2 MB 2.3 MB/s eta 0:00:14\n",
      "   ------------- -------------------------- 15.1/46.2 MB 2.3 MB/s eta 0:00:14\n",
      "   ------------- -------------------------- 15.2/46.2 MB 2.4 MB/s eta 0:00:14\n",
      "   ------------- -------------------------- 15.4/46.2 MB 2.3 MB/s eta 0:00:14\n",
      "   ------------- -------------------------- 15.4/46.2 MB 2.3 MB/s eta 0:00:14\n",
      "   ------------- -------------------------- 15.5/46.2 MB 2.3 MB/s eta 0:00:14\n",
      "   ------------- -------------------------- 15.8/46.2 MB 2.3 MB/s eta 0:00:14\n",
      "   ------------- -------------------------- 16.0/46.2 MB 2.3 MB/s eta 0:00:14\n",
      "   ------------- -------------------------- 16.1/46.2 MB 2.2 MB/s eta 0:00:14\n",
      "   -------------- ------------------------- 16.2/46.2 MB 2.2 MB/s eta 0:00:14\n",
      "   -------------- ------------------------- 16.3/46.2 MB 2.2 MB/s eta 0:00:14\n",
      "   -------------- ------------------------- 16.4/46.2 MB 2.2 MB/s eta 0:00:14\n",
      "   -------------- ------------------------- 16.5/46.2 MB 2.2 MB/s eta 0:00:14\n",
      "   -------------- ------------------------- 16.6/46.2 MB 2.1 MB/s eta 0:00:14\n",
      "   -------------- ------------------------- 16.8/46.2 MB 2.4 MB/s eta 0:00:13\n",
      "   -------------- ------------------------- 16.9/46.2 MB 2.3 MB/s eta 0:00:13\n",
      "   -------------- ------------------------- 17.1/46.2 MB 2.4 MB/s eta 0:00:12\n",
      "   -------------- ------------------------- 17.2/46.2 MB 2.4 MB/s eta 0:00:12\n",
      "   -------------- ------------------------- 17.2/46.2 MB 2.4 MB/s eta 0:00:12\n",
      "   -------------- ------------------------- 17.2/46.2 MB 2.4 MB/s eta 0:00:12\n",
      "   -------------- ------------------------- 17.2/46.2 MB 2.4 MB/s eta 0:00:12\n",
      "   -------------- ------------------------- 17.2/46.2 MB 2.4 MB/s eta 0:00:12\n",
      "   -------------- ------------------------- 17.2/46.2 MB 2.4 MB/s eta 0:00:12\n",
      "   -------------- ------------------------- 17.2/46.2 MB 2.4 MB/s eta 0:00:12\n",
      "   -------------- ------------------------- 17.2/46.2 MB 2.4 MB/s eta 0:00:12\n",
      "   -------------- ------------------------- 17.2/46.2 MB 2.4 MB/s eta 0:00:12\n",
      "   --------------- ------------------------ 17.4/46.2 MB 2.2 MB/s eta 0:00:14\n",
      "   --------------- ------------------------ 18.0/46.2 MB 2.4 MB/s eta 0:00:12\n",
      "   --------------- ------------------------ 18.1/46.2 MB 2.4 MB/s eta 0:00:12\n",
      "   --------------- ------------------------ 18.2/46.2 MB 2.4 MB/s eta 0:00:12\n",
      "   --------------- ------------------------ 18.2/46.2 MB 2.4 MB/s eta 0:00:12\n",
      "   --------------- ------------------------ 18.2/46.2 MB 2.4 MB/s eta 0:00:12\n",
      "   ---------------- ----------------------- 18.5/46.2 MB 2.3 MB/s eta 0:00:12\n",
      "   ---------------- ----------------------- 18.9/46.2 MB 2.3 MB/s eta 0:00:12\n",
      "   ---------------- ----------------------- 19.6/46.2 MB 2.5 MB/s eta 0:00:11\n",
      "   ----------------- ---------------------- 19.8/46.2 MB 2.5 MB/s eta 0:00:11\n",
      "   ----------------- ---------------------- 19.8/46.2 MB 2.5 MB/s eta 0:00:11\n",
      "   ----------------- ---------------------- 20.0/46.2 MB 2.5 MB/s eta 0:00:11\n",
      "   ----------------- ---------------------- 20.2/46.2 MB 2.7 MB/s eta 0:00:10\n",
      "   ----------------- ---------------------- 20.3/46.2 MB 2.7 MB/s eta 0:00:10\n",
      "   ----------------- ---------------------- 20.4/46.2 MB 2.8 MB/s eta 0:00:10\n",
      "   ----------------- ---------------------- 20.6/46.2 MB 2.8 MB/s eta 0:00:10\n",
      "   ----------------- ---------------------- 20.7/46.2 MB 2.7 MB/s eta 0:00:10\n",
      "   ------------------ --------------------- 20.8/46.2 MB 2.7 MB/s eta 0:00:10\n",
      "   ------------------ --------------------- 21.1/46.2 MB 2.7 MB/s eta 0:00:10\n",
      "   ------------------ --------------------- 21.3/46.2 MB 2.6 MB/s eta 0:00:10\n",
      "   ------------------ --------------------- 21.5/46.2 MB 2.6 MB/s eta 0:00:10\n",
      "   ------------------ --------------------- 21.6/46.2 MB 2.6 MB/s eta 0:00:10\n",
      "   ------------------ --------------------- 21.7/46.2 MB 2.5 MB/s eta 0:00:10\n",
      "   ------------------- -------------------- 22.0/46.2 MB 2.6 MB/s eta 0:00:10\n",
      "   ------------------- -------------------- 22.2/46.2 MB 2.6 MB/s eta 0:00:10\n",
      "   ------------------- -------------------- 22.3/46.2 MB 2.6 MB/s eta 0:00:10\n",
      "   ------------------- -------------------- 22.5/46.2 MB 2.6 MB/s eta 0:00:10\n",
      "   ------------------- -------------------- 22.6/46.2 MB 2.7 MB/s eta 0:00:09\n",
      "   ------------------- -------------------- 22.8/46.2 MB 2.7 MB/s eta 0:00:09\n",
      "   ------------------- -------------------- 23.0/46.2 MB 2.6 MB/s eta 0:00:09\n",
      "   -------------------- ------------------- 23.1/46.2 MB 2.8 MB/s eta 0:00:09\n",
      "   -------------------- ------------------- 23.3/46.2 MB 2.8 MB/s eta 0:00:09\n",
      "   -------------------- ------------------- 23.5/46.2 MB 2.8 MB/s eta 0:00:09\n",
      "   -------------------- ------------------- 23.7/46.2 MB 2.9 MB/s eta 0:00:08\n",
      "   -------------------- ------------------- 23.8/46.2 MB 2.8 MB/s eta 0:00:08\n",
      "   -------------------- ------------------- 24.0/46.2 MB 2.8 MB/s eta 0:00:08\n",
      "   -------------------- ------------------- 24.2/46.2 MB 2.8 MB/s eta 0:00:08\n",
      "   --------------------- ------------------ 24.4/46.2 MB 2.8 MB/s eta 0:00:08\n",
      "   --------------------- ------------------ 24.5/46.2 MB 2.8 MB/s eta 0:00:08\n",
      "   --------------------- ------------------ 24.7/46.2 MB 2.8 MB/s eta 0:00:08\n",
      "   --------------------- ------------------ 24.9/46.2 MB 2.8 MB/s eta 0:00:08\n",
      "   --------------------- ------------------ 25.0/46.2 MB 2.8 MB/s eta 0:00:08\n",
      "   --------------------- ------------------ 25.1/46.2 MB 2.8 MB/s eta 0:00:08\n",
      "   --------------------- ------------------ 25.3/46.2 MB 2.8 MB/s eta 0:00:08\n",
      "   ---------------------- ----------------- 25.5/46.2 MB 3.0 MB/s eta 0:00:07\n",
      "   ---------------------- ----------------- 25.5/46.2 MB 3.0 MB/s eta 0:00:07\n",
      "   ---------------------- ----------------- 25.5/46.2 MB 3.0 MB/s eta 0:00:07\n",
      "   ---------------------- ----------------- 25.5/46.2 MB 3.0 MB/s eta 0:00:07\n",
      "   ---------------------- ----------------- 25.5/46.2 MB 3.0 MB/s eta 0:00:07\n",
      "   ---------------------- ----------------- 25.5/46.2 MB 3.0 MB/s eta 0:00:07\n",
      "   ---------------------- ----------------- 25.5/46.2 MB 2.8 MB/s eta 0:00:08\n",
      "   ---------------------- ----------------- 25.5/46.2 MB 2.8 MB/s eta 0:00:08\n",
      "   ---------------------- ----------------- 25.6/46.2 MB 2.7 MB/s eta 0:00:08\n",
      "   ---------------------- ----------------- 25.9/46.2 MB 2.8 MB/s eta 0:00:08\n",
      "   ---------------------- ----------------- 26.0/46.2 MB 2.8 MB/s eta 0:00:08\n",
      "   ---------------------- ----------------- 26.1/46.2 MB 2.7 MB/s eta 0:00:08\n",
      "   ---------------------- ----------------- 26.1/46.2 MB 2.7 MB/s eta 0:00:08\n",
      "   ---------------------- ----------------- 26.1/46.2 MB 2.7 MB/s eta 0:00:08\n",
      "   ---------------------- ----------------- 26.1/46.2 MB 2.7 MB/s eta 0:00:08\n",
      "   ---------------------- ----------------- 26.1/46.2 MB 2.7 MB/s eta 0:00:08\n",
      "   ---------------------- ----------------- 26.1/46.2 MB 2.7 MB/s eta 0:00:08\n",
      "   ----------------------- ---------------- 26.7/46.2 MB 2.7 MB/s eta 0:00:08\n",
      "   ----------------------- ---------------- 26.9/46.2 MB 2.8 MB/s eta 0:00:07\n",
      "   ----------------------- ---------------- 27.1/46.2 MB 2.7 MB/s eta 0:00:07\n",
      "   ----------------------- ---------------- 27.2/46.2 MB 2.7 MB/s eta 0:00:07\n",
      "   ----------------------- ---------------- 27.4/46.2 MB 2.7 MB/s eta 0:00:07\n",
      "   ----------------------- ---------------- 27.4/46.2 MB 3.1 MB/s eta 0:00:07\n",
      "   ----------------------- ---------------- 27.5/46.2 MB 3.1 MB/s eta 0:00:07\n",
      "   ----------------------- ---------------- 27.6/46.2 MB 3.1 MB/s eta 0:00:07\n",
      "   ------------------------ --------------- 28.1/46.2 MB 3.0 MB/s eta 0:00:07\n",
      "   ------------------------ --------------- 28.5/46.2 MB 3.2 MB/s eta 0:00:06\n",
      "   ------------------------ --------------- 28.7/46.2 MB 3.2 MB/s eta 0:00:06\n",
      "   ------------------------- -------------- 28.9/46.2 MB 3.1 MB/s eta 0:00:06\n",
      "   ------------------------- -------------- 29.1/46.2 MB 3.1 MB/s eta 0:00:06\n",
      "   ------------------------- -------------- 29.3/46.2 MB 3.1 MB/s eta 0:00:06\n",
      "   ------------------------- -------------- 29.5/46.2 MB 3.0 MB/s eta 0:00:06\n",
      "   ------------------------- -------------- 29.6/46.2 MB 3.0 MB/s eta 0:00:06\n",
      "   ------------------------- -------------- 29.8/46.2 MB 3.0 MB/s eta 0:00:06\n",
      "   ------------------------- -------------- 29.9/46.2 MB 2.9 MB/s eta 0:00:06\n",
      "   ------------------------- -------------- 30.0/46.2 MB 2.9 MB/s eta 0:00:06\n",
      "   ------------------------- -------------- 30.0/46.2 MB 2.9 MB/s eta 0:00:06\n",
      "   ------------------------- -------------- 30.0/46.2 MB 2.9 MB/s eta 0:00:06\n",
      "   -------------------------- ------------- 30.3/46.2 MB 2.9 MB/s eta 0:00:06\n",
      "   -------------------------- ------------- 30.5/46.2 MB 2.9 MB/s eta 0:00:06\n",
      "   -------------------------- ------------- 30.9/46.2 MB 3.0 MB/s eta 0:00:06\n",
      "   -------------------------- ------------- 31.1/46.2 MB 3.0 MB/s eta 0:00:05\n",
      "   --------------------------- ------------ 31.2/46.2 MB 3.0 MB/s eta 0:00:05\n",
      "   --------------------------- ------------ 31.4/46.2 MB 3.0 MB/s eta 0:00:05\n",
      "   --------------------------- ------------ 31.5/46.2 MB 3.0 MB/s eta 0:00:05\n",
      "   --------------------------- ------------ 31.7/46.2 MB 3.0 MB/s eta 0:00:05\n",
      "   --------------------------- ------------ 31.9/46.2 MB 3.0 MB/s eta 0:00:05\n",
      "   --------------------------- ------------ 32.0/46.2 MB 3.0 MB/s eta 0:00:05\n",
      "   --------------------------- ------------ 32.2/46.2 MB 3.0 MB/s eta 0:00:05\n",
      "   --------------------------- ------------ 32.3/46.2 MB 3.0 MB/s eta 0:00:05\n",
      "   ---------------------------- ----------- 32.4/46.2 MB 3.0 MB/s eta 0:00:05\n",
      "   ---------------------------- ----------- 32.6/46.2 MB 3.0 MB/s eta 0:00:05\n",
      "   ---------------------------- ----------- 32.8/46.2 MB 3.0 MB/s eta 0:00:05\n",
      "   ---------------------------- ----------- 33.0/46.2 MB 3.0 MB/s eta 0:00:05\n",
      "   ---------------------------- ----------- 33.1/46.2 MB 3.0 MB/s eta 0:00:05\n",
      "   ---------------------------- ----------- 33.3/46.2 MB 3.0 MB/s eta 0:00:05\n",
      "   ---------------------------- ----------- 33.4/46.2 MB 3.0 MB/s eta 0:00:05\n",
      "   ----------------------------- ---------- 33.6/46.2 MB 3.0 MB/s eta 0:00:05\n",
      "   ----------------------------- ---------- 33.8/46.2 MB 3.0 MB/s eta 0:00:05\n",
      "   ----------------------------- ---------- 33.9/46.2 MB 3.0 MB/s eta 0:00:05\n",
      "   ----------------------------- ---------- 34.1/46.2 MB 3.0 MB/s eta 0:00:05\n",
      "   ----------------------------- ---------- 34.3/46.2 MB 3.0 MB/s eta 0:00:04\n",
      "   ----------------------------- ---------- 34.5/46.2 MB 3.0 MB/s eta 0:00:04\n",
      "   ----------------------------- ---------- 34.5/46.2 MB 3.0 MB/s eta 0:00:04\n",
      "   ------------------------------ --------- 34.8/46.2 MB 3.0 MB/s eta 0:00:04\n",
      "   ------------------------------ --------- 34.9/46.2 MB 3.0 MB/s eta 0:00:04\n",
      "   ------------------------------ --------- 35.2/46.2 MB 3.0 MB/s eta 0:00:04\n",
      "   ------------------------------ --------- 35.3/46.2 MB 3.0 MB/s eta 0:00:04\n",
      "   ------------------------------ --------- 35.3/46.2 MB 3.0 MB/s eta 0:00:04\n",
      "   ------------------------------ --------- 35.3/46.2 MB 3.0 MB/s eta 0:00:04\n",
      "   ------------------------------ --------- 35.3/46.2 MB 3.0 MB/s eta 0:00:04\n",
      "   ------------------------------ --------- 35.5/46.2 MB 2.9 MB/s eta 0:00:04\n",
      "   ------------------------------- -------- 36.2/46.2 MB 3.3 MB/s eta 0:00:04\n",
      "   ------------------------------- -------- 36.4/46.2 MB 3.6 MB/s eta 0:00:03\n",
      "   ------------------------------- -------- 36.5/46.2 MB 3.6 MB/s eta 0:00:03\n",
      "   ------------------------------- -------- 36.6/46.2 MB 3.5 MB/s eta 0:00:03\n",
      "   ------------------------------- -------- 36.7/46.2 MB 3.5 MB/s eta 0:00:03\n",
      "   ------------------------------- -------- 36.8/46.2 MB 3.4 MB/s eta 0:00:03\n",
      "   ------------------------------- -------- 36.9/46.2 MB 3.3 MB/s eta 0:00:03\n",
      "   -------------------------------- ------- 37.0/46.2 MB 3.3 MB/s eta 0:00:03\n",
      "   -------------------------------- ------- 37.2/46.2 MB 3.4 MB/s eta 0:00:03\n",
      "   -------------------------------- ------- 37.3/46.2 MB 3.4 MB/s eta 0:00:03\n",
      "   -------------------------------- ------- 37.6/46.2 MB 3.4 MB/s eta 0:00:03\n",
      "   -------------------------------- ------- 37.8/46.2 MB 3.4 MB/s eta 0:00:03\n",
      "   -------------------------------- ------- 37.9/46.2 MB 3.4 MB/s eta 0:00:03\n",
      "   -------------------------------- ------- 37.9/46.2 MB 3.4 MB/s eta 0:00:03\n",
      "   -------------------------------- ------- 37.9/46.2 MB 3.4 MB/s eta 0:00:03\n",
      "   -------------------------------- ------- 37.9/46.2 MB 3.4 MB/s eta 0:00:03\n",
      "   -------------------------------- ------- 37.9/46.2 MB 3.4 MB/s eta 0:00:03\n",
      "   -------------------------------- ------- 37.9/46.2 MB 3.2 MB/s eta 0:00:03\n",
      "   --------------------------------- ------ 38.7/46.2 MB 3.2 MB/s eta 0:00:03\n",
      "   --------------------------------- ------ 38.7/46.2 MB 3.2 MB/s eta 0:00:03\n",
      "   --------------------------------- ------ 38.7/46.2 MB 3.2 MB/s eta 0:00:03\n",
      "   ---------------------------------- ----- 39.6/46.2 MB 3.3 MB/s eta 0:00:03\n",
      "   ---------------------------------- ----- 40.1/46.2 MB 3.3 MB/s eta 0:00:02\n",
      "   ---------------------------------- ----- 40.3/46.2 MB 3.5 MB/s eta 0:00:02\n",
      "   ---------------------------------- ----- 40.4/46.2 MB 3.5 MB/s eta 0:00:02\n",
      "   ----------------------------------- ---- 40.6/46.2 MB 3.4 MB/s eta 0:00:02\n",
      "   ----------------------------------- ---- 40.7/46.2 MB 3.4 MB/s eta 0:00:02\n",
      "   ----------------------------------- ---- 40.9/46.2 MB 3.4 MB/s eta 0:00:02\n",
      "   ----------------------------------- ---- 41.0/46.2 MB 3.4 MB/s eta 0:00:02\n",
      "   ----------------------------------- ---- 41.1/46.2 MB 3.3 MB/s eta 0:00:02\n",
      "   ----------------------------------- ---- 41.3/46.2 MB 3.3 MB/s eta 0:00:02\n",
      "   ----------------------------------- ---- 41.5/46.2 MB 3.3 MB/s eta 0:00:02\n",
      "   ------------------------------------ --- 41.6/46.2 MB 3.3 MB/s eta 0:00:02\n",
      "   ------------------------------------ --- 41.8/46.2 MB 3.3 MB/s eta 0:00:02\n",
      "   ------------------------------------ --- 42.0/46.2 MB 3.3 MB/s eta 0:00:02\n",
      "   ------------------------------------ --- 42.2/46.2 MB 3.3 MB/s eta 0:00:02\n",
      "   ------------------------------------ --- 42.4/46.2 MB 3.4 MB/s eta 0:00:02\n",
      "   ------------------------------------ --- 42.5/46.2 MB 3.4 MB/s eta 0:00:02\n",
      "   ------------------------------------ --- 42.7/46.2 MB 3.4 MB/s eta 0:00:02\n",
      "   ------------------------------------- -- 42.8/46.2 MB 3.4 MB/s eta 0:00:01\n",
      "   ------------------------------------- -- 43.1/46.2 MB 3.4 MB/s eta 0:00:01\n",
      "   ------------------------------------- -- 43.1/46.2 MB 3.4 MB/s eta 0:00:01\n",
      "   ------------------------------------- -- 43.1/46.2 MB 3.4 MB/s eta 0:00:01\n",
      "   ------------------------------------- -- 43.1/46.2 MB 3.4 MB/s eta 0:00:01\n",
      "   ------------------------------------- -- 43.1/46.2 MB 3.4 MB/s eta 0:00:01\n",
      "   ------------------------------------- -- 43.1/46.2 MB 3.4 MB/s eta 0:00:01\n",
      "   ------------------------------------- -- 43.1/46.2 MB 3.1 MB/s eta 0:00:01\n",
      "   ------------------------------------- -- 43.7/46.2 MB 3.2 MB/s eta 0:00:01\n",
      "   -------------------------------------- - 44.3/46.2 MB 3.3 MB/s eta 0:00:01\n",
      "   -------------------------------------- - 44.4/46.2 MB 3.3 MB/s eta 0:00:01\n",
      "   -------------------------------------- - 44.5/46.2 MB 3.3 MB/s eta 0:00:01\n",
      "   -------------------------------------- - 44.7/46.2 MB 3.3 MB/s eta 0:00:01\n",
      "   -------------------------------------- - 44.8/46.2 MB 3.3 MB/s eta 0:00:01\n",
      "   -------------------------------------- - 45.0/46.2 MB 3.3 MB/s eta 0:00:01\n",
      "   ---------------------------------------  45.1/46.2 MB 3.3 MB/s eta 0:00:01\n",
      "   ---------------------------------------  45.3/46.2 MB 3.3 MB/s eta 0:00:01\n",
      "   ---------------------------------------  45.4/46.2 MB 3.3 MB/s eta 0:00:01\n",
      "   ---------------------------------------  45.5/46.2 MB 3.4 MB/s eta 0:00:01\n",
      "   ---------------------------------------  45.7/46.2 MB 3.4 MB/s eta 0:00:01\n",
      "   ---------------------------------------  45.8/46.2 MB 3.4 MB/s eta 0:00:01\n",
      "   ---------------------------------------  46.0/46.2 MB 3.3 MB/s eta 0:00:01\n",
      "   ---------------------------------------  46.1/46.2 MB 3.3 MB/s eta 0:00:01\n",
      "   ---------------------------------------  46.2/46.2 MB 3.3 MB/s eta 0:00:01\n",
      "   ---------------------------------------  46.2/46.2 MB 3.3 MB/s eta 0:00:01\n",
      "   ---------------------------------------  46.2/46.2 MB 3.3 MB/s eta 0:00:01\n",
      "   ---------------------------------------  46.2/46.2 MB 3.3 MB/s eta 0:00:01\n",
      "   ---------------------------------------  46.2/46.2 MB 3.3 MB/s eta 0:00:01\n",
      "   ---------------------------------------  46.2/46.2 MB 3.3 MB/s eta 0:00:01\n",
      "   ---------------------------------------  46.2/46.2 MB 3.3 MB/s eta 0:00:01\n",
      "   ---------------------------------------  46.2/46.2 MB 3.3 MB/s eta 0:00:01\n",
      "   ---------------------------------------  46.2/46.2 MB 3.3 MB/s eta 0:00:01\n",
      "   ---------------------------------------- 46.2/46.2 MB 2.9 MB/s eta 0:00:00\n",
      "Installing collected packages: scipy\n",
      "Successfully installed scipy-1.12.0\n"
     ]
    }
   ],
   "source": [
    "!pip install pandas\n",
    "!pip install matplotlib\n",
    "!pip install seaborn\n",
    "!pip install folium\n",
    "!pip install geopandas\n",
    "!pip install scipy"
   ],
   "metadata": {
    "collapsed": false,
    "ExecuteTime": {
     "end_time": "2024-03-26T13:24:47.876437700Z",
     "start_time": "2024-03-26T13:23:42.853887100Z"
    }
   },
   "id": "603d2a95b96c0031",
   "execution_count": 342
  },
  {
   "cell_type": "code",
   "outputs": [],
   "source": [
    "import pandas as pd\n",
    "import matplotlib.pyplot as plt\n",
    "import seaborn as sns\n",
    "from matplotlib.ticker import MaxNLocator\n",
    "import geopandas as gpd\n",
    "import folium\n",
    "from folium.features import GeoJsonTooltip\n",
    "from scipy.stats import spearmanr"
   ],
   "metadata": {
    "collapsed": false,
    "ExecuteTime": {
     "end_time": "2024-03-26T13:39:39.442320800Z",
     "start_time": "2024-03-26T13:39:37.413318500Z"
    }
   },
   "id": "b85f7b4c781b8672",
   "execution_count": 344
  },
  {
   "cell_type": "code",
   "outputs": [],
   "source": [
    "db = pd.read_csv(\"database.csv\")"
   ],
   "metadata": {
    "collapsed": false,
    "ExecuteTime": {
     "end_time": "2024-03-26T12:45:03.698184400Z",
     "start_time": "2024-03-26T12:45:02.713323700Z"
    }
   },
   "id": "b8741dd6175b25d2",
   "execution_count": 252
  },
  {
   "cell_type": "code",
   "outputs": [
    {
     "data": {
      "text/plain": "   id                name        date   manner_of_death       armed   age  \\\n0   3          Tim Elliot  2015-01-02              shot         gun  53.0   \n1   4    Lewis Lee Lembke  2015-01-02              shot         gun  47.0   \n2   5  John Paul Quintero  2015-01-03  shot and Tasered     unarmed  23.0   \n3   8     Matthew Hoffman  2015-01-04              shot  toy weapon  32.0   \n4   9   Michael Rodriguez  2015-01-04              shot    nail gun  39.0   \n\n  gender race           city state  signs_of_mental_illness threat_level  \\\n0      M    A        Shelton    WA                     True       attack   \n1      M    W          Aloha    OR                    False       attack   \n2      M    H        Wichita    KS                    False        other   \n3      M    W  San Francisco    CA                     True       attack   \n4      M    H          Evans    CO                    False       attack   \n\n          flee  body_camera  \n0  Not fleeing        False  \n1  Not fleeing        False  \n2  Not fleeing        False  \n3  Not fleeing        False  \n4  Not fleeing        False  ",
      "text/html": "<div>\n<style scoped>\n    .dataframe tbody tr th:only-of-type {\n        vertical-align: middle;\n    }\n\n    .dataframe tbody tr th {\n        vertical-align: top;\n    }\n\n    .dataframe thead th {\n        text-align: right;\n    }\n</style>\n<table border=\"1\" class=\"dataframe\">\n  <thead>\n    <tr style=\"text-align: right;\">\n      <th></th>\n      <th>id</th>\n      <th>name</th>\n      <th>date</th>\n      <th>manner_of_death</th>\n      <th>armed</th>\n      <th>age</th>\n      <th>gender</th>\n      <th>race</th>\n      <th>city</th>\n      <th>state</th>\n      <th>signs_of_mental_illness</th>\n      <th>threat_level</th>\n      <th>flee</th>\n      <th>body_camera</th>\n    </tr>\n  </thead>\n  <tbody>\n    <tr>\n      <th>0</th>\n      <td>3</td>\n      <td>Tim Elliot</td>\n      <td>2015-01-02</td>\n      <td>shot</td>\n      <td>gun</td>\n      <td>53.0</td>\n      <td>M</td>\n      <td>A</td>\n      <td>Shelton</td>\n      <td>WA</td>\n      <td>True</td>\n      <td>attack</td>\n      <td>Not fleeing</td>\n      <td>False</td>\n    </tr>\n    <tr>\n      <th>1</th>\n      <td>4</td>\n      <td>Lewis Lee Lembke</td>\n      <td>2015-01-02</td>\n      <td>shot</td>\n      <td>gun</td>\n      <td>47.0</td>\n      <td>M</td>\n      <td>W</td>\n      <td>Aloha</td>\n      <td>OR</td>\n      <td>False</td>\n      <td>attack</td>\n      <td>Not fleeing</td>\n      <td>False</td>\n    </tr>\n    <tr>\n      <th>2</th>\n      <td>5</td>\n      <td>John Paul Quintero</td>\n      <td>2015-01-03</td>\n      <td>shot and Tasered</td>\n      <td>unarmed</td>\n      <td>23.0</td>\n      <td>M</td>\n      <td>H</td>\n      <td>Wichita</td>\n      <td>KS</td>\n      <td>False</td>\n      <td>other</td>\n      <td>Not fleeing</td>\n      <td>False</td>\n    </tr>\n    <tr>\n      <th>3</th>\n      <td>8</td>\n      <td>Matthew Hoffman</td>\n      <td>2015-01-04</td>\n      <td>shot</td>\n      <td>toy weapon</td>\n      <td>32.0</td>\n      <td>M</td>\n      <td>W</td>\n      <td>San Francisco</td>\n      <td>CA</td>\n      <td>True</td>\n      <td>attack</td>\n      <td>Not fleeing</td>\n      <td>False</td>\n    </tr>\n    <tr>\n      <th>4</th>\n      <td>9</td>\n      <td>Michael Rodriguez</td>\n      <td>2015-01-04</td>\n      <td>shot</td>\n      <td>nail gun</td>\n      <td>39.0</td>\n      <td>M</td>\n      <td>H</td>\n      <td>Evans</td>\n      <td>CO</td>\n      <td>False</td>\n      <td>attack</td>\n      <td>Not fleeing</td>\n      <td>False</td>\n    </tr>\n  </tbody>\n</table>\n</div>"
     },
     "execution_count": 253,
     "metadata": {},
     "output_type": "execute_result"
    }
   ],
   "source": [
    "db.head(5)"
   ],
   "metadata": {
    "collapsed": false,
    "ExecuteTime": {
     "end_time": "2024-03-26T12:45:03.901296300Z",
     "start_time": "2024-03-26T12:45:02.761529900Z"
    }
   },
   "id": "53276f1f8aca6c5e",
   "execution_count": 253
  },
  {
   "cell_type": "markdown",
   "source": [
    "# 2. Quick Exploration & Data Cleaning\n",
    "\n",
    "## 2.1 Missing values\n",
    "\n",
    "**Summary:\n",
    "After locating the missing values, quick visualization and exploration were \n",
    "applied to understand the which are the best treatments. There are too \n",
    "many missing values and rows containing missing values, therefore \n",
    "imputation method was used in most cases. For columns \"name\" and \"race\", due\n",
    "to its irrelevance and complication to impute data, missing data are not \n",
    "treated.**"
   ],
   "metadata": {
    "collapsed": false
   },
   "id": "6e2870ab17a6ef24"
  },
  {
   "cell_type": "markdown",
   "source": [
    "1. Is there any empty values?"
   ],
   "metadata": {
    "collapsed": false
   },
   "id": "b3fa9e72ea3a7ea2"
  },
  {
   "cell_type": "code",
   "outputs": [
    {
     "data": {
      "text/plain": "id                         False\nname                        True\ndate                       False\nmanner_of_death            False\narmed                       True\nage                         True\ngender                      True\nrace                        True\ncity                       False\nstate                      False\nsigns_of_mental_illness    False\nthreat_level               False\nflee                        True\nbody_camera                False\ndtype: bool"
     },
     "execution_count": 254,
     "metadata": {},
     "output_type": "execute_result"
    }
   ],
   "source": [
    "db.isnull().any()"
   ],
   "metadata": {
    "collapsed": false,
    "ExecuteTime": {
     "end_time": "2024-03-26T12:45:03.999306400Z",
     "start_time": "2024-03-26T12:45:02.810919100Z"
    }
   },
   "id": "f3cd608f1eab4673",
   "execution_count": 254
  },
  {
   "cell_type": "markdown",
   "source": [
    "2. How many empty values are there?"
   ],
   "metadata": {
    "collapsed": false
   },
   "id": "4e162d01dd2995a1"
  },
  {
   "cell_type": "code",
   "outputs": [
    {
     "data": {
      "text/plain": "208"
     },
     "execution_count": 255,
     "metadata": {},
     "output_type": "execute_result"
    }
   ],
   "source": [
    "db.isnull().sum().sum()"
   ],
   "metadata": {
    "collapsed": false,
    "ExecuteTime": {
     "end_time": "2024-03-26T12:45:04.015614700Z",
     "start_time": "2024-03-26T12:45:02.848614Z"
    }
   },
   "id": "1fec106228731b01",
   "execution_count": 255
  },
  {
   "cell_type": "code",
   "outputs": [
    {
     "data": {
      "text/plain": "id                           0\nname                        19\ndate                         0\nmanner_of_death              0\narmed                        6\nage                         43\ngender                       1\nrace                       103\ncity                         0\nstate                        0\nsigns_of_mental_illness      0\nthreat_level                 0\nflee                        36\nbody_camera                  0\ndtype: int64"
     },
     "execution_count": 256,
     "metadata": {},
     "output_type": "execute_result"
    }
   ],
   "source": [
    "empty_values = db.isnull().sum()\n",
    "empty_values"
   ],
   "metadata": {
    "collapsed": false,
    "ExecuteTime": {
     "end_time": "2024-03-26T12:45:04.099816100Z",
     "start_time": "2024-03-26T12:45:02.876386600Z"
    }
   },
   "id": "b72f68b1751443b2",
   "execution_count": 256
  },
  {
   "cell_type": "code",
   "outputs": [
    {
     "data": {
      "text/plain": "([0, 1, 2, 3, 4, 5, 6, 7, 8, 9, 10, 11, 12, 13],\n [Text(0, 0, 'race'),\n  Text(1, 0, 'age'),\n  Text(2, 0, 'flee'),\n  Text(3, 0, 'name'),\n  Text(4, 0, 'armed'),\n  Text(5, 0, 'gender'),\n  Text(6, 0, 'id'),\n  Text(7, 0, 'date'),\n  Text(8, 0, 'manner_of_death'),\n  Text(9, 0, 'city'),\n  Text(10, 0, 'state'),\n  Text(11, 0, 'signs_of_mental_illness'),\n  Text(12, 0, 'threat_level'),\n  Text(13, 0, 'body_camera')])"
     },
     "execution_count": 257,
     "metadata": {},
     "output_type": "execute_result"
    },
    {
     "data": {
      "text/plain": "<Figure size 500x250 with 1 Axes>",
      "image/png": "[encoded data removed]"
     },
     "metadata": {},
     "output_type": "display_data"
    }
   ],
   "source": [
    "empty_values_df = empty_values.reset_index()\n",
    "empty_values_df.columns = [\"column_name\", \"count\"]\n",
    "empty_values_df_ordered = empty_values_df.sort_values(\n",
    "    \"count\", ascending=False)\n",
    "\n",
    "plt.figure(figsize=(5, 2.5))\n",
    "sns.barplot(data=empty_values_df_ordered, \n",
    "            x=empty_values_df_ordered[\"column_name\"], \n",
    "            y=empty_values_df_ordered[\"count\"])\n",
    "plt.xticks(rotation=90)          "
   ],
   "metadata": {
    "collapsed": false,
    "ExecuteTime": {
     "end_time": "2024-03-26T12:45:05.649895400Z",
     "start_time": "2024-03-26T12:45:02.908496300Z"
    }
   },
   "id": "90da132b6499fa74",
   "execution_count": 257
  },
  {
   "cell_type": "markdown",
   "source": [
    "3. How many rows with empty values?"
   ],
   "metadata": {
    "collapsed": false
   },
   "id": "368d9c0b5a8473fc"
  },
  {
   "cell_type": "code",
   "outputs": [
    {
     "data": {
      "text/plain": "        id                  name        date   manner_of_death  \\\n59     110      William Campbell  2015-01-25              shot   \n124    584     Alejandro Salazar  2015-02-20              shot   \n241    244    John Marcell Allen  2015-03-30              shot   \n266    534            Mark Smith  2015-04-09  shot and Tasered   \n340    433            Joseph Roy  2015-05-07              shot   \n...    ...                   ...         ...               ...   \n2100  2345         Mauro Garnica  2017-02-15              shot   \n2125  2373     Kenneth Robertson  2017-02-23              shot   \n2132  2383  Lorenzo Antoine Cruz  2017-02-25              shot   \n2133  2384                   NaN  2017-02-25              shot   \n2134  2379         Jacob Taulbee  2017-02-26              shot   \n\n               armed   age gender race           city state  \\\n59               gun  59.0      M  NaN        Winslow    NJ   \n124              gun   NaN      M    H        Houston    TX   \n241              gun  54.0      M  NaN   Boulder City    NV   \n266          vehicle  54.0      M  NaN     Kellyville    OK   \n340            knife  72.0      M  NaN  Lawrenceville    GA   \n...              ...   ...    ...  ...            ...   ...   \n2100  unknown weapon  55.0      M  NaN         Newman    CA   \n2125             gun  54.0      M  NaN        Fairfax    OK   \n2132      toy weapon  23.0      M  NaN        Rocklin    CA   \n2133             gun   NaN    NaN  NaN        Lumpkin    GA   \n2134           knife   NaN      M    W      Englewood    FL   \n\n      signs_of_mental_illness threat_level         flee  body_camera  \n59                      False       attack  Not fleeing        False  \n124                     False       attack          Car        False  \n241                     False       attack  Not fleeing        False  \n266                     False       attack        Other        False  \n340                      True        other  Not fleeing        False  \n...                       ...          ...          ...          ...  \n2100                    False       attack  Not fleeing        False  \n2125                    False       attack  Not fleeing        False  \n2132                    False       attack         Foot        False  \n2133                    False       attack          Car        False  \n2134                    False        other  Not fleeing        False  \n\n[156 rows x 14 columns]",
      "text/html": "<div>\n<style scoped>\n    .dataframe tbody tr th:only-of-type {\n        vertical-align: middle;\n    }\n\n    .dataframe tbody tr th {\n        vertical-align: top;\n    }\n\n    .dataframe thead th {\n        text-align: right;\n    }\n</style>\n<table border=\"1\" class=\"dataframe\">\n  <thead>\n    <tr style=\"text-align: right;\">\n      <th></th>\n      <th>id</th>\n      <th>name</th>\n      <th>date</th>\n      <th>manner_of_death</th>\n      <th>armed</th>\n      <th>age</th>\n      <th>gender</th>\n      <th>race</th>\n      <th>city</th>\n      <th>state</th>\n      <th>signs_of_mental_illness</th>\n      <th>threat_level</th>\n      <th>flee</th>\n      <th>body_camera</th>\n    </tr>\n  </thead>\n  <tbody>\n    <tr>\n      <th>59</th>\n      <td>110</td>\n      <td>William Campbell</td>\n      <td>2015-01-25</td>\n      <td>shot</td>\n      <td>gun</td>\n      <td>59.0</td>\n      <td>M</td>\n      <td>NaN</td>\n      <td>Winslow</td>\n      <td>NJ</td>\n      <td>False</td>\n      <td>attack</td>\n      <td>Not fleeing</td>\n      <td>False</td>\n    </tr>\n    <tr>\n      <th>124</th>\n      <td>584</td>\n      <td>Alejandro Salazar</td>\n      <td>2015-02-20</td>\n      <td>shot</td>\n      <td>gun</td>\n      <td>NaN</td>\n      <td>M</td>\n      <td>H</td>\n      <td>Houston</td>\n      <td>TX</td>\n      <td>False</td>\n      <td>attack</td>\n      <td>Car</td>\n      <td>False</td>\n    </tr>\n    <tr>\n      <th>241</th>\n      <td>244</td>\n      <td>John Marcell Allen</td>\n      <td>2015-03-30</td>\n      <td>shot</td>\n      <td>gun</td>\n      <td>54.0</td>\n      <td>M</td>\n      <td>NaN</td>\n      <td>Boulder City</td>\n      <td>NV</td>\n      <td>False</td>\n      <td>attack</td>\n      <td>Not fleeing</td>\n      <td>False</td>\n    </tr>\n    <tr>\n      <th>266</th>\n      <td>534</td>\n      <td>Mark Smith</td>\n      <td>2015-04-09</td>\n      <td>shot and Tasered</td>\n      <td>vehicle</td>\n      <td>54.0</td>\n      <td>M</td>\n      <td>NaN</td>\n      <td>Kellyville</td>\n      <td>OK</td>\n      <td>False</td>\n      <td>attack</td>\n      <td>Other</td>\n      <td>False</td>\n    </tr>\n    <tr>\n      <th>340</th>\n      <td>433</td>\n      <td>Joseph Roy</td>\n      <td>2015-05-07</td>\n      <td>shot</td>\n      <td>knife</td>\n      <td>72.0</td>\n      <td>M</td>\n      <td>NaN</td>\n      <td>Lawrenceville</td>\n      <td>GA</td>\n      <td>True</td>\n      <td>other</td>\n      <td>Not fleeing</td>\n      <td>False</td>\n    </tr>\n    <tr>\n      <th>...</th>\n      <td>...</td>\n      <td>...</td>\n      <td>...</td>\n      <td>...</td>\n      <td>...</td>\n      <td>...</td>\n      <td>...</td>\n      <td>...</td>\n      <td>...</td>\n      <td>...</td>\n      <td>...</td>\n      <td>...</td>\n      <td>...</td>\n      <td>...</td>\n    </tr>\n    <tr>\n      <th>2100</th>\n      <td>2345</td>\n      <td>Mauro Garnica</td>\n      <td>2017-02-15</td>\n      <td>shot</td>\n      <td>unknown weapon</td>\n      <td>55.0</td>\n      <td>M</td>\n      <td>NaN</td>\n      <td>Newman</td>\n      <td>CA</td>\n      <td>False</td>\n      <td>attack</td>\n      <td>Not fleeing</td>\n      <td>False</td>\n    </tr>\n    <tr>\n      <th>2125</th>\n      <td>2373</td>\n      <td>Kenneth Robertson</td>\n      <td>2017-02-23</td>\n      <td>shot</td>\n      <td>gun</td>\n      <td>54.0</td>\n      <td>M</td>\n      <td>NaN</td>\n      <td>Fairfax</td>\n      <td>OK</td>\n      <td>False</td>\n      <td>attack</td>\n      <td>Not fleeing</td>\n      <td>False</td>\n    </tr>\n    <tr>\n      <th>2132</th>\n      <td>2383</td>\n      <td>Lorenzo Antoine Cruz</td>\n      <td>2017-02-25</td>\n      <td>shot</td>\n      <td>toy weapon</td>\n      <td>23.0</td>\n      <td>M</td>\n      <td>NaN</td>\n      <td>Rocklin</td>\n      <td>CA</td>\n      <td>False</td>\n      <td>attack</td>\n      <td>Foot</td>\n      <td>False</td>\n    </tr>\n    <tr>\n      <th>2133</th>\n      <td>2384</td>\n      <td>NaN</td>\n      <td>2017-02-25</td>\n      <td>shot</td>\n      <td>gun</td>\n      <td>NaN</td>\n      <td>NaN</td>\n      <td>NaN</td>\n      <td>Lumpkin</td>\n      <td>GA</td>\n      <td>False</td>\n      <td>attack</td>\n      <td>Car</td>\n      <td>False</td>\n    </tr>\n    <tr>\n      <th>2134</th>\n      <td>2379</td>\n      <td>Jacob Taulbee</td>\n      <td>2017-02-26</td>\n      <td>shot</td>\n      <td>knife</td>\n      <td>NaN</td>\n      <td>M</td>\n      <td>W</td>\n      <td>Englewood</td>\n      <td>FL</td>\n      <td>False</td>\n      <td>other</td>\n      <td>Not fleeing</td>\n      <td>False</td>\n    </tr>\n  </tbody>\n</table>\n<p>156 rows × 14 columns</p>\n</div>"
     },
     "execution_count": 258,
     "metadata": {},
     "output_type": "execute_result"
    }
   ],
   "source": [
    "rows_with_emtpy = db[db.isnull().any(axis=1)]\n",
    "rows_with_emtpy"
   ],
   "metadata": {
    "collapsed": false,
    "ExecuteTime": {
     "end_time": "2024-03-26T12:45:05.746799500Z",
     "start_time": "2024-03-26T12:45:04.279603700Z"
    }
   },
   "id": "327a3d78272ed697",
   "execution_count": 258
  },
  {
   "cell_type": "code",
   "outputs": [
    {
     "data": {
      "text/plain": "156"
     },
     "execution_count": 259,
     "metadata": {},
     "output_type": "execute_result"
    }
   ],
   "source": [
    "number_rows = rows_with_emtpy.shape[0]\n",
    "number_rows"
   ],
   "metadata": {
    "collapsed": false,
    "ExecuteTime": {
     "end_time": "2024-03-26T12:45:05.790166600Z",
     "start_time": "2024-03-26T12:45:04.357785Z"
    }
   },
   "id": "bb8128edb7097460",
   "execution_count": 259
  },
  {
   "cell_type": "markdown",
   "source": [
    "4. What is the percentage of rows containing missing values out of all rows?"
   ],
   "metadata": {
    "collapsed": false
   },
   "id": "545da1f35a49b3db"
  },
  {
   "cell_type": "code",
   "outputs": [
    {
     "data": {
      "text/plain": "0.07282913165266107"
     },
     "execution_count": 260,
     "metadata": {},
     "output_type": "execute_result"
    }
   ],
   "source": [
    "db_rows = db.shape[0]\n",
    "number_rows/db_rows"
   ],
   "metadata": {
    "collapsed": false,
    "ExecuteTime": {
     "end_time": "2024-03-26T12:45:05.836942700Z",
     "start_time": "2024-03-26T12:45:04.385219300Z"
    }
   },
   "id": "bd2230e9060e8d30",
   "execution_count": 260
  },
  {
   "cell_type": "markdown",
   "source": [
    "7% is too much data to delete. Can not simply delete rows containing empty \n",
    "values."
   ],
   "metadata": {
    "collapsed": false
   },
   "id": "ab0c8d8468f8e286"
  },
  {
   "cell_type": "markdown",
   "source": [
    "5. What is the percentage of missing values in each column?"
   ],
   "metadata": {
    "collapsed": false
   },
   "id": "2bef71020f878c4"
  },
  {
   "cell_type": "code",
   "outputs": [
    {
     "data": {
      "text/plain": "                column_name  count         %\n0                        id      0  0.000000\n1                      name     19  0.887021\n2                      date      0  0.000000\n3           manner_of_death      0  0.000000\n4                     armed      6  0.280112\n5                       age     43  2.007470\n6                    gender      1  0.046685\n7                      race    103  4.808590\n8                      city      0  0.000000\n9                     state      0  0.000000\n10  signs_of_mental_illness      0  0.000000\n11             threat_level      0  0.000000\n12                     flee     36  1.680672\n13              body_camera      0  0.000000",
      "text/html": "<div>\n<style scoped>\n    .dataframe tbody tr th:only-of-type {\n        vertical-align: middle;\n    }\n\n    .dataframe tbody tr th {\n        vertical-align: top;\n    }\n\n    .dataframe thead th {\n        text-align: right;\n    }\n</style>\n<table border=\"1\" class=\"dataframe\">\n  <thead>\n    <tr style=\"text-align: right;\">\n      <th></th>\n      <th>column_name</th>\n      <th>count</th>\n      <th>%</th>\n    </tr>\n  </thead>\n  <tbody>\n    <tr>\n      <th>0</th>\n      <td>id</td>\n      <td>0</td>\n      <td>0.000000</td>\n    </tr>\n    <tr>\n      <th>1</th>\n      <td>name</td>\n      <td>19</td>\n      <td>0.887021</td>\n    </tr>\n    <tr>\n      <th>2</th>\n      <td>date</td>\n      <td>0</td>\n      <td>0.000000</td>\n    </tr>\n    <tr>\n      <th>3</th>\n      <td>manner_of_death</td>\n      <td>0</td>\n      <td>0.000000</td>\n    </tr>\n    <tr>\n      <th>4</th>\n      <td>armed</td>\n      <td>6</td>\n      <td>0.280112</td>\n    </tr>\n    <tr>\n      <th>5</th>\n      <td>age</td>\n      <td>43</td>\n      <td>2.007470</td>\n    </tr>\n    <tr>\n      <th>6</th>\n      <td>gender</td>\n      <td>1</td>\n      <td>0.046685</td>\n    </tr>\n    <tr>\n      <th>7</th>\n      <td>race</td>\n      <td>103</td>\n      <td>4.808590</td>\n    </tr>\n    <tr>\n      <th>8</th>\n      <td>city</td>\n      <td>0</td>\n      <td>0.000000</td>\n    </tr>\n    <tr>\n      <th>9</th>\n      <td>state</td>\n      <td>0</td>\n      <td>0.000000</td>\n    </tr>\n    <tr>\n      <th>10</th>\n      <td>signs_of_mental_illness</td>\n      <td>0</td>\n      <td>0.000000</td>\n    </tr>\n    <tr>\n      <th>11</th>\n      <td>threat_level</td>\n      <td>0</td>\n      <td>0.000000</td>\n    </tr>\n    <tr>\n      <th>12</th>\n      <td>flee</td>\n      <td>36</td>\n      <td>1.680672</td>\n    </tr>\n    <tr>\n      <th>13</th>\n      <td>body_camera</td>\n      <td>0</td>\n      <td>0.000000</td>\n    </tr>\n  </tbody>\n</table>\n</div>"
     },
     "execution_count": 261,
     "metadata": {},
     "output_type": "execute_result"
    }
   ],
   "source": [
    "empty_values_df[\"%\"] = empty_values_df[\"count\"]*100/db_rows\n",
    "empty_values_df"
   ],
   "metadata": {
    "collapsed": false,
    "ExecuteTime": {
     "end_time": "2024-03-26T12:45:05.932630700Z",
     "start_time": "2024-03-26T12:45:04.415586300Z"
    }
   },
   "id": "9d590a8f4f1759db",
   "execution_count": 261
  },
  {
   "cell_type": "markdown",
   "source": [
    "No column has enough missing values to be removing the whole column.\n",
    "\n",
    "### 2.1.1 Imputation\n",
    "Instead of deleting data, we will leave name as it is, replace race with its\n",
    "own category and impute data for the rest: age, flee, armed, gender.\n",
    "Visualizing the distribution helped pick which imputation method affects \n",
    "the least our data analysis. \n",
    "&emsp;Flee, Armed, Gender (categorical): Mode value\n",
    "&emsp;Age (numeric): Median value\n",
    "In the end, another visualization was done to ensure imputation's influence \n",
    "was minimal."
   ],
   "metadata": {
    "collapsed": false
   },
   "id": "ed89e08788c51176"
  },
  {
   "cell_type": "code",
   "outputs": [],
   "source": [
    "db_replaced = db.copy()"
   ],
   "metadata": {
    "collapsed": false,
    "ExecuteTime": {
     "end_time": "2024-03-26T12:45:06.048049200Z",
     "start_time": "2024-03-26T12:45:04.462820400Z"
    }
   },
   "id": "b93661c933ffe384",
   "execution_count": 262
  },
  {
   "cell_type": "code",
   "outputs": [],
   "source": [
    "db_replaced[\"race\"] = db_replaced[\"race\"].fillna(\"null\")"
   ],
   "metadata": {
    "collapsed": false,
    "ExecuteTime": {
     "end_time": "2024-03-26T12:45:06.060035700Z",
     "start_time": "2024-03-26T12:45:04.479703800Z"
    }
   },
   "id": "f2557b4d161d858c",
   "execution_count": 263
  },
  {
   "cell_type": "markdown",
   "source": [
    "6. How may unique values for *armed*, *age*, *gender*, *flee* ? "
   ],
   "metadata": {
    "collapsed": false
   },
   "id": "85a9d8838e4f593d"
  },
  {
   "cell_type": "code",
   "outputs": [
    {
     "data": {
      "text/plain": "64"
     },
     "execution_count": 264,
     "metadata": {},
     "output_type": "execute_result"
    }
   ],
   "source": [
    "db[\"armed\"].nunique()"
   ],
   "metadata": {
    "collapsed": false,
    "ExecuteTime": {
     "end_time": "2024-03-26T12:45:06.121932500Z",
     "start_time": "2024-03-26T12:45:04.496113Z"
    }
   },
   "id": "24dcdc2e00ee45c2",
   "execution_count": 264
  },
  {
   "cell_type": "code",
   "outputs": [
    {
     "data": {
      "text/plain": "71"
     },
     "execution_count": 265,
     "metadata": {},
     "output_type": "execute_result"
    }
   ],
   "source": [
    "db[\"age\"].nunique()"
   ],
   "metadata": {
    "collapsed": false,
    "ExecuteTime": {
     "end_time": "2024-03-26T12:45:06.188366800Z",
     "start_time": "2024-03-26T12:45:04.521135Z"
    }
   },
   "id": "4f3f470a77a01593",
   "execution_count": 265
  },
  {
   "cell_type": "code",
   "outputs": [
    {
     "data": {
      "text/plain": "2"
     },
     "execution_count": 266,
     "metadata": {},
     "output_type": "execute_result"
    }
   ],
   "source": [
    "db[\"gender\"].nunique()"
   ],
   "metadata": {
    "collapsed": false,
    "ExecuteTime": {
     "end_time": "2024-03-26T12:45:06.241439600Z",
     "start_time": "2024-03-26T12:45:04.554182700Z"
    }
   },
   "id": "9d4e47710a322225",
   "execution_count": 266
  },
  {
   "cell_type": "code",
   "outputs": [
    {
     "data": {
      "text/plain": "4"
     },
     "execution_count": 267,
     "metadata": {},
     "output_type": "execute_result"
    }
   ],
   "source": [
    "db[\"flee\"].nunique()"
   ],
   "metadata": {
    "collapsed": false,
    "ExecuteTime": {
     "end_time": "2024-03-26T12:45:07.318541800Z",
     "start_time": "2024-03-26T12:45:04.578189400Z"
    }
   },
   "id": "f54635d0eac374bc",
   "execution_count": 267
  },
  {
   "cell_type": "markdown",
   "source": [
    "7. How many of each?"
   ],
   "metadata": {
    "collapsed": false
   },
   "id": "f34b645423181a77"
  },
  {
   "cell_type": "code",
   "outputs": [
    {
     "data": {
      "text/plain": "armed\ngun                                 1173\nknife                                319\nunarmed                              155\nvehicle                              136\nundetermined                         101\n                                    ... \nbean-bag gun                           1\nbaseball bat and fireplace poker       1\nstraight edge razor                    1\nhand torch                             1\npole and knife                         1\nName: count, Length: 64, dtype: int64"
     },
     "execution_count": 268,
     "metadata": {},
     "output_type": "execute_result"
    }
   ],
   "source": [
    "db.armed.value_counts()"
   ],
   "metadata": {
    "collapsed": false,
    "ExecuteTime": {
     "end_time": "2024-03-26T12:45:07.319079300Z",
     "start_time": "2024-03-26T12:45:04.614392600Z"
    }
   },
   "id": "7412f2da3c7bac19",
   "execution_count": 268
  },
  {
   "cell_type": "code",
   "outputs": [
    {
     "data": {
      "text/plain": "age\n25.0    85\n31.0    82\n36.0    79\n29.0    75\n26.0    65\n        ..\n80.0     1\n14.0     1\n82.0     1\n13.0     1\n73.0     1\nName: count, Length: 71, dtype: int64"
     },
     "execution_count": 269,
     "metadata": {},
     "output_type": "execute_result"
    }
   ],
   "source": [
    "db.age.value_counts()"
   ],
   "metadata": {
    "collapsed": false,
    "ExecuteTime": {
     "end_time": "2024-03-26T12:45:07.341416700Z",
     "start_time": "2024-03-26T12:45:04.644177500Z"
    }
   },
   "id": "e91ee71a45fb2335",
   "execution_count": 269
  },
  {
   "cell_type": "code",
   "outputs": [
    {
     "data": {
      "text/plain": "gender\nM    2052\nF      89\nName: count, dtype: int64"
     },
     "execution_count": 270,
     "metadata": {},
     "output_type": "execute_result"
    }
   ],
   "source": [
    "db.gender.value_counts()"
   ],
   "metadata": {
    "collapsed": false,
    "ExecuteTime": {
     "end_time": "2024-03-26T12:45:07.655451600Z",
     "start_time": "2024-03-26T12:45:04.668244300Z"
    }
   },
   "id": "f5548f9b5a8904d8",
   "execution_count": 270
  },
  {
   "cell_type": "code",
   "outputs": [
    {
     "data": {
      "text/plain": "flee\nNot fleeing    1453\nCar             318\nFoot            254\nOther            81\nName: count, dtype: int64"
     },
     "execution_count": 271,
     "metadata": {},
     "output_type": "execute_result"
    }
   ],
   "source": [
    "db.flee.value_counts()"
   ],
   "metadata": {
    "collapsed": false,
    "ExecuteTime": {
     "end_time": "2024-03-26T12:45:07.743270800Z",
     "start_time": "2024-03-26T12:45:04.702327300Z"
    }
   },
   "id": "ab99035af870720f",
   "execution_count": 271
  },
  {
   "cell_type": "markdown",
   "source": [
    "Visualizing it."
   ],
   "metadata": {
    "collapsed": false
   },
   "id": "c49c2efcb153ae62"
  },
  {
   "cell_type": "code",
   "outputs": [
    {
     "data": {
      "text/plain": "<Figure size 1500x1500 with 4 Axes>",
      "image/png": "[encoded data removed]"
     },
     "metadata": {},
     "output_type": "display_data"
    }
   ],
   "source": [
    "fig = plt.figure(figsize=(15, 15))\n",
    "\n",
    "ax1 = plt.subplot(2, 2, 1)\n",
    "sns.countplot(data=db, x=db[\"armed\"])\n",
    "plt.xticks(rotation=90, fontsize=7)\n",
    "\n",
    "ax2 = plt.subplot(2, 2, 2)\n",
    "sns.countplot(data=db, x=db[\"age\"])\n",
    "ax2.xaxis.set_major_locator(MaxNLocator(integer=True, prune=\"both\", \n",
    "                                        nbins=len(db[\"age\"].unique())//2))\n",
    "plt.xticks(rotation=90, fontsize=7)\n",
    "\n",
    "ax3 = plt.subplot(2, 2, 3)\n",
    "sns.countplot(data=db, x=db[\"gender\"])\n",
    "\n",
    "ax4 = plt.subplot(2, 2, 4)\n",
    "sns.countplot(data=db, x=db[\"flee\"])\n",
    "\n",
    "plt.subplots_adjust(hspace=0.5)"
   ],
   "metadata": {
    "collapsed": false,
    "ExecuteTime": {
     "end_time": "2024-03-26T12:45:10.760536300Z",
     "start_time": "2024-03-26T12:45:04.741107300Z"
    }
   },
   "id": "5fdd4d7da474a53",
   "execution_count": 272
  },
  {
   "cell_type": "markdown",
   "source": [
    "**Imputation** "
   ],
   "metadata": {
    "collapsed": false
   },
   "id": "914d6335901077c0"
  },
  {
   "cell_type": "code",
   "outputs": [],
   "source": [
    "db_replaced[\"armed\"] = db[\"armed\"].fillna(db[\"armed\"].mode()[0])\n",
    "db_replaced[\"gender\"] = db[\"gender\"].fillna(db[\"gender\"].mode()[0])\n",
    "db_replaced[\"flee\"] = db[\"flee\"].fillna(db[\"flee\"].mode()[0])\n",
    "db_replaced[\"age\"] = db[\"age\"].fillna(db[\"age\"].median())"
   ],
   "metadata": {
    "collapsed": false,
    "ExecuteTime": {
     "end_time": "2024-03-26T12:45:11.494832500Z",
     "start_time": "2024-03-26T12:45:10.507322400Z"
    }
   },
   "id": "1d1a3b7ebc0d5ffb",
   "execution_count": 273
  },
  {
   "cell_type": "markdown",
   "source": [
    "Visualizing for better comparison to see influence of replaced values."
   ],
   "metadata": {
    "collapsed": false
   },
   "id": "a8a020fda1e67472"
  },
  {
   "cell_type": "code",
   "outputs": [
    {
     "data": {
      "text/plain": "<Figure size 1500x1500 with 4 Axes>",
      "image/png": "[encoded data removed]"
     },
     "metadata": {},
     "output_type": "display_data"
    }
   ],
   "source": [
    "fig = plt.figure(figsize=(15, 15))\n",
    "\n",
    "ax1 = plt.subplot(2, 2, 1)\n",
    "sns.countplot(data=db, x=db[\"armed\"], label=\"Original\", alpha=1)\n",
    "sns.countplot(data=db_replaced, x=db_replaced[\"armed\"], color=\"red\", \n",
    "              label=\"Replaced\", alpha=0.5)\n",
    "plt.xticks(rotation=90, fontsize=7)\n",
    "\n",
    "ax2 = plt.subplot(2, 2, 2)\n",
    "sns.countplot(data=db, x=db[\"age\"], label=\"Original\", alpha=1)\n",
    "sns.countplot(data=db_replaced, x=db_replaced[\"age\"], color=\"red\", \n",
    "              label=\"Replaced\", alpha=0.5)\n",
    "ax2.xaxis.set_major_locator(MaxNLocator(integer=True, prune=\"both\", \n",
    "                                        nbins=len(db[\"age\"].unique())//2))\n",
    "plt.xticks(rotation=90, fontsize=7)\n",
    "\n",
    "ax3 = plt.subplot(2, 2, 3)\n",
    "sns.countplot(data=db, x=db[\"gender\"], label=\"Original\", alpha=1)\n",
    "sns.countplot(data=db_replaced, x=db_replaced[\"gender\"], color=\"red\", \n",
    "              label=\"Replaced\", alpha=0.5)\n",
    "\n",
    "ax4 = plt.subplot(2, 2, 4)\n",
    "sns.countplot(data=db, x=db[\"flee\"], label=\"Original\", alpha=1)\n",
    "sns.countplot(data=db_replaced, x=db_replaced[\"flee\"], color=\"red\", \n",
    "              label= \"Replaced\", alpha=0.5)\n",
    "\n",
    "plt.subplots_adjust(hspace=0.5)"
   ],
   "metadata": {
    "collapsed": false,
    "ExecuteTime": {
     "end_time": "2024-03-26T12:45:17.470790500Z",
     "start_time": "2024-03-26T12:45:10.551852600Z"
    }
   },
   "id": "b28a8c68e99877ca",
   "execution_count": 274
  },
  {
   "cell_type": "markdown",
   "source": [],
   "metadata": {
    "collapsed": false
   },
   "id": "180e2495d4433747"
  },
  {
   "cell_type": "markdown",
   "source": [
    "8. Did the new values change the data statistics for *age* ?"
   ],
   "metadata": {
    "collapsed": false
   },
   "id": "fb4cb8a646de01f9"
  },
  {
   "cell_type": "code",
   "outputs": [
    {
     "data": {
      "text/plain": "count    2099.000000\nmean       36.484516\nstd        12.874000\nmin         6.000000\n25%        26.000000\n50%        34.000000\n75%        45.000000\nmax        86.000000\nName: age, dtype: float64"
     },
     "execution_count": 275,
     "metadata": {},
     "output_type": "execute_result"
    }
   ],
   "source": [
    "db[\"age\"].describe()"
   ],
   "metadata": {
    "collapsed": false,
    "ExecuteTime": {
     "end_time": "2024-03-26T12:45:18.040380500Z",
     "start_time": "2024-03-26T12:45:17.433967500Z"
    }
   },
   "id": "52b0f44890acf364",
   "execution_count": 275
  },
  {
   "cell_type": "code",
   "outputs": [
    {
     "data": {
      "text/plain": "count    2142.000000\nmean       36.434641\nstd        12.748828\nmin         6.000000\n25%        27.000000\n50%        34.000000\n75%        45.000000\nmax        86.000000\nName: age, dtype: float64"
     },
     "execution_count": 276,
     "metadata": {},
     "output_type": "execute_result"
    }
   ],
   "source": [
    "db_replaced[\"age\"].describe()"
   ],
   "metadata": {
    "collapsed": false,
    "ExecuteTime": {
     "end_time": "2024-03-26T12:45:18.142825Z",
     "start_time": "2024-03-26T12:45:17.465753100Z"
    }
   },
   "id": "811afde7ea466fba",
   "execution_count": 276
  },
  {
   "cell_type": "markdown",
   "source": [
    "## 2.2 Duplicates\n",
    "\n",
    "**Summary: No duplicates in dataset.**"
   ],
   "metadata": {
    "collapsed": false
   },
   "id": "b78f53cceb598c9d"
  },
  {
   "cell_type": "markdown",
   "source": [
    "9. Is there any duplicated rows? "
   ],
   "metadata": {
    "collapsed": false
   },
   "id": "402d3c92901486b2"
  },
  {
   "cell_type": "code",
   "outputs": [
    {
     "data": {
      "text/plain": "False"
     },
     "execution_count": 277,
     "metadata": {},
     "output_type": "execute_result"
    }
   ],
   "source": [
    "db_replaced.duplicated().any()"
   ],
   "metadata": {
    "collapsed": false,
    "ExecuteTime": {
     "end_time": "2024-03-26T12:45:18.192356Z",
     "start_time": "2024-03-26T12:45:17.514568100Z"
    }
   },
   "id": "a968d2f956aadfcd",
   "execution_count": 277
  },
  {
   "cell_type": "markdown",
   "source": [
    "10. Is there any same case/Id?"
   ],
   "metadata": {
    "collapsed": false
   },
   "id": "2618baa53a506cbf"
  },
  {
   "cell_type": "code",
   "outputs": [
    {
     "data": {
      "text/plain": "False"
     },
     "execution_count": 278,
     "metadata": {},
     "output_type": "execute_result"
    }
   ],
   "source": [
    "db_replaced.id.duplicated().any()"
   ],
   "metadata": {
    "collapsed": false,
    "ExecuteTime": {
     "end_time": "2024-03-26T12:45:18.232470300Z",
     "start_time": "2024-03-26T12:45:17.550691100Z"
    }
   },
   "id": "dc6a37dd0f047902",
   "execution_count": 278
  },
  {
   "cell_type": "markdown",
   "source": [
    "## 2.3 Inadequate Datatypes\n",
    "\n",
    "**Summary: Columns *date* and *age* datatypes are changed to datetime64 and \n",
    "int64.**"
   ],
   "metadata": {
    "collapsed": false
   },
   "id": "83e91abde169e9c4"
  },
  {
   "cell_type": "markdown",
   "source": [
    "11. What are the data types of each column? "
   ],
   "metadata": {
    "collapsed": false
   },
   "id": "eb29a0b5818f6d67"
  },
  {
   "cell_type": "code",
   "outputs": [
    {
     "data": {
      "text/plain": "id                           int64\nname                        object\ndate                        object\nmanner_of_death             object\narmed                       object\nage                        float64\ngender                      object\nrace                        object\ncity                        object\nstate                       object\nsigns_of_mental_illness       bool\nthreat_level                object\nflee                        object\nbody_camera                   bool\ndtype: object"
     },
     "execution_count": 279,
     "metadata": {},
     "output_type": "execute_result"
    }
   ],
   "source": [
    "db_replaced.dtypes"
   ],
   "metadata": {
    "collapsed": false,
    "ExecuteTime": {
     "end_time": "2024-03-26T12:45:18.538742600Z",
     "start_time": "2024-03-26T12:45:17.576720100Z"
    }
   },
   "id": "ea312d56d5e6b29f",
   "execution_count": 279
  },
  {
   "cell_type": "markdown",
   "source": [
    "Age and date datatypes are inadequate."
   ],
   "metadata": {
    "collapsed": false
   },
   "id": "35ec5d395eddd0eb"
  },
  {
   "cell_type": "code",
   "outputs": [],
   "source": [
    "db_replaced.age = db_replaced.age.astype(\"int64\")"
   ],
   "metadata": {
    "collapsed": false,
    "ExecuteTime": {
     "end_time": "2024-03-26T12:45:18.598216200Z",
     "start_time": "2024-03-26T12:45:17.605467Z"
    }
   },
   "id": "491d39817f1d91a5",
   "execution_count": 280
  },
  {
   "cell_type": "code",
   "outputs": [],
   "source": [
    "db_replaced[\"date\"] = pd.to_datetime(db_replaced[\"date\"], format=\"%Y-%m-%d\")"
   ],
   "metadata": {
    "collapsed": false,
    "ExecuteTime": {
     "end_time": "2024-03-26T12:45:18.650914300Z",
     "start_time": "2024-03-26T12:45:17.620472800Z"
    }
   },
   "id": "4794724fa04d3faa",
   "execution_count": 281
  },
  {
   "cell_type": "code",
   "outputs": [
    {
     "data": {
      "text/plain": "id                                  int64\nname                               object\ndate                       datetime64[ns]\nmanner_of_death                    object\narmed                              object\nage                                 int64\ngender                             object\nrace                               object\ncity                               object\nstate                              object\nsigns_of_mental_illness              bool\nthreat_level                       object\nflee                               object\nbody_camera                          bool\ndtype: object"
     },
     "execution_count": 282,
     "metadata": {},
     "output_type": "execute_result"
    }
   ],
   "source": [
    "db_replaced.dtypes"
   ],
   "metadata": {
    "collapsed": false,
    "ExecuteTime": {
     "end_time": "2024-03-26T12:45:18.708114100Z",
     "start_time": "2024-03-26T12:45:17.649585700Z"
    }
   },
   "id": "9e624d12c3c9c42a",
   "execution_count": 282
  },
  {
   "cell_type": "markdown",
   "source": [
    "## 2.4 Outliers/Quick visualization\n",
    "\n",
    "**Summary: \n",
    "Quick visualization of the distribution of deaths through the features. \n",
    "This part first focuses on time and age, then state and city, \n",
    "at last all the categorical features on one figure with shared axis.\n",
    "Each part is also followed by data queries and outliers when possible for \n",
    "better understanding.**"
   ],
   "metadata": {
    "collapsed": false
   },
   "id": "9d209ced053593e3"
  },
  {
   "cell_type": "markdown",
   "source": [
    "12. What is the size of our dataset? "
   ],
   "metadata": {
    "collapsed": false
   },
   "id": "8315122c7989d750"
  },
  {
   "cell_type": "code",
   "outputs": [
    {
     "data": {
      "text/plain": "(2142, 14)"
     },
     "execution_count": 283,
     "metadata": {},
     "output_type": "execute_result"
    }
   ],
   "source": [
    "db.shape"
   ],
   "metadata": {
    "collapsed": false,
    "ExecuteTime": {
     "end_time": "2024-03-26T12:45:18.755576400Z",
     "start_time": "2024-03-26T12:45:17.680630300Z"
    }
   },
   "id": "2f15e6bd2b24123a",
   "execution_count": 283
  },
  {
   "cell_type": "markdown",
   "source": [
    "13. Add a column \"armed_simplified\" where it considers only 4 categories: \n",
    "unarmed, undetermined, gun and other. "
   ],
   "metadata": {
    "collapsed": false
   },
   "id": "de83b516b7ed3ef7"
  },
  {
   "cell_type": "code",
   "outputs": [],
   "source": [
    "categories_to_keep = [\"unarmed\", \"undetermined\", \"gun\"]\n",
    "\n",
    "db_replaced[\"armed_simplified\"] = db_replaced[\"armed\"].apply(lambda x: x \n",
    "if x.lower() in categories_to_keep else \"other\")"
   ],
   "metadata": {
    "collapsed": false,
    "ExecuteTime": {
     "end_time": "2024-03-26T12:45:18.771857800Z",
     "start_time": "2024-03-26T12:45:17.696415Z"
    }
   },
   "id": "4c0988d6a959ee97",
   "execution_count": 284
  },
  {
   "cell_type": "code",
   "outputs": [],
   "source": [
    "numeric = [\"date\", \"age\"]\n",
    "categorical = [\"manner_of_death\", \"armed_simplified\", \"gender\", \"race\", \n",
    "               \"signs_of_mental_illness\", \"threat_level\", \"flee\", \n",
    "               \"body_camera\"]\n",
    "map = [\"city\", \"state\"]"
   ],
   "metadata": {
    "collapsed": false,
    "ExecuteTime": {
     "end_time": "2024-03-26T12:45:18.817713200Z",
     "start_time": "2024-03-26T12:45:17.725720500Z"
    }
   },
   "id": "324754aa0c032a9b",
   "execution_count": 285
  },
  {
   "cell_type": "markdown",
   "source": [
    "### 2.4.1 Death by Time and Age\n",
    "\n",
    "Time do not seem to have an effect on the number of deaths. It is very even \n",
    "overall.\n",
    "Regarding age, we have a huge range from 6 up to 86 year-olds. Also, 50% of \n",
    "fatalities happen between age 27-45."
   ],
   "metadata": {
    "collapsed": false
   },
   "id": "e620580202a4d685"
  },
  {
   "cell_type": "code",
   "outputs": [
    {
     "data": {
      "text/plain": "<Figure size 800x600 with 2 Axes>",
      "image/png": "[encoded data removed]"
     },
     "metadata": {},
     "output_type": "display_data"
    }
   ],
   "source": [
    "fig, axs = plt.subplots(sharey=True, figsize=(8, 6), nrows=2, ncols=1)\n",
    "bins_dict = {\"age\": 40, \"date\": 26}\n",
    "\n",
    "for i, feature in enumerate(numeric):\n",
    "    sns.set_style(\"whitegrid\")\n",
    "    sns.histplot(data=db_replaced, x=feature, color=\"grey\", \n",
    "                 bins=bins_dict[feature], ax=axs[i], kde=True)\n",
    "    \n",
    "plt.tight_layout()"
   ],
   "metadata": {
    "collapsed": false,
    "ExecuteTime": {
     "end_time": "2024-03-26T12:45:19.813727100Z",
     "start_time": "2024-03-26T12:45:17.742529300Z"
    }
   },
   "id": "41837189e8dfde11",
   "execution_count": 286
  },
  {
   "cell_type": "markdown",
   "source": [
    "14. What month and year had the most and least deaths?"
   ],
   "metadata": {
    "collapsed": false
   },
   "id": "e3bb4bb6dec7a01b"
  },
  {
   "cell_type": "code",
   "outputs": [
    {
     "name": "stdout",
     "output_type": "stream",
     "text": [
      "Most deaths\n",
      "2015-07: 104\n",
      "Least deaths\n",
      "2015-06: 65\n"
     ]
    }
   ],
   "source": [
    "db_replaced[\"month_year\"] = db_replaced[\"date\"].dt.to_period(\"M\")\n",
    "\n",
    "deaths_month = db_replaced[\"month_year\"].value_counts()\n",
    "most_deaths_month = deaths_month.idxmax()\n",
    "most_deaths = deaths_month[most_deaths_month]\n",
    "\n",
    "least_deaths_month = deaths_month.idxmin()\n",
    "least_deaths = deaths_month[least_deaths_month]\n",
    "\n",
    "print(f\"Most deaths\\n{most_deaths_month}: {most_deaths}\")\n",
    "print(f\"Least deaths\\n{least_deaths_month}: {least_deaths}\")"
   ],
   "metadata": {
    "collapsed": false,
    "ExecuteTime": {
     "end_time": "2024-03-26T12:45:19.825215600Z",
     "start_time": "2024-03-26T12:45:19.511870600Z"
    }
   },
   "id": "4aea1693ffa9901",
   "execution_count": 287
  },
  {
   "cell_type": "markdown",
   "source": [
    "15. What is the age range of the fatal shootings? "
   ],
   "metadata": {
    "collapsed": false
   },
   "id": "89a088843fdc5405"
  },
  {
   "cell_type": "code",
   "outputs": [
    {
     "data": {
      "text/plain": "80"
     },
     "execution_count": 288,
     "metadata": {},
     "output_type": "execute_result"
    }
   ],
   "source": [
    "min_age = db_replaced.age.min()\n",
    "max_age = db_replaced.age.max()\n",
    "max_age-min_age"
   ],
   "metadata": {
    "collapsed": false,
    "ExecuteTime": {
     "end_time": "2024-03-26T12:45:20.259926800Z",
     "start_time": "2024-03-26T12:45:19.540813200Z"
    }
   },
   "id": "7b4b814c1610acf9",
   "execution_count": 288
  },
  {
   "cell_type": "markdown",
   "source": [
    "16. Youngest and oldest deaths."
   ],
   "metadata": {
    "collapsed": false
   },
   "id": "99ccfd5713cc7ef0"
  },
  {
   "cell_type": "code",
   "outputs": [
    {
     "data": {
      "text/plain": "      id           name       date manner_of_death    armed  age gender race  \\\n830  980  Jeremy Mardis 2015-11-03            shot  unarmed    6      M    W   \n\n           city state  signs_of_mental_illness threat_level flee  body_camera  \\\n830  Marksville    LA                    False        other  Car         True   \n\n    armed_simplified month_year  \n830          unarmed    2015-11  ",
      "text/html": "<div>\n<style scoped>\n    .dataframe tbody tr th:only-of-type {\n        vertical-align: middle;\n    }\n\n    .dataframe tbody tr th {\n        vertical-align: top;\n    }\n\n    .dataframe thead th {\n        text-align: right;\n    }\n</style>\n<table border=\"1\" class=\"dataframe\">\n  <thead>\n    <tr style=\"text-align: right;\">\n      <th></th>\n      <th>id</th>\n      <th>name</th>\n      <th>date</th>\n      <th>manner_of_death</th>\n      <th>armed</th>\n      <th>age</th>\n      <th>gender</th>\n      <th>race</th>\n      <th>city</th>\n      <th>state</th>\n      <th>signs_of_mental_illness</th>\n      <th>threat_level</th>\n      <th>flee</th>\n      <th>body_camera</th>\n      <th>armed_simplified</th>\n      <th>month_year</th>\n    </tr>\n  </thead>\n  <tbody>\n    <tr>\n      <th>830</th>\n      <td>980</td>\n      <td>Jeremy Mardis</td>\n      <td>2015-11-03</td>\n      <td>shot</td>\n      <td>unarmed</td>\n      <td>6</td>\n      <td>M</td>\n      <td>W</td>\n      <td>Marksville</td>\n      <td>LA</td>\n      <td>False</td>\n      <td>other</td>\n      <td>Car</td>\n      <td>True</td>\n      <td>unarmed</td>\n      <td>2015-11</td>\n    </tr>\n  </tbody>\n</table>\n</div>"
     },
     "execution_count": 289,
     "metadata": {},
     "output_type": "execute_result"
    }
   ],
   "source": [
    "db_replaced[db_replaced.age == min_age]"
   ],
   "metadata": {
    "collapsed": false,
    "ExecuteTime": {
     "end_time": "2024-03-26T12:45:20.328331500Z",
     "start_time": "2024-03-26T12:45:19.553361300Z"
    }
   },
   "id": "b5d839b055f625f2",
   "execution_count": 289
  },
  {
   "cell_type": "code",
   "outputs": [
    {
     "data": {
      "text/plain": "        id               name       date manner_of_death armed  age gender  \\\n426    542  Raymond  Phillips 2015-06-11            shot   gun   86      M   \n1675  1880       Eugene Craig 2016-09-12            shot   gun   86      M   \n\n      race      city state  signs_of_mental_illness threat_level         flee  \\\n426   null  Columbia    TN                     True       attack  Not fleeing   \n1675  null  Saratoga    CA                    False        other  Not fleeing   \n\n      body_camera armed_simplified month_year  \n426         False              gun    2015-06  \n1675        False              gun    2016-09  ",
      "text/html": "<div>\n<style scoped>\n    .dataframe tbody tr th:only-of-type {\n        vertical-align: middle;\n    }\n\n    .dataframe tbody tr th {\n        vertical-align: top;\n    }\n\n    .dataframe thead th {\n        text-align: right;\n    }\n</style>\n<table border=\"1\" class=\"dataframe\">\n  <thead>\n    <tr style=\"text-align: right;\">\n      <th></th>\n      <th>id</th>\n      <th>name</th>\n      <th>date</th>\n      <th>manner_of_death</th>\n      <th>armed</th>\n      <th>age</th>\n      <th>gender</th>\n      <th>race</th>\n      <th>city</th>\n      <th>state</th>\n      <th>signs_of_mental_illness</th>\n      <th>threat_level</th>\n      <th>flee</th>\n      <th>body_camera</th>\n      <th>armed_simplified</th>\n      <th>month_year</th>\n    </tr>\n  </thead>\n  <tbody>\n    <tr>\n      <th>426</th>\n      <td>542</td>\n      <td>Raymond  Phillips</td>\n      <td>2015-06-11</td>\n      <td>shot</td>\n      <td>gun</td>\n      <td>86</td>\n      <td>M</td>\n      <td>null</td>\n      <td>Columbia</td>\n      <td>TN</td>\n      <td>True</td>\n      <td>attack</td>\n      <td>Not fleeing</td>\n      <td>False</td>\n      <td>gun</td>\n      <td>2015-06</td>\n    </tr>\n    <tr>\n      <th>1675</th>\n      <td>1880</td>\n      <td>Eugene Craig</td>\n      <td>2016-09-12</td>\n      <td>shot</td>\n      <td>gun</td>\n      <td>86</td>\n      <td>M</td>\n      <td>null</td>\n      <td>Saratoga</td>\n      <td>CA</td>\n      <td>False</td>\n      <td>other</td>\n      <td>Not fleeing</td>\n      <td>False</td>\n      <td>gun</td>\n      <td>2016-09</td>\n    </tr>\n  </tbody>\n</table>\n</div>"
     },
     "execution_count": 290,
     "metadata": {},
     "output_type": "execute_result"
    }
   ],
   "source": [
    "db_replaced[db_replaced.age == max_age]"
   ],
   "metadata": {
    "collapsed": false,
    "ExecuteTime": {
     "end_time": "2024-03-26T12:45:20.387323300Z",
     "start_time": "2024-03-26T12:45:19.593602300Z"
    }
   },
   "id": "71e02b0ef35e06f7",
   "execution_count": 290
  },
  {
   "cell_type": "markdown",
   "source": [
    "**Age Outliers**"
   ],
   "metadata": {
    "collapsed": false
   },
   "id": "ec475fbefd2aacb4"
  },
  {
   "cell_type": "code",
   "outputs": [
    {
     "data": {
      "text/plain": "<Axes: xlabel='age'>"
     },
     "execution_count": 291,
     "metadata": {},
     "output_type": "execute_result"
    },
    {
     "data": {
      "text/plain": "<Figure size 640x480 with 1 Axes>",
      "image/png": "[encoded data removed]"
     },
     "metadata": {},
     "output_type": "display_data"
    }
   ],
   "source": [
    "q1 = db_replaced[\"age\"].quantile(0.25)\n",
    "q3 = db_replaced[\"age\"].quantile(0.75)\n",
    "iqr = q3-q1\n",
    "\n",
    "age_bins = list(range(0,90,5))\n",
    "group_names = [\"0-4\", \"5-9\", \"10-14\", \"15-19\", \"20-24\", \"25-29\", \"30-34\", \n",
    "               \"35-39\", \"40-44\", \"45-49\", \"50-54\", \"55-59\", \"60-64\", \n",
    "               \"65-69\", \"70-79\", \"80-84\", \"85+\"]\n",
    "\n",
    "age_groups = pd.cut(db_replaced[\"age\"], bins=age_bins, labels=group_names)\n",
    "age_group_counts = age_groups.value_counts().reindex(group_names)\n",
    "colors = [\"red\" if q1 <= age <= q3 else \"grey\" for age in age_bins ]\n",
    "\n",
    "age_group_counts.plot(kind=\"bar\", color=colors)"
   ],
   "metadata": {
    "collapsed": false,
    "ExecuteTime": {
     "end_time": "2024-03-26T12:45:20.607200600Z",
     "start_time": "2024-03-26T12:45:19.632076400Z"
    }
   },
   "id": "7ad6f11c6a0a82a3",
   "execution_count": 291
  },
  {
   "cell_type": "code",
   "outputs": [
    {
     "name": "stdout",
     "output_type": "stream",
     "text": [
      "27.0 45.0\n"
     ]
    }
   ],
   "source": [
    "print(q1, q3)"
   ],
   "metadata": {
    "collapsed": false,
    "ExecuteTime": {
     "end_time": "2024-03-26T12:45:21.062912Z",
     "start_time": "2024-03-26T12:45:20.281316900Z"
    }
   },
   "id": "ad3e809e5f08d913",
   "execution_count": 292
  },
  {
   "cell_type": "code",
   "outputs": [
    {
     "data": {
      "text/plain": "        id                  name       date   manner_of_death       armed  \\\n29      52      Talbot Schroeder 2015-01-14              shot       knife   \n92     554           James Allen 2015-02-07              shot         gun   \n127    255        Douglas Harris 2015-02-20              shot         gun   \n275    357   Richard Dale Weaver 2015-04-12              shot     machete   \n315    406         Albert Hanson 2015-04-26              shot         gun   \n426    542     Raymond  Phillips 2015-06-11              shot         gun   \n518    641      Charles Crandall 2015-07-14              shot         gun   \n598    724  Robert Patrick Quinn 2015-08-09              shot  toy weapon   \n664    797   Charles Robert Shaw 2015-09-01              shot         gun   \n1217  1395   Ralph \"Phil\" Grenon 2016-03-21  shot and Tasered       knife   \n1431  1621       Edward Acquisto 2016-06-13              shot         gun   \n1631  1822        Darrel Hetrick 2016-08-27              shot         gun   \n1675  1880          Eugene Craig 2016-09-12              shot         gun   \n1798  2008         Henry Simpson 2016-11-01              shot         gun   \n1878  2095      Quinton Phillips 2016-12-01              shot         gun   \n1905  2114       Francisco Serna 2016-12-12              shot     unarmed   \n\n      age gender  race           city state  signs_of_mental_illness  \\\n29     75      M     W     Old Bridge    NJ                    False   \n92     74      M     B       Gastonia    NC                    False   \n127    77      M     B     Birmingham    AL                     True   \n275    83      M     W  Oklahoma City    OK                     True   \n315    76      M     W   Kings County    CA                    False   \n426    86      M  null       Columbia    TN                     True   \n518    76      M  null    Southington    OH                    False   \n598    77      M  null       Pittston    PA                     True   \n664    76      M     W      Twinsburg    OH                    False   \n1217   76      M     W     Burlington    VT                     True   \n1431   80      M     H       Tiverton    RI                    False   \n1631   82      M     W     Morgantown    WV                    False   \n1675   86      M  null       Saratoga    CA                    False   \n1798   76      M     W    Carson City    NV                    False   \n1878   83      M     W          Dover    AR                    False   \n1905   73      M     H    Bakersfield    CA                    False   \n\n      threat_level         flee  body_camera armed_simplified month_year  \n29          attack  Not fleeing        False            other    2015-01  \n92          attack  Not fleeing        False              gun    2015-02  \n127         attack  Not fleeing        False              gun    2015-02  \n275          other  Not fleeing        False            other    2015-04  \n315         attack  Not fleeing        False              gun    2015-04  \n426         attack  Not fleeing        False              gun    2015-06  \n518         attack  Not fleeing        False              gun    2015-07  \n598         attack  Not fleeing        False            other    2015-08  \n664         attack  Not fleeing        False              gun    2015-09  \n1217         other  Not fleeing         True            other    2016-03  \n1431        attack          Car        False              gun    2016-06  \n1631        attack  Not fleeing         True              gun    2016-08  \n1675         other  Not fleeing        False              gun    2016-09  \n1798         other  Not fleeing        False              gun    2016-11  \n1878        attack  Not fleeing        False              gun    2016-12  \n1905  undetermined  Not fleeing        False          unarmed    2016-12  ",
      "text/html": "<div>\n<style scoped>\n    .dataframe tbody tr th:only-of-type {\n        vertical-align: middle;\n    }\n\n    .dataframe tbody tr th {\n        vertical-align: top;\n    }\n\n    .dataframe thead th {\n        text-align: right;\n    }\n</style>\n<table border=\"1\" class=\"dataframe\">\n  <thead>\n    <tr style=\"text-align: right;\">\n      <th></th>\n      <th>id</th>\n      <th>name</th>\n      <th>date</th>\n      <th>manner_of_death</th>\n      <th>armed</th>\n      <th>age</th>\n      <th>gender</th>\n      <th>race</th>\n      <th>city</th>\n      <th>state</th>\n      <th>signs_of_mental_illness</th>\n      <th>threat_level</th>\n      <th>flee</th>\n      <th>body_camera</th>\n      <th>armed_simplified</th>\n      <th>month_year</th>\n    </tr>\n  </thead>\n  <tbody>\n    <tr>\n      <th>29</th>\n      <td>52</td>\n      <td>Talbot Schroeder</td>\n      <td>2015-01-14</td>\n      <td>shot</td>\n      <td>knife</td>\n      <td>75</td>\n      <td>M</td>\n      <td>W</td>\n      <td>Old Bridge</td>\n      <td>NJ</td>\n      <td>False</td>\n      <td>attack</td>\n      <td>Not fleeing</td>\n      <td>False</td>\n      <td>other</td>\n      <td>2015-01</td>\n    </tr>\n    <tr>\n      <th>92</th>\n      <td>554</td>\n      <td>James Allen</td>\n      <td>2015-02-07</td>\n      <td>shot</td>\n      <td>gun</td>\n      <td>74</td>\n      <td>M</td>\n      <td>B</td>\n      <td>Gastonia</td>\n      <td>NC</td>\n      <td>False</td>\n      <td>attack</td>\n      <td>Not fleeing</td>\n      <td>False</td>\n      <td>gun</td>\n      <td>2015-02</td>\n    </tr>\n    <tr>\n      <th>127</th>\n      <td>255</td>\n      <td>Douglas Harris</td>\n      <td>2015-02-20</td>\n      <td>shot</td>\n      <td>gun</td>\n      <td>77</td>\n      <td>M</td>\n      <td>B</td>\n      <td>Birmingham</td>\n      <td>AL</td>\n      <td>True</td>\n      <td>attack</td>\n      <td>Not fleeing</td>\n      <td>False</td>\n      <td>gun</td>\n      <td>2015-02</td>\n    </tr>\n    <tr>\n      <th>275</th>\n      <td>357</td>\n      <td>Richard Dale Weaver</td>\n      <td>2015-04-12</td>\n      <td>shot</td>\n      <td>machete</td>\n      <td>83</td>\n      <td>M</td>\n      <td>W</td>\n      <td>Oklahoma City</td>\n      <td>OK</td>\n      <td>True</td>\n      <td>other</td>\n      <td>Not fleeing</td>\n      <td>False</td>\n      <td>other</td>\n      <td>2015-04</td>\n    </tr>\n    <tr>\n      <th>315</th>\n      <td>406</td>\n      <td>Albert Hanson</td>\n      <td>2015-04-26</td>\n      <td>shot</td>\n      <td>gun</td>\n      <td>76</td>\n      <td>M</td>\n      <td>W</td>\n      <td>Kings County</td>\n      <td>CA</td>\n      <td>False</td>\n      <td>attack</td>\n      <td>Not fleeing</td>\n      <td>False</td>\n      <td>gun</td>\n      <td>2015-04</td>\n    </tr>\n    <tr>\n      <th>426</th>\n      <td>542</td>\n      <td>Raymond  Phillips</td>\n      <td>2015-06-11</td>\n      <td>shot</td>\n      <td>gun</td>\n      <td>86</td>\n      <td>M</td>\n      <td>null</td>\n      <td>Columbia</td>\n      <td>TN</td>\n      <td>True</td>\n      <td>attack</td>\n      <td>Not fleeing</td>\n      <td>False</td>\n      <td>gun</td>\n      <td>2015-06</td>\n    </tr>\n    <tr>\n      <th>518</th>\n      <td>641</td>\n      <td>Charles Crandall</td>\n      <td>2015-07-14</td>\n      <td>shot</td>\n      <td>gun</td>\n      <td>76</td>\n      <td>M</td>\n      <td>null</td>\n      <td>Southington</td>\n      <td>OH</td>\n      <td>False</td>\n      <td>attack</td>\n      <td>Not fleeing</td>\n      <td>False</td>\n      <td>gun</td>\n      <td>2015-07</td>\n    </tr>\n    <tr>\n      <th>598</th>\n      <td>724</td>\n      <td>Robert Patrick Quinn</td>\n      <td>2015-08-09</td>\n      <td>shot</td>\n      <td>toy weapon</td>\n      <td>77</td>\n      <td>M</td>\n      <td>null</td>\n      <td>Pittston</td>\n      <td>PA</td>\n      <td>True</td>\n      <td>attack</td>\n      <td>Not fleeing</td>\n      <td>False</td>\n      <td>other</td>\n      <td>2015-08</td>\n    </tr>\n    <tr>\n      <th>664</th>\n      <td>797</td>\n      <td>Charles Robert Shaw</td>\n      <td>2015-09-01</td>\n      <td>shot</td>\n      <td>gun</td>\n      <td>76</td>\n      <td>M</td>\n      <td>W</td>\n      <td>Twinsburg</td>\n      <td>OH</td>\n      <td>False</td>\n      <td>attack</td>\n      <td>Not fleeing</td>\n      <td>False</td>\n      <td>gun</td>\n      <td>2015-09</td>\n    </tr>\n    <tr>\n      <th>1217</th>\n      <td>1395</td>\n      <td>Ralph \"Phil\" Grenon</td>\n      <td>2016-03-21</td>\n      <td>shot and Tasered</td>\n      <td>knife</td>\n      <td>76</td>\n      <td>M</td>\n      <td>W</td>\n      <td>Burlington</td>\n      <td>VT</td>\n      <td>True</td>\n      <td>other</td>\n      <td>Not fleeing</td>\n      <td>True</td>\n      <td>other</td>\n      <td>2016-03</td>\n    </tr>\n    <tr>\n      <th>1431</th>\n      <td>1621</td>\n      <td>Edward Acquisto</td>\n      <td>2016-06-13</td>\n      <td>shot</td>\n      <td>gun</td>\n      <td>80</td>\n      <td>M</td>\n      <td>H</td>\n      <td>Tiverton</td>\n      <td>RI</td>\n      <td>False</td>\n      <td>attack</td>\n      <td>Car</td>\n      <td>False</td>\n      <td>gun</td>\n      <td>2016-06</td>\n    </tr>\n    <tr>\n      <th>1631</th>\n      <td>1822</td>\n      <td>Darrel Hetrick</td>\n      <td>2016-08-27</td>\n      <td>shot</td>\n      <td>gun</td>\n      <td>82</td>\n      <td>M</td>\n      <td>W</td>\n      <td>Morgantown</td>\n      <td>WV</td>\n      <td>False</td>\n      <td>attack</td>\n      <td>Not fleeing</td>\n      <td>True</td>\n      <td>gun</td>\n      <td>2016-08</td>\n    </tr>\n    <tr>\n      <th>1675</th>\n      <td>1880</td>\n      <td>Eugene Craig</td>\n      <td>2016-09-12</td>\n      <td>shot</td>\n      <td>gun</td>\n      <td>86</td>\n      <td>M</td>\n      <td>null</td>\n      <td>Saratoga</td>\n      <td>CA</td>\n      <td>False</td>\n      <td>other</td>\n      <td>Not fleeing</td>\n      <td>False</td>\n      <td>gun</td>\n      <td>2016-09</td>\n    </tr>\n    <tr>\n      <th>1798</th>\n      <td>2008</td>\n      <td>Henry Simpson</td>\n      <td>2016-11-01</td>\n      <td>shot</td>\n      <td>gun</td>\n      <td>76</td>\n      <td>M</td>\n      <td>W</td>\n      <td>Carson City</td>\n      <td>NV</td>\n      <td>False</td>\n      <td>other</td>\n      <td>Not fleeing</td>\n      <td>False</td>\n      <td>gun</td>\n      <td>2016-11</td>\n    </tr>\n    <tr>\n      <th>1878</th>\n      <td>2095</td>\n      <td>Quinton Phillips</td>\n      <td>2016-12-01</td>\n      <td>shot</td>\n      <td>gun</td>\n      <td>83</td>\n      <td>M</td>\n      <td>W</td>\n      <td>Dover</td>\n      <td>AR</td>\n      <td>False</td>\n      <td>attack</td>\n      <td>Not fleeing</td>\n      <td>False</td>\n      <td>gun</td>\n      <td>2016-12</td>\n    </tr>\n    <tr>\n      <th>1905</th>\n      <td>2114</td>\n      <td>Francisco Serna</td>\n      <td>2016-12-12</td>\n      <td>shot</td>\n      <td>unarmed</td>\n      <td>73</td>\n      <td>M</td>\n      <td>H</td>\n      <td>Bakersfield</td>\n      <td>CA</td>\n      <td>False</td>\n      <td>undetermined</td>\n      <td>Not fleeing</td>\n      <td>False</td>\n      <td>unarmed</td>\n      <td>2016-12</td>\n    </tr>\n  </tbody>\n</table>\n</div>"
     },
     "execution_count": 293,
     "metadata": {},
     "output_type": "execute_result"
    }
   ],
   "source": [
    "lower_bound = q1-1.5*iqr\n",
    "upper_bound = q3+1.5*iqr\n",
    "age_outliers = db_replaced[(db_replaced.age<lower_bound) | (db_replaced\n",
    "                                                   .age>upper_bound)]\n",
    "\n",
    "age_outliers"
   ],
   "metadata": {
    "collapsed": false,
    "ExecuteTime": {
     "end_time": "2024-03-26T12:45:21.234398100Z",
     "start_time": "2024-03-26T12:45:20.299878300Z"
    }
   },
   "id": "7190f42ca7d34ff3",
   "execution_count": 293
  },
  {
   "cell_type": "markdown",
   "source": [
    "### 2.4.2 Death by State and City\n",
    "It is obvious that there is a huge incline to certain states. Most cities \n",
    "with more fatalities belong to the same 3 states, California, Texas and \n",
    "Florida.\n",
    "Note: These graphs are not normalized to the local population. so we \n",
    "still have to eliminate population density being the cause."
   ],
   "metadata": {
    "collapsed": false
   },
   "id": "2a66e3e47cca43a8"
  },
  {
   "cell_type": "markdown",
   "source": [
    "17. How many states?"
   ],
   "metadata": {
    "collapsed": false
   },
   "id": "e4861f939e4da2f9"
  },
  {
   "cell_type": "code",
   "outputs": [
    {
     "data": {
      "text/plain": "51"
     },
     "execution_count": 294,
     "metadata": {},
     "output_type": "execute_result"
    }
   ],
   "source": [
    "db_replaced.state.nunique()"
   ],
   "metadata": {
    "collapsed": false,
    "ExecuteTime": {
     "end_time": "2024-03-26T12:45:21.252324100Z",
     "start_time": "2024-03-26T12:45:20.348427100Z"
    }
   },
   "id": "f62f5a86e598a581",
   "execution_count": 294
  },
  {
   "cell_type": "markdown",
   "source": [
    "**Death count by State**"
   ],
   "metadata": {
    "collapsed": false
   },
   "id": "e36373543ec0943"
  },
  {
   "cell_type": "code",
   "outputs": [],
   "source": [
    "statemap_gpd = gpd.read_file(\"cb_2018_us_state_500k/cb_2018_us_state_500k.shp\")"
   ],
   "metadata": {
    "collapsed": false,
    "ExecuteTime": {
     "end_time": "2024-03-26T12:45:22.708366200Z",
     "start_time": "2024-03-26T12:45:20.359812500Z"
    }
   },
   "id": "f41bb795098dd4cf",
   "execution_count": 295
  },
  {
   "cell_type": "code",
   "outputs": [],
   "source": [
    "statemap_geojson_with_id = statemap_gpd.set_index(keys=\"GEOID\").to_json()"
   ],
   "metadata": {
    "collapsed": false,
    "ExecuteTime": {
     "end_time": "2024-03-26T12:45:23.548992500Z",
     "start_time": "2024-03-26T12:45:21.275884600Z"
    }
   },
   "id": "dedd4ffd7111d5d8",
   "execution_count": 296
  },
  {
   "cell_type": "code",
   "outputs": [],
   "source": [
    "state_plot_data = db_replaced[\"state\"].value_counts().reset_index()\n",
    "state_plot_data.columns = [\"state\", \"death_count\"]"
   ],
   "metadata": {
    "collapsed": false,
    "ExecuteTime": {
     "end_time": "2024-03-26T12:45:23.695605800Z",
     "start_time": "2024-03-26T12:45:23.434968900Z"
    }
   },
   "id": "2bb12c5f82cfa1bf",
   "execution_count": 297
  },
  {
   "cell_type": "code",
   "outputs": [],
   "source": [
    "map = folium.Map(location=[35, -100], zoom_start=3)\n",
    "\n",
    "folium.Choropleth(geo_data=statemap_geojson_with_id, data=state_plot_data, \n",
    "                  name=\"choropleth\", columns=[\"state\", \"death_count\"], \n",
    "                  key_on=\"feature.properties.STUSPS\", fill_color=\"YlGn\", \n",
    "                  fill_opacity=0.7, \n",
    "                  line_opacity=0.2, legend_name=\"Death Count\").add_to(map)\n",
    "\n",
    "\n",
    "geojson_layer = folium.GeoJson(\n",
    "    data=statemap_geojson_with_id,\n",
    "    name=\"US States\",\n",
    "    style_function=lambda x: {\"fillColor\": \"transparent\", \"color\": \"black\", \n",
    "                              \"weight\": 0.5},\n",
    "    tooltip=GeoJsonTooltip(\n",
    "        fields=[\"NAME\"],\n",
    "        aliases=[\"State: \"],\n",
    "        localize=True,\n",
    "        sticky=False\n",
    "    )\n",
    ").add_to(map)\n",
    "\n",
    "folium.LayerControl().add_to(map)\n",
    "\n",
    "map.save(\"statemap_plot.html\")"
   ],
   "metadata": {
    "collapsed": false,
    "ExecuteTime": {
     "end_time": "2024-03-26T12:45:38.367844100Z",
     "start_time": "2024-03-26T12:45:23.473163800Z"
    }
   },
   "id": "92c10799be593489",
   "execution_count": 298
  },
  {
   "cell_type": "code",
   "outputs": [
    {
     "name": "stderr",
     "output_type": "stream",
     "text": [
      "D:\\ACER\\Documents\\Data Science\\Turing\\Capstone Projects\\m1_cp\\FatalShooting\\.venv\\lib\\site-packages\\IPython\\core\\display.py:431: UserWarning: Consider using IPython.display.IFrame instead\n",
      "  warnings.warn(\"Consider using IPython.display.IFrame instead\")\n"
     ]
    },
    {
     "data": {
      "text/plain": "<IPython.core.display.HTML object>",
      "text/html": "<iframe src=statemap_plot.html width=700 height=500></iframe>"
     },
     "execution_count": 299,
     "metadata": {},
     "output_type": "execute_result"
    }
   ],
   "source": [
    "from IPython.display import HTML\n",
    "HTML(\"<iframe src=statemap_plot.html width=700 height=500></iframe>\")"
   ],
   "metadata": {
    "collapsed": false,
    "ExecuteTime": {
     "end_time": "2024-03-26T12:45:38.512147900Z",
     "start_time": "2024-03-26T12:45:38.367844100Z"
    }
   },
   "id": "39f96438d0e1fdc9",
   "execution_count": 299
  },
  {
   "cell_type": "markdown",
   "source": [
    "**Outlier States**"
   ],
   "metadata": {
    "collapsed": false
   },
   "id": "77a6098da9e35337"
  },
  {
   "cell_type": "code",
   "outputs": [
    {
     "data": {
      "text/plain": "  state  death_count\n0    CA          355\n1    TX          197\n2    FL          129\n3    AZ           95\n4    OK           65",
      "text/html": "<div>\n<style scoped>\n    .dataframe tbody tr th:only-of-type {\n        vertical-align: middle;\n    }\n\n    .dataframe tbody tr th {\n        vertical-align: top;\n    }\n\n    .dataframe thead th {\n        text-align: right;\n    }\n</style>\n<table border=\"1\" class=\"dataframe\">\n  <thead>\n    <tr style=\"text-align: right;\">\n      <th></th>\n      <th>state</th>\n      <th>death_count</th>\n    </tr>\n  </thead>\n  <tbody>\n    <tr>\n      <th>0</th>\n      <td>CA</td>\n      <td>355</td>\n    </tr>\n    <tr>\n      <th>1</th>\n      <td>TX</td>\n      <td>197</td>\n    </tr>\n    <tr>\n      <th>2</th>\n      <td>FL</td>\n      <td>129</td>\n    </tr>\n    <tr>\n      <th>3</th>\n      <td>AZ</td>\n      <td>95</td>\n    </tr>\n    <tr>\n      <th>4</th>\n      <td>OK</td>\n      <td>65</td>\n    </tr>\n  </tbody>\n</table>\n</div>"
     },
     "execution_count": 300,
     "metadata": {},
     "output_type": "execute_result"
    }
   ],
   "source": [
    "state_plot_data.head(5)"
   ],
   "metadata": {
    "collapsed": false,
    "ExecuteTime": {
     "end_time": "2024-03-26T12:45:38.928723700Z",
     "start_time": "2024-03-26T12:45:38.396792300Z"
    }
   },
   "id": "dc8bb9f44eb21677",
   "execution_count": 300
  },
  {
   "cell_type": "code",
   "outputs": [
    {
     "data": {
      "text/plain": "  state  death_count\n0    CA          355\n1    TX          197\n2    FL          129",
      "text/html": "<div>\n<style scoped>\n    .dataframe tbody tr th:only-of-type {\n        vertical-align: middle;\n    }\n\n    .dataframe tbody tr th {\n        vertical-align: top;\n    }\n\n    .dataframe thead th {\n        text-align: right;\n    }\n</style>\n<table border=\"1\" class=\"dataframe\">\n  <thead>\n    <tr style=\"text-align: right;\">\n      <th></th>\n      <th>state</th>\n      <th>death_count</th>\n    </tr>\n  </thead>\n  <tbody>\n    <tr>\n      <th>0</th>\n      <td>CA</td>\n      <td>355</td>\n    </tr>\n    <tr>\n      <th>1</th>\n      <td>TX</td>\n      <td>197</td>\n    </tr>\n    <tr>\n      <th>2</th>\n      <td>FL</td>\n      <td>129</td>\n    </tr>\n  </tbody>\n</table>\n</div>"
     },
     "execution_count": 301,
     "metadata": {},
     "output_type": "execute_result"
    }
   ],
   "source": [
    "q1 = state_plot_data[\"death_count\"].quantile(0.25)\n",
    "q3 = state_plot_data[\"death_count\"].quantile(0.75)\n",
    "iqr = q3-q1\n",
    "lower_bound = q1-1.5*iqr\n",
    "upper_bound = q3+1.5*iqr\n",
    "state_outliers = state_plot_data[(state_plot_data[\"death_count\"]<lower_bound) | \n",
    "                                 (state_plot_data[\"death_count\"]>upper_bound)]\n",
    "\n",
    "state_outliers"
   ],
   "metadata": {
    "collapsed": false,
    "ExecuteTime": {
     "end_time": "2024-03-26T12:45:39.003149200Z",
     "start_time": "2024-03-26T12:45:38.430530100Z"
    }
   },
   "id": "479d178c37efe747",
   "execution_count": 301
  },
  {
   "cell_type": "markdown",
   "source": [
    "**Death count by City**"
   ],
   "metadata": {
    "collapsed": false
   },
   "id": "df2326a47a4ca438"
  },
  {
   "cell_type": "code",
   "outputs": [
    {
     "data": {
      "text/plain": "city\nLos Angeles    31\nPhoenix        24\nHouston        24\nChicago        23\nLas Vegas      16\n               ..\nHighgrove       1\nHighland        1\nHiseville       1\nHog Valley      1\nLevelland       1\nLength: 1247, dtype: int64"
     },
     "execution_count": 302,
     "metadata": {},
     "output_type": "execute_result"
    }
   ],
   "source": [
    "city_deaths = db_replaced.groupby(\"city\").size()\n",
    "city_deaths = city_deaths.sort_values(ascending=False)\n",
    "city_deaths"
   ],
   "metadata": {
    "collapsed": false,
    "ExecuteTime": {
     "end_time": "2024-03-26T12:45:39.172181700Z",
     "start_time": "2024-03-26T12:45:38.456267500Z"
    }
   },
   "id": "e4b248d61addfa80",
   "execution_count": 302
  },
  {
   "cell_type": "markdown",
   "source": [
    "### 2.4.3 Death by Categorical Features\n",
    "\n",
    "Most fatalities cases were male, white, shot, carried guns, didn't show signs\n",
    "of mental illness, attacked, didn't flee and the police officer didn't carry\n",
    "body camera.\n",
    "\n",
    "Note: These graphs are not normalized to population, race population... so we \n",
    "still have to eliminate population influence."
   ],
   "metadata": {
    "collapsed": false
   },
   "id": "31b925642be56e8a"
  },
  {
   "cell_type": "markdown",
   "source": [
    "18. Replace abbreviations from column \"race\" with complete words."
   ],
   "metadata": {
    "collapsed": false
   },
   "id": "2309ae9f1e41cb5c"
  },
  {
   "cell_type": "code",
   "outputs": [],
   "source": [
    "race_mapping = {\n",
    "    \"W\": \"white\", \n",
    "    \"B\": \"black\", \n",
    "    \"A\": \"asian\", \n",
    "    \"H\": \"hispanic\", \n",
    "    \"N\": \"native\", \n",
    "    \"O\": \"other\"\n",
    "}\n",
    "\n",
    "db_replaced.race = db_replaced.race.replace(race_mapping)"
   ],
   "metadata": {
    "collapsed": false,
    "ExecuteTime": {
     "end_time": "2024-03-26T12:45:39.221664500Z",
     "start_time": "2024-03-26T12:45:38.492801500Z"
    }
   },
   "id": "2539b7c3e9b80eca",
   "execution_count": 303
  },
  {
   "cell_type": "code",
   "outputs": [
    {
     "data": {
      "text/plain": "<Figure size 1500x1000 with 8 Axes>",
      "image/png": "[encoded data removed]"
     },
     "metadata": {},
     "output_type": "display_data"
    }
   ],
   "source": [
    "fig, axs = plt.subplots(figsize=(15, 10), nrows=2, ncols=4, sharey=True)\n",
    "flat_axes = axs.flatten()\n",
    "\n",
    "for i, feature in enumerate(categorical):\n",
    "    sns.set_style(\"whitegrid\")\n",
    "    n_colors = db_replaced[feature].nunique()\n",
    "    sns.countplot(data=db_replaced, x=feature, hue=feature, ax=flat_axes[i],\n",
    "                  palette=sns.husl_palette(n_colors), legend=False)\n",
    "    plt.xlabel(feature)\n",
    "    flat_axes[i].tick_params(axis='x', rotation=45)\n",
    "\n",
    "plt.subplots_adjust(hspace=0.5)"
   ],
   "metadata": {
    "collapsed": false,
    "ExecuteTime": {
     "end_time": "2024-03-26T12:45:43.603685Z",
     "start_time": "2024-03-26T12:45:38.525769200Z"
    }
   },
   "id": "51db52269afb14fd",
   "execution_count": 304
  },
  {
   "cell_type": "markdown",
   "source": [
    "# 3.Data Exploration & Visualization"
   ],
   "metadata": {
    "collapsed": false
   },
   "id": "fa057f99ade11cef"
  },
  {
   "cell_type": "markdown",
   "source": [
    "## 3.1 Visualize Deaths Scaled by Racial Proportions\n",
    "\n",
    "**Summary: From the previous data visualizations, deaths by race was one of \n",
    "the graph with an unclear conclusion. It seemed at first glance that most \n",
    "fatalities were grouped \"white\". However, racial population is uneven in the \n",
    "US. Therefore, those number do not mean much without proper scaling.**\n",
    "\n",
    "**After scaling, as the graph shows, the racial group \"black\" has the highest \n",
    "fatality per population (at least 2x more than other groups). While \"asian\" \n",
    "has the lowest.**"
   ],
   "metadata": {
    "collapsed": false
   },
   "id": "7468bd98c6d3bbdb"
  },
  {
   "cell_type": "markdown",
   "source": [
    "1. From https://www.census.gov/quickfacts/fact/table/US#, USA total \n",
    "population is 331,449,281 in April 2020. Create a dataframe with its racial\n",
    "proportion."
   ],
   "metadata": {
    "collapsed": false
   },
   "id": "801302b82caf3ca3"
  },
  {
   "cell_type": "code",
   "outputs": [
    {
     "data": {
      "text/plain": "          count  ratio    population  scaled_fatalities\nrace                                                   \nwhite      1041  0.589  1.952236e+08           0.000005\nblack       542  0.136  4.507710e+07           0.000012\nhispanic    367  0.191  6.330681e+07           0.000006\nasian        33  0.063  2.088130e+07           0.000002\nnative       28  0.016  5.303188e+06           0.000005",
      "text/html": "<div>\n<style scoped>\n    .dataframe tbody tr th:only-of-type {\n        vertical-align: middle;\n    }\n\n    .dataframe tbody tr th {\n        vertical-align: top;\n    }\n\n    .dataframe thead th {\n        text-align: right;\n    }\n</style>\n<table border=\"1\" class=\"dataframe\">\n  <thead>\n    <tr style=\"text-align: right;\">\n      <th></th>\n      <th>count</th>\n      <th>ratio</th>\n      <th>population</th>\n      <th>scaled_fatalities</th>\n    </tr>\n    <tr>\n      <th>race</th>\n      <th></th>\n      <th></th>\n      <th></th>\n      <th></th>\n    </tr>\n  </thead>\n  <tbody>\n    <tr>\n      <th>white</th>\n      <td>1041</td>\n      <td>0.589</td>\n      <td>1.952236e+08</td>\n      <td>0.000005</td>\n    </tr>\n    <tr>\n      <th>black</th>\n      <td>542</td>\n      <td>0.136</td>\n      <td>4.507710e+07</td>\n      <td>0.000012</td>\n    </tr>\n    <tr>\n      <th>hispanic</th>\n      <td>367</td>\n      <td>0.191</td>\n      <td>6.330681e+07</td>\n      <td>0.000006</td>\n    </tr>\n    <tr>\n      <th>asian</th>\n      <td>33</td>\n      <td>0.063</td>\n      <td>2.088130e+07</td>\n      <td>0.000002</td>\n    </tr>\n    <tr>\n      <th>native</th>\n      <td>28</td>\n      <td>0.016</td>\n      <td>5.303188e+06</td>\n      <td>0.000005</td>\n    </tr>\n  </tbody>\n</table>\n</div>"
     },
     "execution_count": 305,
     "metadata": {},
     "output_type": "execute_result"
    }
   ],
   "source": [
    "us_race = pd.DataFrame([0.589, 0.136, 0.191, 0.016, 0.063], \n",
    "                       index=[\"white\", \"black\", \"hispanic\", \"native\", \"asian\"], \n",
    "                       columns=[\"ratio\"])\n",
    "\n",
    "us_race[\"population\"] = 331449281*us_race[\"ratio\"]\n",
    "\n",
    "race_df = db_replaced.race.value_counts()\n",
    "us_race = pd.merge(race_df, us_race, right_index=True, left_index=True)\n",
    "\n",
    "us_race[\"scaled_fatalities\"] = us_race[\"count\"]/us_race[\"population\"]\n",
    "us_race = us_race.rename_axis(\"race\")\n",
    "us_race"
   ],
   "metadata": {
    "collapsed": false,
    "ExecuteTime": {
     "end_time": "2024-03-26T12:45:44.209320400Z",
     "start_time": "2024-03-26T12:45:43.594630200Z"
    }
   },
   "id": "29e68c5b0f87f67c",
   "execution_count": 305
  },
  {
   "cell_type": "code",
   "outputs": [
    {
     "data": {
      "text/plain": "<Axes: xlabel='race', ylabel='scaled_fatalities'>"
     },
     "execution_count": 306,
     "metadata": {},
     "output_type": "execute_result"
    },
    {
     "data": {
      "text/plain": "<Figure size 640x480 with 1 Axes>",
      "image/png": "[encoded data removed]"
     },
     "metadata": {},
     "output_type": "display_data"
    }
   ],
   "source": [
    "sns.set_style(\"white\")\n",
    "sns.barplot(data=us_race, x=\"race\" ,y=\"scaled_fatalities\", color=\"grey\")"
   ],
   "metadata": {
    "collapsed": false,
    "ExecuteTime": {
     "end_time": "2024-03-26T12:45:44.356763900Z",
     "start_time": "2024-03-26T12:45:43.594630200Z"
    }
   },
   "id": "5d151082b8de39c5",
   "execution_count": 306
  },
  {
   "cell_type": "markdown",
   "source": [
    "After scaling, it is shown that the racial group \"black\" have roughly 2x as \n",
    "many fatalities compared to \"white\", \"hispanic\" and \"native\". And 6x as many\n",
    " when compared to \"asian\"."
   ],
   "metadata": {
    "collapsed": false
   },
   "id": "ce3aca8d2ecda8a0"
  },
  {
   "cell_type": "markdown",
   "source": [
    "## 3.2 Extra Dataset - Population by State & by Race\n",
    "\n",
    "**Summary: Introduce new dataset from Census 2020 about population and racial \n",
    "population in each state in 2020, called *p5*.\n",
    "With the new *p5* data, like in 3.1 we are able to scale the police shooting \n",
    "fatalities to the population.\n",
    "The original data was grouped into state and race. In order to scale the \n",
    "number of fatal police shooting cases, the grouped data was then divided by \n",
    "the population information gathered from *p5*.**\n",
    "\n",
    "**From the scaled data, fatality per million, it is understood that the states\n",
    "with the highest fatality rates are New Mexico, Oklahoma, Alaska, District \n",
    "of Columbia and West Virginia. This is, however, not consistent when race is \n",
    "analyzed separately.**"
   ],
   "metadata": {
    "collapsed": false
   },
   "id": "6e87ef3b8b6a9ab3"
  },
  {
   "cell_type": "markdown",
   "source": [
    "### 3.2.1 Introduce new dataset & Quick Cleaning"
   ],
   "metadata": {
    "collapsed": false
   },
   "id": "fc22051a3feac114"
  },
  {
   "cell_type": "code",
   "outputs": [],
   "source": [
    "p5 = pd.read_csv(\"census2020_P5.csv\")"
   ],
   "metadata": {
    "collapsed": false,
    "ExecuteTime": {
     "end_time": "2024-03-26T12:45:44.755961400Z",
     "start_time": "2024-03-26T12:45:44.140983Z"
    }
   },
   "id": "d882198c40cc3efb",
   "execution_count": 307
  },
  {
   "cell_type": "markdown",
   "source": [
    "2. Remove unnecessary columns."
   ],
   "metadata": {
    "collapsed": false
   },
   "id": "999d911899103e08"
  },
  {
   "cell_type": "code",
   "outputs": [],
   "source": [
    "p5 = p5.drop(index=[7, 8, 10, 11, 12, 13, 14, 15 ,16])"
   ],
   "metadata": {
    "collapsed": false,
    "ExecuteTime": {
     "end_time": "2024-03-26T12:45:44.841723600Z",
     "start_time": "2024-03-26T12:45:44.171731Z"
    }
   },
   "id": "f576e881adeeda12",
   "execution_count": 308
  },
  {
   "cell_type": "markdown",
   "source": [
    "3. States in the rows and add index to number them."
   ],
   "metadata": {
    "collapsed": false
   },
   "id": "da60724c471a4c02"
  },
  {
   "cell_type": "code",
   "outputs": [],
   "source": [
    "p5 = p5.T.reset_index()"
   ],
   "metadata": {
    "collapsed": false,
    "ExecuteTime": {
     "end_time": "2024-03-26T12:45:45.046271400Z",
     "start_time": "2024-03-26T12:45:44.183503600Z"
    }
   },
   "id": "9a7ce38ab23e6930",
   "execution_count": 309
  },
  {
   "cell_type": "markdown",
   "source": [
    "4. Match the header to our dataset in analysis and add new index numbering the \n",
    "rows."
   ],
   "metadata": {
    "collapsed": false
   },
   "id": "513c101e2d50f78b"
  },
  {
   "cell_type": "code",
   "outputs": [
    {
     "data": {
      "text/plain": "        state       total not hispanic       white      black  native1  \\\n0     Alabama   5,024,279    4,760,232   3,171,351  1,288,159   23,119   \n1      Alaska     733,391      683,567     421,758     20,731  108,838   \n2     Arizona   7,151,502    4,959,249   3,816,547    317,161  263,930   \n3    Arkansas   3,011,524    2,754,677   2,063,550    449,884   20,549   \n4  California  39,538,223   23,958,571  13,714,587  2,119,286  156,085   \n\n       asian  native2    hispanic  \n0     75,918    2,612     264,047  \n1     43,449   12,455      49,824  \n2    248,837   14,323   2,192,253  \n3     51,210   14,280     256,847  \n4  5,978,795  138,167  15,579,652  ",
      "text/html": "<div>\n<style scoped>\n    .dataframe tbody tr th:only-of-type {\n        vertical-align: middle;\n    }\n\n    .dataframe tbody tr th {\n        vertical-align: top;\n    }\n\n    .dataframe thead th {\n        text-align: right;\n    }\n</style>\n<table border=\"1\" class=\"dataframe\">\n  <thead>\n    <tr style=\"text-align: right;\">\n      <th></th>\n      <th>state</th>\n      <th>total</th>\n      <th>not hispanic</th>\n      <th>white</th>\n      <th>black</th>\n      <th>native1</th>\n      <th>asian</th>\n      <th>native2</th>\n      <th>hispanic</th>\n    </tr>\n  </thead>\n  <tbody>\n    <tr>\n      <th>0</th>\n      <td>Alabama</td>\n      <td>5,024,279</td>\n      <td>4,760,232</td>\n      <td>3,171,351</td>\n      <td>1,288,159</td>\n      <td>23,119</td>\n      <td>75,918</td>\n      <td>2,612</td>\n      <td>264,047</td>\n    </tr>\n    <tr>\n      <th>1</th>\n      <td>Alaska</td>\n      <td>733,391</td>\n      <td>683,567</td>\n      <td>421,758</td>\n      <td>20,731</td>\n      <td>108,838</td>\n      <td>43,449</td>\n      <td>12,455</td>\n      <td>49,824</td>\n    </tr>\n    <tr>\n      <th>2</th>\n      <td>Arizona</td>\n      <td>7,151,502</td>\n      <td>4,959,249</td>\n      <td>3,816,547</td>\n      <td>317,161</td>\n      <td>263,930</td>\n      <td>248,837</td>\n      <td>14,323</td>\n      <td>2,192,253</td>\n    </tr>\n    <tr>\n      <th>3</th>\n      <td>Arkansas</td>\n      <td>3,011,524</td>\n      <td>2,754,677</td>\n      <td>2,063,550</td>\n      <td>449,884</td>\n      <td>20,549</td>\n      <td>51,210</td>\n      <td>14,280</td>\n      <td>256,847</td>\n    </tr>\n    <tr>\n      <th>4</th>\n      <td>California</td>\n      <td>39,538,223</td>\n      <td>23,958,571</td>\n      <td>13,714,587</td>\n      <td>2,119,286</td>\n      <td>156,085</td>\n      <td>5,978,795</td>\n      <td>138,167</td>\n      <td>15,579,652</td>\n    </tr>\n  </tbody>\n</table>\n</div>"
     },
     "execution_count": 310,
     "metadata": {},
     "output_type": "execute_result"
    }
   ],
   "source": [
    "new_header = [\"state\", \"total\", \"not hispanic\", \"white\", \"black\", \"native1\",\n",
    "              \"asian\", \"native2\", \"hispanic\" ]\n",
    "p5 = p5.iloc[1:]\n",
    "p5.columns = new_header\n",
    "p5 = p5.reset_index(drop=True)\n",
    "p5.head(5)"
   ],
   "metadata": {
    "collapsed": false,
    "ExecuteTime": {
     "end_time": "2024-03-26T12:45:45.267117900Z",
     "start_time": "2024-03-26T12:45:44.198115900Z"
    }
   },
   "id": "f12bc318c8234c39",
   "execution_count": 310
  },
  {
   "cell_type": "markdown",
   "source": [
    "5. Remove Puerto Rico."
   ],
   "metadata": {
    "collapsed": false
   },
   "id": "b1d8c3fac35f6fda"
  },
  {
   "cell_type": "code",
   "outputs": [],
   "source": [
    "p5 = p5.drop(index=51)"
   ],
   "metadata": {
    "collapsed": false,
    "ExecuteTime": {
     "end_time": "2024-03-26T12:45:45.309419900Z",
     "start_time": "2024-03-26T12:45:44.249875200Z"
    }
   },
   "id": "32bc6b91e8abe8e8",
   "execution_count": 311
  },
  {
   "cell_type": "markdown",
   "source": [
    "6. Make sure data type is numeric for the population columns."
   ],
   "metadata": {
    "collapsed": false
   },
   "id": "f9acdb30be84b5bc"
  },
  {
   "cell_type": "code",
   "outputs": [
    {
     "data": {
      "text/plain": "state           object\ntotal           object\nnot hispanic    object\nwhite           object\nblack           object\nnative1         object\nasian           object\nnative2         object\nhispanic        object\ndtype: object"
     },
     "execution_count": 312,
     "metadata": {},
     "output_type": "execute_result"
    }
   ],
   "source": [
    "p5.dtypes"
   ],
   "metadata": {
    "collapsed": false,
    "ExecuteTime": {
     "end_time": "2024-03-26T12:45:45.323932300Z",
     "start_time": "2024-03-26T12:45:44.261414400Z"
    }
   },
   "id": "d7ae4d853c35aac1",
   "execution_count": 312
  },
  {
   "cell_type": "code",
   "outputs": [
    {
     "data": {
      "text/plain": "state           object\ntotal            int64\nnot hispanic     int64\nwhite            int64\nblack            int64\nnative1          int64\nasian            int64\nnative2          int64\nhispanic         int64\ndtype: object"
     },
     "execution_count": 313,
     "metadata": {},
     "output_type": "execute_result"
    }
   ],
   "source": [
    "for col in p5.columns[1:]:\n",
    "    p5[col] = p5[col].replace(\",\", \"\", regex=True).astype(\"int64\")\n",
    "p5.dtypes"
   ],
   "metadata": {
    "collapsed": false,
    "ExecuteTime": {
     "end_time": "2024-03-26T12:45:45.376185700Z",
     "start_time": "2024-03-26T12:45:44.292983300Z"
    }
   },
   "id": "7c88351e8a98c7f6",
   "execution_count": 313
  },
  {
   "cell_type": "markdown",
   "source": [
    "7. Consider \"native1\" and \"native2\" as one category only."
   ],
   "metadata": {
    "collapsed": false
   },
   "id": "51b21ee8d3aa8175"
  },
  {
   "cell_type": "code",
   "outputs": [],
   "source": [
    "p5[\"native\"] = p5[[\"native1\", \"native2\"]].sum(axis=1)\n",
    "p5 = p5.drop(columns=[\"native1\", \"native2\"])\n",
    "p5 = p5.sort_values(by=\"state\").reset_index(drop=True)"
   ],
   "metadata": {
    "collapsed": false,
    "ExecuteTime": {
     "end_time": "2024-03-26T12:45:45.447561100Z",
     "start_time": "2024-03-26T12:45:44.317923200Z"
    }
   },
   "id": "dd2c663087db4c89",
   "execution_count": 314
  },
  {
   "cell_type": "markdown",
   "source": [
    "8. Is there any empty data?"
   ],
   "metadata": {
    "collapsed": false
   },
   "id": "340de8ad652ad816"
  },
  {
   "cell_type": "code",
   "outputs": [
    {
     "data": {
      "text/plain": "False"
     },
     "execution_count": 315,
     "metadata": {},
     "output_type": "execute_result"
    }
   ],
   "source": [
    "p5.isnull().any().any()"
   ],
   "metadata": {
    "collapsed": false,
    "ExecuteTime": {
     "end_time": "2024-03-26T12:45:45.501545600Z",
     "start_time": "2024-03-26T12:45:44.352011100Z"
    }
   },
   "id": "72ca7247a3a67a0",
   "execution_count": 315
  },
  {
   "cell_type": "markdown",
   "source": [
    "9. Is there duplicates?"
   ],
   "metadata": {
    "collapsed": false
   },
   "id": "4af4ac03dc199025"
  },
  {
   "cell_type": "code",
   "outputs": [
    {
     "data": {
      "text/plain": "False"
     },
     "execution_count": 316,
     "metadata": {},
     "output_type": "execute_result"
    }
   ],
   "source": [
    "p5.duplicated().any()"
   ],
   "metadata": {
    "collapsed": false,
    "ExecuteTime": {
     "end_time": "2024-03-26T12:45:45.534633500Z",
     "start_time": "2024-03-26T12:45:44.382590200Z"
    }
   },
   "id": "3dc3a6734958f925",
   "execution_count": 316
  },
  {
   "cell_type": "markdown",
   "source": [
    "### 3.2.2 Scale Fatalities to Population & Quick exploration"
   ],
   "metadata": {
    "collapsed": false
   },
   "id": "ec192db1a48eaa8e"
  },
  {
   "cell_type": "markdown",
   "source": [
    "10. Create a new dataframe containing the number of police shooting \n",
    "fatalities of each state and also the number for each race within these \n",
    "states. Make sure the datatype is numeric."
   ],
   "metadata": {
    "collapsed": false
   },
   "id": "1d8ccdebe5795c33"
  },
  {
   "cell_type": "code",
   "outputs": [
    {
     "data": {
      "text/plain": "race state  asian  black  hispanic  native  null  other  white  total\n0       AK      0      1         0       5     1      0      5     12\n1       AL      0     12         0       0     2      0     30     44\n2       AR      0      3         0       0     4      0     14     21\n3       AZ      0      4        30       8     5      0     48     95\n4       CA     14     60       145       0    25      8    103    355",
      "text/html": "<div>\n<style scoped>\n    .dataframe tbody tr th:only-of-type {\n        vertical-align: middle;\n    }\n\n    .dataframe tbody tr th {\n        vertical-align: top;\n    }\n\n    .dataframe thead th {\n        text-align: right;\n    }\n</style>\n<table border=\"1\" class=\"dataframe\">\n  <thead>\n    <tr style=\"text-align: right;\">\n      <th>race</th>\n      <th>state</th>\n      <th>asian</th>\n      <th>black</th>\n      <th>hispanic</th>\n      <th>native</th>\n      <th>null</th>\n      <th>other</th>\n      <th>white</th>\n      <th>total</th>\n    </tr>\n  </thead>\n  <tbody>\n    <tr>\n      <th>0</th>\n      <td>AK</td>\n      <td>0</td>\n      <td>1</td>\n      <td>0</td>\n      <td>5</td>\n      <td>1</td>\n      <td>0</td>\n      <td>5</td>\n      <td>12</td>\n    </tr>\n    <tr>\n      <th>1</th>\n      <td>AL</td>\n      <td>0</td>\n      <td>12</td>\n      <td>0</td>\n      <td>0</td>\n      <td>2</td>\n      <td>0</td>\n      <td>30</td>\n      <td>44</td>\n    </tr>\n    <tr>\n      <th>2</th>\n      <td>AR</td>\n      <td>0</td>\n      <td>3</td>\n      <td>0</td>\n      <td>0</td>\n      <td>4</td>\n      <td>0</td>\n      <td>14</td>\n      <td>21</td>\n    </tr>\n    <tr>\n      <th>3</th>\n      <td>AZ</td>\n      <td>0</td>\n      <td>4</td>\n      <td>30</td>\n      <td>8</td>\n      <td>5</td>\n      <td>0</td>\n      <td>48</td>\n      <td>95</td>\n    </tr>\n    <tr>\n      <th>4</th>\n      <td>CA</td>\n      <td>14</td>\n      <td>60</td>\n      <td>145</td>\n      <td>0</td>\n      <td>25</td>\n      <td>8</td>\n      <td>103</td>\n      <td>355</td>\n    </tr>\n  </tbody>\n</table>\n</div>"
     },
     "execution_count": 317,
     "metadata": {},
     "output_type": "execute_result"
    }
   ],
   "source": [
    "grouped = (db_replaced.groupby(by=[\"state\", \"race\"]).size().reset_index\n",
    "           (name=\"count\"))\n",
    "pivot = pd.pivot_table(grouped, values=\"count\", index=\"state\", \n",
    "                       columns=\"race\", fill_value=0)\n",
    "pivot[\"total\"] = pivot.sum(axis=1)\n",
    "pivot = pivot.reset_index()\n",
    "\n",
    "for col in pivot.columns[1:]:\n",
    "    pivot[col] = pivot[col].astype(\"int64\")\n",
    "\n",
    "pivot.head(5)"
   ],
   "metadata": {
    "collapsed": false,
    "ExecuteTime": {
     "end_time": "2024-03-26T12:45:46.237347100Z",
     "start_time": "2024-03-26T12:45:44.412239600Z"
    }
   },
   "id": "b0cffc9db2930111",
   "execution_count": 317
  },
  {
   "cell_type": "markdown",
   "source": [
    "11. Match the name and order of the states to our dataset *p5* so it can be \n",
    "operated together later."
   ],
   "metadata": {
    "collapsed": false
   },
   "id": "118a95f07940ca48"
  },
  {
   "cell_type": "code",
   "outputs": [
    {
     "data": {
      "text/plain": "race       state  asian  black  hispanic  native  null  other  white  total\n0        Alabama      0     12         0       0     2      0     30     44\n1         Alaska      0      1         0       5     1      0      5     12\n2        Arizona      0      4        30       8     5      0     48     95\n3       Arkansas      0      3         0       0     4      0     14     21\n4     California     14     60       145       0    25      8    103    355",
      "text/html": "<div>\n<style scoped>\n    .dataframe tbody tr th:only-of-type {\n        vertical-align: middle;\n    }\n\n    .dataframe tbody tr th {\n        vertical-align: top;\n    }\n\n    .dataframe thead th {\n        text-align: right;\n    }\n</style>\n<table border=\"1\" class=\"dataframe\">\n  <thead>\n    <tr style=\"text-align: right;\">\n      <th>race</th>\n      <th>state</th>\n      <th>asian</th>\n      <th>black</th>\n      <th>hispanic</th>\n      <th>native</th>\n      <th>null</th>\n      <th>other</th>\n      <th>white</th>\n      <th>total</th>\n    </tr>\n  </thead>\n  <tbody>\n    <tr>\n      <th>0</th>\n      <td>Alabama</td>\n      <td>0</td>\n      <td>12</td>\n      <td>0</td>\n      <td>0</td>\n      <td>2</td>\n      <td>0</td>\n      <td>30</td>\n      <td>44</td>\n    </tr>\n    <tr>\n      <th>1</th>\n      <td>Alaska</td>\n      <td>0</td>\n      <td>1</td>\n      <td>0</td>\n      <td>5</td>\n      <td>1</td>\n      <td>0</td>\n      <td>5</td>\n      <td>12</td>\n    </tr>\n    <tr>\n      <th>2</th>\n      <td>Arizona</td>\n      <td>0</td>\n      <td>4</td>\n      <td>30</td>\n      <td>8</td>\n      <td>5</td>\n      <td>0</td>\n      <td>48</td>\n      <td>95</td>\n    </tr>\n    <tr>\n      <th>3</th>\n      <td>Arkansas</td>\n      <td>0</td>\n      <td>3</td>\n      <td>0</td>\n      <td>0</td>\n      <td>4</td>\n      <td>0</td>\n      <td>14</td>\n      <td>21</td>\n    </tr>\n    <tr>\n      <th>4</th>\n      <td>California</td>\n      <td>14</td>\n      <td>60</td>\n      <td>145</td>\n      <td>0</td>\n      <td>25</td>\n      <td>8</td>\n      <td>103</td>\n      <td>355</td>\n    </tr>\n  </tbody>\n</table>\n</div>"
     },
     "execution_count": 318,
     "metadata": {},
     "output_type": "execute_result"
    }
   ],
   "source": [
    "state_mapping = {\n",
    "    \"AL\": \"Alabama\",\n",
    "    \"AK\": \"Alaska\",\n",
    "    \"AS\": \"American Samoa\",\n",
    "    \"AZ\": \"Arizona\",\n",
    "    \"AR\": \"Arkansas\",\n",
    "    \"CA\": \"California\",\n",
    "    \"CO\": \"Colorado\",\n",
    "    \"CT\": \"Connecticut\",\n",
    "    \"DE\": \"Delaware\",\n",
    "    \"DC\": \"District of Columbia\",\n",
    "    \"FM\": \"Federated States Of Micronesia\",\n",
    "    \"FL\": \"Florida\",\n",
    "    \"GA\": \"Georgia\",\n",
    "    \"GU\": \"Guam\",\n",
    "    \"HI\": \"Hawaii\",\n",
    "    \"ID\": \"Idaho\",\n",
    "    \"IL\": \"Illinois\",\n",
    "    \"IN\": \"Indiana\",\n",
    "    \"IA\": \"Iowa\",\n",
    "    \"KS\": \"Kansas\",\n",
    "    \"KY\": \"Kentucky\",\n",
    "    \"LA\": \"Louisiana\",\n",
    "    \"ME\": \"Maine\",\n",
    "    \"MH\": \"Marshall Islands\",\n",
    "    \"MD\": \"Maryland\",\n",
    "    \"MA\": \"Massachusetts\",\n",
    "    \"MI\": \"Michigan\",\n",
    "    \"MN\": \"Minnesota\",\n",
    "    \"MS\": \"Mississippi\",\n",
    "    \"MO\": \"Missouri\",\n",
    "    \"MT\": \"Montana\",\n",
    "    \"NE\": \"Nebraska\",\n",
    "    \"NV\": \"Nevada\",\n",
    "    \"NH\": \"New Hampshire\",\n",
    "    \"NJ\": \"New Jersey\",\n",
    "    \"NM\": \"New Mexico\",\n",
    "    \"NY\": \"New York\",\n",
    "    \"NC\": \"North Carolina\",\n",
    "    \"ND\": \"North Dakota\",\n",
    "    \"MP\": \"Northern Mariana Islands\",\n",
    "    \"OH\": \"Ohio\",\n",
    "    \"OK\": \"Oklahoma\",\n",
    "    \"OR\": \"Oregon\",\n",
    "    \"PW\": \"Palau\",\n",
    "    \"PA\": \"Pennsylvania\",\n",
    "    \"PR\": \"Puerto Rico\",\n",
    "    \"RI\": \"Rhode Island\",\n",
    "    \"SC\": \"South Carolina\",\n",
    "    \"SD\": \"South Dakota\",\n",
    "    \"TN\": \"Tennessee\",\n",
    "    \"TX\": \"Texas\",\n",
    "    \"UT\": \"Utah\",\n",
    "    \"VT\": \"Vermont\",\n",
    "    \"VI\": \"Virgin Islands\",\n",
    "    \"VA\": \"Virginia\",\n",
    "    \"WA\": \"Washington\",\n",
    "    \"WV\": \"West Virginia\",\n",
    "    \"WI\": \"Wisconsin\",\n",
    "    \"WY\": \"Wyoming\"\n",
    "}\n",
    "\n",
    "pivot.state = pivot.state.replace(state_mapping)\n",
    "pivot = (pivot.sort_values(by=\"state\").reset_index\n",
    "                   (drop=True))\n",
    "pivot.head(5)"
   ],
   "metadata": {
    "collapsed": false,
    "ExecuteTime": {
     "end_time": "2024-03-26T12:45:46.447399700Z",
     "start_time": "2024-03-26T12:45:44.484808700Z"
    }
   },
   "id": "c9971937b84968b3",
   "execution_count": 318
  },
  {
   "cell_type": "markdown",
   "source": [
    "12. Scale the fatalities by our dataset *p5* and limit the decimals."
   ],
   "metadata": {
    "collapsed": false
   },
   "id": "2ea8fe6b74b933c8"
  },
  {
   "cell_type": "code",
   "outputs": [
    {
     "data": {
      "text/plain": "race       state  total  white  black  asian  hispanic  native\n0        Alabama   8.76   9.46   9.32   0.00      0.00    0.00\n1         Alaska  16.36  11.86  48.24   0.00      0.00   41.22\n2        Arizona  13.28  12.58  12.61   0.00     13.68   28.75\n3       Arkansas   6.97   6.78   6.67   0.00      0.00    0.00\n4     California   8.98   7.51  28.31   2.34      9.31    0.00",
      "text/html": "<div>\n<style scoped>\n    .dataframe tbody tr th:only-of-type {\n        vertical-align: middle;\n    }\n\n    .dataframe tbody tr th {\n        vertical-align: top;\n    }\n\n    .dataframe thead th {\n        text-align: right;\n    }\n</style>\n<table border=\"1\" class=\"dataframe\">\n  <thead>\n    <tr style=\"text-align: right;\">\n      <th>race</th>\n      <th>state</th>\n      <th>total</th>\n      <th>white</th>\n      <th>black</th>\n      <th>asian</th>\n      <th>hispanic</th>\n      <th>native</th>\n    </tr>\n  </thead>\n  <tbody>\n    <tr>\n      <th>0</th>\n      <td>Alabama</td>\n      <td>8.76</td>\n      <td>9.46</td>\n      <td>9.32</td>\n      <td>0.00</td>\n      <td>0.00</td>\n      <td>0.00</td>\n    </tr>\n    <tr>\n      <th>1</th>\n      <td>Alaska</td>\n      <td>16.36</td>\n      <td>11.86</td>\n      <td>48.24</td>\n      <td>0.00</td>\n      <td>0.00</td>\n      <td>41.22</td>\n    </tr>\n    <tr>\n      <th>2</th>\n      <td>Arizona</td>\n      <td>13.28</td>\n      <td>12.58</td>\n      <td>12.61</td>\n      <td>0.00</td>\n      <td>13.68</td>\n      <td>28.75</td>\n    </tr>\n    <tr>\n      <th>3</th>\n      <td>Arkansas</td>\n      <td>6.97</td>\n      <td>6.78</td>\n      <td>6.67</td>\n      <td>0.00</td>\n      <td>0.00</td>\n      <td>0.00</td>\n    </tr>\n    <tr>\n      <th>4</th>\n      <td>California</td>\n      <td>8.98</td>\n      <td>7.51</td>\n      <td>28.31</td>\n      <td>2.34</td>\n      <td>9.31</td>\n      <td>0.00</td>\n    </tr>\n  </tbody>\n</table>\n</div>"
     },
     "execution_count": 319,
     "metadata": {},
     "output_type": "execute_result"
    }
   ],
   "source": [
    "p5 = p5.set_index(\"state\")\n",
    "pivot = pivot.set_index(\"state\")\n",
    "common_columns = p5.columns.intersection(pivot.columns)\n",
    "shootings_scaled_by_population = pivot[common_columns].div(p5[common_columns])\n",
    "shootings_scaled_by_population = shootings_scaled_by_population.reset_index()\n",
    "shootings_scaled_by_population.iloc[:, 1:] = shootings_scaled_by_population.iloc[:, 1:]*1000000\n",
    "shootings_scaled_by_population = shootings_scaled_by_population.round(2)\n",
    "\n",
    "shootings_scaled_by_population.head(5)"
   ],
   "metadata": {
    "collapsed": false,
    "ExecuteTime": {
     "end_time": "2024-03-26T12:45:46.538643600Z",
     "start_time": "2024-03-26T12:45:44.525579400Z"
    }
   },
   "id": "4ccb8813e6c34cba",
   "execution_count": 319
  },
  {
   "cell_type": "markdown",
   "source": [
    "13. After scaling, which are the top 5 states with the highest fatalities \n",
    "for each race."
   ],
   "metadata": {
    "collapsed": false
   },
   "id": "1de9d7f4656e7a2b"
  },
  {
   "cell_type": "code",
   "outputs": [
    {
     "data": {
      "text/plain": "race                 state  total  white  black  asian  hispanic  native\n31              New Mexico  20.78  19.41   0.00    0.0     25.72    5.26\n36                Oklahoma  16.42  16.20  49.43    0.0      8.48    3.12\n1                   Alaska  16.36  11.86  48.24    0.0      0.00   41.22\n8     District of Columbia  14.50   0.00  35.45    0.0      0.00    0.00\n48           West Virginia  13.94  11.88  46.33    0.0      0.00    0.00",
      "text/html": "<div>\n<style scoped>\n    .dataframe tbody tr th:only-of-type {\n        vertical-align: middle;\n    }\n\n    .dataframe tbody tr th {\n        vertical-align: top;\n    }\n\n    .dataframe thead th {\n        text-align: right;\n    }\n</style>\n<table border=\"1\" class=\"dataframe\">\n  <thead>\n    <tr style=\"text-align: right;\">\n      <th>race</th>\n      <th>state</th>\n      <th>total</th>\n      <th>white</th>\n      <th>black</th>\n      <th>asian</th>\n      <th>hispanic</th>\n      <th>native</th>\n    </tr>\n  </thead>\n  <tbody>\n    <tr>\n      <th>31</th>\n      <td>New Mexico</td>\n      <td>20.78</td>\n      <td>19.41</td>\n      <td>0.00</td>\n      <td>0.0</td>\n      <td>25.72</td>\n      <td>5.26</td>\n    </tr>\n    <tr>\n      <th>36</th>\n      <td>Oklahoma</td>\n      <td>16.42</td>\n      <td>16.20</td>\n      <td>49.43</td>\n      <td>0.0</td>\n      <td>8.48</td>\n      <td>3.12</td>\n    </tr>\n    <tr>\n      <th>1</th>\n      <td>Alaska</td>\n      <td>16.36</td>\n      <td>11.86</td>\n      <td>48.24</td>\n      <td>0.0</td>\n      <td>0.00</td>\n      <td>41.22</td>\n    </tr>\n    <tr>\n      <th>8</th>\n      <td>District of Columbia</td>\n      <td>14.50</td>\n      <td>0.00</td>\n      <td>35.45</td>\n      <td>0.0</td>\n      <td>0.00</td>\n      <td>0.00</td>\n    </tr>\n    <tr>\n      <th>48</th>\n      <td>West Virginia</td>\n      <td>13.94</td>\n      <td>11.88</td>\n      <td>46.33</td>\n      <td>0.0</td>\n      <td>0.00</td>\n      <td>0.00</td>\n    </tr>\n  </tbody>\n</table>\n</div>"
     },
     "execution_count": 320,
     "metadata": {},
     "output_type": "execute_result"
    }
   ],
   "source": [
    "top5_by_column = {}\n",
    "\n",
    "for column in shootings_scaled_by_population.columns[1:]:\n",
    "    top5_by_column[column] = (shootings_scaled_by_population\n",
    "                              .sort_values(by=column, ascending=False)\n",
    "                              .head(5))\n",
    "top5_by_column[\"total\"]"
   ],
   "metadata": {
    "collapsed": false,
    "ExecuteTime": {
     "end_time": "2024-03-26T12:45:46.675360Z",
     "start_time": "2024-03-26T12:45:44.566843900Z"
    }
   },
   "id": "ac63e629ec187a52",
   "execution_count": 320
  },
  {
   "cell_type": "code",
   "outputs": [
    {
     "data": {
      "text/plain": "race          state  total  white  black  asian  hispanic  native\n31       New Mexico  20.78  19.41   0.00    0.0     25.72    5.26\n36         Oklahoma  16.42  16.20  49.43    0.0      8.48    3.12\n2           Arizona  13.28  12.58  12.61    0.0     13.68   28.75\n48    West Virginia  13.94  11.88  46.33    0.0      0.00    0.00\n1            Alaska  16.36  11.86  48.24    0.0      0.00   41.22",
      "text/html": "<div>\n<style scoped>\n    .dataframe tbody tr th:only-of-type {\n        vertical-align: middle;\n    }\n\n    .dataframe tbody tr th {\n        vertical-align: top;\n    }\n\n    .dataframe thead th {\n        text-align: right;\n    }\n</style>\n<table border=\"1\" class=\"dataframe\">\n  <thead>\n    <tr style=\"text-align: right;\">\n      <th>race</th>\n      <th>state</th>\n      <th>total</th>\n      <th>white</th>\n      <th>black</th>\n      <th>asian</th>\n      <th>hispanic</th>\n      <th>native</th>\n    </tr>\n  </thead>\n  <tbody>\n    <tr>\n      <th>31</th>\n      <td>New Mexico</td>\n      <td>20.78</td>\n      <td>19.41</td>\n      <td>0.00</td>\n      <td>0.0</td>\n      <td>25.72</td>\n      <td>5.26</td>\n    </tr>\n    <tr>\n      <th>36</th>\n      <td>Oklahoma</td>\n      <td>16.42</td>\n      <td>16.20</td>\n      <td>49.43</td>\n      <td>0.0</td>\n      <td>8.48</td>\n      <td>3.12</td>\n    </tr>\n    <tr>\n      <th>2</th>\n      <td>Arizona</td>\n      <td>13.28</td>\n      <td>12.58</td>\n      <td>12.61</td>\n      <td>0.0</td>\n      <td>13.68</td>\n      <td>28.75</td>\n    </tr>\n    <tr>\n      <th>48</th>\n      <td>West Virginia</td>\n      <td>13.94</td>\n      <td>11.88</td>\n      <td>46.33</td>\n      <td>0.0</td>\n      <td>0.00</td>\n      <td>0.00</td>\n    </tr>\n    <tr>\n      <th>1</th>\n      <td>Alaska</td>\n      <td>16.36</td>\n      <td>11.86</td>\n      <td>48.24</td>\n      <td>0.0</td>\n      <td>0.00</td>\n      <td>41.22</td>\n    </tr>\n  </tbody>\n</table>\n</div>"
     },
     "execution_count": 321,
     "metadata": {},
     "output_type": "execute_result"
    }
   ],
   "source": [
    "top5_by_column[\"white\"]"
   ],
   "metadata": {
    "collapsed": false,
    "ExecuteTime": {
     "end_time": "2024-03-26T12:45:46.763583100Z",
     "start_time": "2024-03-26T12:45:44.584319300Z"
    }
   },
   "id": "20c63e2b7c0a756c",
   "execution_count": 321
  },
  {
   "cell_type": "code",
   "outputs": [
    {
     "data": {
      "text/plain": "race          state  total  white  black  asian  hispanic  native\n36         Oklahoma  16.42  16.20  49.43   0.00      8.48    3.12\n1            Alaska  16.36  11.86  48.24   0.00      0.00   41.22\n48    West Virginia  13.94  11.88  46.33   0.00      0.00    0.00\n11           Hawaii   6.87   0.00  45.71   3.76      0.00    0.00\n19            Maine   5.87   4.07  39.82   0.00      0.00    0.00",
      "text/html": "<div>\n<style scoped>\n    .dataframe tbody tr th:only-of-type {\n        vertical-align: middle;\n    }\n\n    .dataframe tbody tr th {\n        vertical-align: top;\n    }\n\n    .dataframe thead th {\n        text-align: right;\n    }\n</style>\n<table border=\"1\" class=\"dataframe\">\n  <thead>\n    <tr style=\"text-align: right;\">\n      <th>race</th>\n      <th>state</th>\n      <th>total</th>\n      <th>white</th>\n      <th>black</th>\n      <th>asian</th>\n      <th>hispanic</th>\n      <th>native</th>\n    </tr>\n  </thead>\n  <tbody>\n    <tr>\n      <th>36</th>\n      <td>Oklahoma</td>\n      <td>16.42</td>\n      <td>16.20</td>\n      <td>49.43</td>\n      <td>0.00</td>\n      <td>8.48</td>\n      <td>3.12</td>\n    </tr>\n    <tr>\n      <th>1</th>\n      <td>Alaska</td>\n      <td>16.36</td>\n      <td>11.86</td>\n      <td>48.24</td>\n      <td>0.00</td>\n      <td>0.00</td>\n      <td>41.22</td>\n    </tr>\n    <tr>\n      <th>48</th>\n      <td>West Virginia</td>\n      <td>13.94</td>\n      <td>11.88</td>\n      <td>46.33</td>\n      <td>0.00</td>\n      <td>0.00</td>\n      <td>0.00</td>\n    </tr>\n    <tr>\n      <th>11</th>\n      <td>Hawaii</td>\n      <td>6.87</td>\n      <td>0.00</td>\n      <td>45.71</td>\n      <td>3.76</td>\n      <td>0.00</td>\n      <td>0.00</td>\n    </tr>\n    <tr>\n      <th>19</th>\n      <td>Maine</td>\n      <td>5.87</td>\n      <td>4.07</td>\n      <td>39.82</td>\n      <td>0.00</td>\n      <td>0.00</td>\n      <td>0.00</td>\n    </tr>\n  </tbody>\n</table>\n</div>"
     },
     "execution_count": 322,
     "metadata": {},
     "output_type": "execute_result"
    }
   ],
   "source": [
    "top5_by_column[\"black\"]"
   ],
   "metadata": {
    "collapsed": false,
    "ExecuteTime": {
     "end_time": "2024-03-26T12:45:46.791329300Z",
     "start_time": "2024-03-26T12:45:44.616701Z"
    }
   },
   "id": "9b0c858372aa9e7d",
   "execution_count": 322
  },
  {
   "cell_type": "code",
   "outputs": [
    {
     "data": {
      "text/plain": "race      state  total  white  black  asian  hispanic  native\n18    Louisiana  10.31   6.93  18.59  11.72      0.00    0.00\n5      Colorado  11.08   7.45  36.15  10.24     15.83   23.38\n42    Tennessee   6.95   6.53   8.30   7.45      4.17    0.00\n35         Ohio   5.34   3.46  17.84   6.74      0.00    0.00\n11       Hawaii   6.87   0.00  45.71   3.76      0.00    0.00",
      "text/html": "<div>\n<style scoped>\n    .dataframe tbody tr th:only-of-type {\n        vertical-align: middle;\n    }\n\n    .dataframe tbody tr th {\n        vertical-align: top;\n    }\n\n    .dataframe thead th {\n        text-align: right;\n    }\n</style>\n<table border=\"1\" class=\"dataframe\">\n  <thead>\n    <tr style=\"text-align: right;\">\n      <th>race</th>\n      <th>state</th>\n      <th>total</th>\n      <th>white</th>\n      <th>black</th>\n      <th>asian</th>\n      <th>hispanic</th>\n      <th>native</th>\n    </tr>\n  </thead>\n  <tbody>\n    <tr>\n      <th>18</th>\n      <td>Louisiana</td>\n      <td>10.31</td>\n      <td>6.93</td>\n      <td>18.59</td>\n      <td>11.72</td>\n      <td>0.00</td>\n      <td>0.00</td>\n    </tr>\n    <tr>\n      <th>5</th>\n      <td>Colorado</td>\n      <td>11.08</td>\n      <td>7.45</td>\n      <td>36.15</td>\n      <td>10.24</td>\n      <td>15.83</td>\n      <td>23.38</td>\n    </tr>\n    <tr>\n      <th>42</th>\n      <td>Tennessee</td>\n      <td>6.95</td>\n      <td>6.53</td>\n      <td>8.30</td>\n      <td>7.45</td>\n      <td>4.17</td>\n      <td>0.00</td>\n    </tr>\n    <tr>\n      <th>35</th>\n      <td>Ohio</td>\n      <td>5.34</td>\n      <td>3.46</td>\n      <td>17.84</td>\n      <td>6.74</td>\n      <td>0.00</td>\n      <td>0.00</td>\n    </tr>\n    <tr>\n      <th>11</th>\n      <td>Hawaii</td>\n      <td>6.87</td>\n      <td>0.00</td>\n      <td>45.71</td>\n      <td>3.76</td>\n      <td>0.00</td>\n      <td>0.00</td>\n    </tr>\n  </tbody>\n</table>\n</div>"
     },
     "execution_count": 323,
     "metadata": {},
     "output_type": "execute_result"
    }
   ],
   "source": [
    "top5_by_column[\"asian\"]"
   ],
   "metadata": {
    "collapsed": false,
    "ExecuteTime": {
     "end_time": "2024-03-26T12:45:46.868813200Z",
     "start_time": "2024-03-26T12:45:44.648688Z"
    }
   },
   "id": "b6d89e287a5df711",
   "execution_count": 323
  },
  {
   "cell_type": "code",
   "outputs": [
    {
     "data": {
      "text/plain": "race       state  total  white  black  asian  hispanic  native\n31    New Mexico  20.78  19.41   0.00   0.00     25.72    5.26\n50       Wyoming  13.87  10.65   0.00   0.00     16.94   81.50\n12         Idaho   7.61   6.89   0.00   0.00     16.71    0.00\n5       Colorado  11.08   7.45  36.15  10.24     15.83   23.38\n2        Arizona  13.28  12.58  12.61   0.00     13.68   28.75",
      "text/html": "<div>\n<style scoped>\n    .dataframe tbody tr th:only-of-type {\n        vertical-align: middle;\n    }\n\n    .dataframe tbody tr th {\n        vertical-align: top;\n    }\n\n    .dataframe thead th {\n        text-align: right;\n    }\n</style>\n<table border=\"1\" class=\"dataframe\">\n  <thead>\n    <tr style=\"text-align: right;\">\n      <th>race</th>\n      <th>state</th>\n      <th>total</th>\n      <th>white</th>\n      <th>black</th>\n      <th>asian</th>\n      <th>hispanic</th>\n      <th>native</th>\n    </tr>\n  </thead>\n  <tbody>\n    <tr>\n      <th>31</th>\n      <td>New Mexico</td>\n      <td>20.78</td>\n      <td>19.41</td>\n      <td>0.00</td>\n      <td>0.00</td>\n      <td>25.72</td>\n      <td>5.26</td>\n    </tr>\n    <tr>\n      <th>50</th>\n      <td>Wyoming</td>\n      <td>13.87</td>\n      <td>10.65</td>\n      <td>0.00</td>\n      <td>0.00</td>\n      <td>16.94</td>\n      <td>81.50</td>\n    </tr>\n    <tr>\n      <th>12</th>\n      <td>Idaho</td>\n      <td>7.61</td>\n      <td>6.89</td>\n      <td>0.00</td>\n      <td>0.00</td>\n      <td>16.71</td>\n      <td>0.00</td>\n    </tr>\n    <tr>\n      <th>5</th>\n      <td>Colorado</td>\n      <td>11.08</td>\n      <td>7.45</td>\n      <td>36.15</td>\n      <td>10.24</td>\n      <td>15.83</td>\n      <td>23.38</td>\n    </tr>\n    <tr>\n      <th>2</th>\n      <td>Arizona</td>\n      <td>13.28</td>\n      <td>12.58</td>\n      <td>12.61</td>\n      <td>0.00</td>\n      <td>13.68</td>\n      <td>28.75</td>\n    </tr>\n  </tbody>\n</table>\n</div>"
     },
     "execution_count": 324,
     "metadata": {},
     "output_type": "execute_result"
    }
   ],
   "source": [
    "top5_by_column[\"hispanic\"]"
   ],
   "metadata": {
    "collapsed": false,
    "ExecuteTime": {
     "end_time": "2024-03-26T12:45:46.974116400Z",
     "start_time": "2024-03-26T12:45:44.680987800Z"
    }
   },
   "id": "fffd2805634bb7fe",
   "execution_count": 324
  },
  {
   "cell_type": "code",
   "outputs": [
    {
     "data": {
      "text/plain": "race         state  total  white  black  asian  hispanic  native\n45         Vermont   4.67   3.49   0.00    0.0      0.00  463.82\n50         Wyoming  13.87  10.65   0.00    0.0     16.94   81.50\n34    North Dakota   3.85   1.57   0.00    0.0      0.00   52.33\n1           Alaska  16.36  11.86  48.24    0.0      0.00   41.22\n2          Arizona  13.28  12.58  12.61    0.0     13.68   28.75",
      "text/html": "<div>\n<style scoped>\n    .dataframe tbody tr th:only-of-type {\n        vertical-align: middle;\n    }\n\n    .dataframe tbody tr th {\n        vertical-align: top;\n    }\n\n    .dataframe thead th {\n        text-align: right;\n    }\n</style>\n<table border=\"1\" class=\"dataframe\">\n  <thead>\n    <tr style=\"text-align: right;\">\n      <th>race</th>\n      <th>state</th>\n      <th>total</th>\n      <th>white</th>\n      <th>black</th>\n      <th>asian</th>\n      <th>hispanic</th>\n      <th>native</th>\n    </tr>\n  </thead>\n  <tbody>\n    <tr>\n      <th>45</th>\n      <td>Vermont</td>\n      <td>4.67</td>\n      <td>3.49</td>\n      <td>0.00</td>\n      <td>0.0</td>\n      <td>0.00</td>\n      <td>463.82</td>\n    </tr>\n    <tr>\n      <th>50</th>\n      <td>Wyoming</td>\n      <td>13.87</td>\n      <td>10.65</td>\n      <td>0.00</td>\n      <td>0.0</td>\n      <td>16.94</td>\n      <td>81.50</td>\n    </tr>\n    <tr>\n      <th>34</th>\n      <td>North Dakota</td>\n      <td>3.85</td>\n      <td>1.57</td>\n      <td>0.00</td>\n      <td>0.0</td>\n      <td>0.00</td>\n      <td>52.33</td>\n    </tr>\n    <tr>\n      <th>1</th>\n      <td>Alaska</td>\n      <td>16.36</td>\n      <td>11.86</td>\n      <td>48.24</td>\n      <td>0.0</td>\n      <td>0.00</td>\n      <td>41.22</td>\n    </tr>\n    <tr>\n      <th>2</th>\n      <td>Arizona</td>\n      <td>13.28</td>\n      <td>12.58</td>\n      <td>12.61</td>\n      <td>0.0</td>\n      <td>13.68</td>\n      <td>28.75</td>\n    </tr>\n  </tbody>\n</table>\n</div>"
     },
     "execution_count": 325,
     "metadata": {},
     "output_type": "execute_result"
    }
   ],
   "source": [
    "top5_by_column[\"native\"]"
   ],
   "metadata": {
    "collapsed": false,
    "ExecuteTime": {
     "end_time": "2024-03-26T12:45:46.986457100Z",
     "start_time": "2024-03-26T12:45:44.710214900Z"
    }
   },
   "id": "98a1718f310485d4",
   "execution_count": 325
  },
  {
   "cell_type": "markdown",
   "source": [
    "14. Which are the top 5 states with the lowest fatalities for each race."
   ],
   "metadata": {
    "collapsed": false
   },
   "id": "4ac183d0959b733"
  },
  {
   "cell_type": "code",
   "outputs": [
    {
     "data": {
      "text/plain": "race          state  total  white  black  asian  hispanic  native\n39     Rhode Island   1.82   0.00  18.06   0.00      5.49     0.0\n6       Connecticut   1.94   2.19   0.00   0.00      1.60     0.0\n32         New York   2.03   1.51   7.25   0.52      0.76     0.0\n21    Massachusetts   2.99   1.90  15.32   0.00      5.63     0.0\n22         Michigan   3.08   2.47   8.83   0.00      1.77     0.0",
      "text/html": "<div>\n<style scoped>\n    .dataframe tbody tr th:only-of-type {\n        vertical-align: middle;\n    }\n\n    .dataframe tbody tr th {\n        vertical-align: top;\n    }\n\n    .dataframe thead th {\n        text-align: right;\n    }\n</style>\n<table border=\"1\" class=\"dataframe\">\n  <thead>\n    <tr style=\"text-align: right;\">\n      <th>race</th>\n      <th>state</th>\n      <th>total</th>\n      <th>white</th>\n      <th>black</th>\n      <th>asian</th>\n      <th>hispanic</th>\n      <th>native</th>\n    </tr>\n  </thead>\n  <tbody>\n    <tr>\n      <th>39</th>\n      <td>Rhode Island</td>\n      <td>1.82</td>\n      <td>0.00</td>\n      <td>18.06</td>\n      <td>0.00</td>\n      <td>5.49</td>\n      <td>0.0</td>\n    </tr>\n    <tr>\n      <th>6</th>\n      <td>Connecticut</td>\n      <td>1.94</td>\n      <td>2.19</td>\n      <td>0.00</td>\n      <td>0.00</td>\n      <td>1.60</td>\n      <td>0.0</td>\n    </tr>\n    <tr>\n      <th>32</th>\n      <td>New York</td>\n      <td>2.03</td>\n      <td>1.51</td>\n      <td>7.25</td>\n      <td>0.52</td>\n      <td>0.76</td>\n      <td>0.0</td>\n    </tr>\n    <tr>\n      <th>21</th>\n      <td>Massachusetts</td>\n      <td>2.99</td>\n      <td>1.90</td>\n      <td>15.32</td>\n      <td>0.00</td>\n      <td>5.63</td>\n      <td>0.0</td>\n    </tr>\n    <tr>\n      <th>22</th>\n      <td>Michigan</td>\n      <td>3.08</td>\n      <td>2.47</td>\n      <td>8.83</td>\n      <td>0.00</td>\n      <td>1.77</td>\n      <td>0.0</td>\n    </tr>\n  </tbody>\n</table>\n</div>"
     },
     "execution_count": 326,
     "metadata": {},
     "output_type": "execute_result"
    }
   ],
   "source": [
    "last5 = (shootings_scaled_by_population.sort_values(by=\"total\", \n",
    "                                                    ascending=True).head(5))\n",
    "last5"
   ],
   "metadata": {
    "collapsed": false,
    "ExecuteTime": {
     "end_time": "2024-03-26T12:45:47.042857600Z",
     "start_time": "2024-03-26T12:45:44.739679600Z"
    }
   },
   "id": "c3a118bb0ebfa479",
   "execution_count": 326
  },
  {
   "cell_type": "markdown",
   "source": [
    "15. Range of fatality rate for each race."
   ],
   "metadata": {
    "collapsed": false
   },
   "id": "3ed91239a8b09483"
  },
  {
   "cell_type": "code",
   "outputs": [
    {
     "data": {
      "text/plain": "           range\nrace            \ntotal      18.96\nwhite      19.41\nblack      49.43\nasian      11.72\nhispanic   25.72\nnative    463.82",
      "text/html": "<div>\n<style scoped>\n    .dataframe tbody tr th:only-of-type {\n        vertical-align: middle;\n    }\n\n    .dataframe tbody tr th {\n        vertical-align: top;\n    }\n\n    .dataframe thead th {\n        text-align: right;\n    }\n</style>\n<table border=\"1\" class=\"dataframe\">\n  <thead>\n    <tr style=\"text-align: right;\">\n      <th></th>\n      <th>range</th>\n    </tr>\n    <tr>\n      <th>race</th>\n      <th></th>\n    </tr>\n  </thead>\n  <tbody>\n    <tr>\n      <th>total</th>\n      <td>18.96</td>\n    </tr>\n    <tr>\n      <th>white</th>\n      <td>19.41</td>\n    </tr>\n    <tr>\n      <th>black</th>\n      <td>49.43</td>\n    </tr>\n    <tr>\n      <th>asian</th>\n      <td>11.72</td>\n    </tr>\n    <tr>\n      <th>hispanic</th>\n      <td>25.72</td>\n    </tr>\n    <tr>\n      <th>native</th>\n      <td>463.82</td>\n    </tr>\n  </tbody>\n</table>\n</div>"
     },
     "execution_count": 327,
     "metadata": {},
     "output_type": "execute_result"
    }
   ],
   "source": [
    "fatality_range = pd.DataFrame(index=shootings_scaled_by_population\n",
    "                              .columns[1:], columns=[\"range\"])\n",
    "\n",
    "for column in shootings_scaled_by_population.columns[1:]:\n",
    "    max_value = shootings_scaled_by_population[column].max()\n",
    "    min_value = shootings_scaled_by_population[column].min()\n",
    "    fatality_range.loc[column, \"range\"] = max_value - min_value\n",
    "\n",
    "fatality_range"
   ],
   "metadata": {
    "collapsed": false,
    "ExecuteTime": {
     "end_time": "2024-03-26T12:45:47.088490900Z",
     "start_time": "2024-03-26T12:45:44.769999400Z"
    }
   },
   "id": "286b6e7815e914ac",
   "execution_count": 327
  },
  {
   "cell_type": "code",
   "outputs": [
    {
     "data": {
      "text/plain": "<Axes: xlabel='race', ylabel='range'>"
     },
     "execution_count": 328,
     "metadata": {},
     "output_type": "execute_result"
    },
    {
     "data": {
      "text/plain": "<Figure size 640x480 with 1 Axes>",
      "image/png": "[encoded data removed]"
     },
     "metadata": {},
     "output_type": "display_data"
    }
   ],
   "source": [
    "sns.barplot(data=fatality_range, x=fatality_range.index, \n",
    "            y=fatality_range.range, color=\"grey\")"
   ],
   "metadata": {
    "collapsed": false,
    "ExecuteTime": {
     "end_time": "2024-03-26T12:45:47.471322500Z",
     "start_time": "2024-03-26T12:45:44.804033Z"
    }
   },
   "id": "f9d5046d5e483579",
   "execution_count": 328
  },
  {
   "cell_type": "markdown",
   "source": [
    "### 3.2.3 Visualize Scaled Fatalities (state & race)"
   ],
   "metadata": {
    "collapsed": false
   },
   "id": "1f074b4aa7416d84"
  },
  {
   "cell_type": "markdown",
   "source": [
    "**Function to create maps without repetition**"
   ],
   "metadata": {
    "collapsed": false
   },
   "id": "8dadfe3ca477d0ca"
  },
  {
   "cell_type": "code",
   "outputs": [],
   "source": [
    "def add_choropleth(map, geo_data, data, column, layer_name):\n",
    "    folium.Choropleth(\n",
    "        geo_data=geo_data,\n",
    "        data=data,\n",
    "        name=f\"Deaths - {layer_name}\",\n",
    "        columns=[\"state\", column],\n",
    "        key_on=\"feature.properties.NAME\",\n",
    "        fill_color=\"YlGn\",\n",
    "        fill_opacity=0.7,\n",
    "        line_opacity=0.2,\n",
    "        legend_name=f\"Deaths per million- {layer_name}\"\n",
    "    ).add_to(map)"
   ],
   "metadata": {
    "collapsed": false,
    "ExecuteTime": {
     "end_time": "2024-03-26T12:45:47.546442500Z",
     "start_time": "2024-03-26T12:45:45.440242200Z"
    }
   },
   "id": "5c3cb9f01fdd1cc9",
   "execution_count": 329
  },
  {
   "cell_type": "markdown",
   "source": [
    "**Add US States layer with tooltips**"
   ],
   "metadata": {
    "collapsed": false
   },
   "id": "22d8fe5610d121b7"
  },
  {
   "cell_type": "code",
   "outputs": [],
   "source": [
    "def add_states(map):\n",
    "    folium.GeoJson(\n",
    "        data = statemap_geojson_with_id,\n",
    "        name=\"US States\",\n",
    "        style_function=lambda x: {\"fillColor\": \"transparent\", \"color\": \"black\",\n",
    "                               \"weight\": 0.5},\n",
    "        tooltip=folium.GeoJsonTooltip(\n",
    "        fields=[\"NAME\"],\n",
    "        aliases=[\"State:\"],\n",
    "        localize=True,\n",
    "        sticky=False\n",
    "        )\n",
    "    ).add_to(map)"
   ],
   "metadata": {
    "collapsed": false,
    "ExecuteTime": {
     "end_time": "2024-03-26T12:45:47.583609300Z",
     "start_time": "2024-03-26T12:45:45.454033500Z"
    }
   },
   "id": "60b4ad5d9730f7e2",
   "execution_count": 330
  },
  {
   "cell_type": "code",
   "outputs": [],
   "source": [
    "map = folium.Map(location=[35, -100], zoom_start=3)\n",
    "\n",
    "data = shootings_scaled_by_population\n",
    "\n",
    "geo_data = statemap_geojson_with_id\n",
    "\n",
    "demographics = [\"total\", \"white\", \"black\", \"asian\", \"hispanic\", \"native\"]\n",
    "for demo in demographics:\n",
    "    add_choropleth(map, geo_data, data, demo, demo.capitalize())\n",
    "\n",
    "add_states(map)\n",
    "\n",
    "folium.LayerControl().add_to(map)\n",
    "\n",
    "map.save(\"scaled_deaths_by_race.html\")"
   ],
   "metadata": {
    "collapsed": false,
    "ExecuteTime": {
     "end_time": "2024-03-26T12:46:13.025955500Z",
     "start_time": "2024-03-26T12:45:45.480015900Z"
    }
   },
   "id": "71fa95a93b046ce1",
   "execution_count": 331
  },
  {
   "cell_type": "code",
   "outputs": [
    {
     "name": "stderr",
     "output_type": "stream",
     "text": [
      "D:\\ACER\\Documents\\Data Science\\Turing\\Capstone Projects\\m1_cp\\FatalShooting\\.venv\\lib\\site-packages\\IPython\\core\\display.py:431: UserWarning: Consider using IPython.display.IFrame instead\n",
      "  warnings.warn(\"Consider using IPython.display.IFrame instead\")\n"
     ]
    },
    {
     "data": {
      "text/plain": "<IPython.core.display.HTML object>",
      "text/html": "<iframe src=scaled_deaths_by_race.html width=1000 height=600></iframe>"
     },
     "execution_count": 332,
     "metadata": {},
     "output_type": "execute_result"
    }
   ],
   "source": [
    "from IPython.display import HTML\n",
    "HTML(\"<iframe src=scaled_deaths_by_race.html width=1000 height=600></iframe>\")"
   ],
   "metadata": {
    "collapsed": false,
    "ExecuteTime": {
     "end_time": "2024-03-26T12:46:13.548015400Z",
     "start_time": "2024-03-26T12:46:13.035020100Z"
    }
   },
   "id": "b5c8ec1ccbe41c17",
   "execution_count": 332
  },
  {
   "cell_type": "markdown",
   "source": [
    "# 4. Correlation Analysis\n",
    "\n",
    "Race inequality - Black and Natives(in very specific states)\n",
    "Why certain states have higher fatalities rate?"
   ],
   "metadata": {
    "collapsed": false
   },
   "id": "7ea0b7944ad83100"
  },
  {
   "cell_type": "markdown",
   "source": [
    "## 4.1 Race inequality - Native racial group with unusually high fatality \n",
    "## rate in Vermont\n",
    "\n",
    "**Summary: Hypothesis, native american is a relatively small racial \n",
    "group, so the fatality rate can be falsely high specially in states with an \n",
    "even smaller group of native americans.\n",
    "There is no significant Pearson correlation between population and fatality \n",
    "rate.**\n"
   ],
   "metadata": {
    "collapsed": false
   },
   "id": "52b97f075e464b8"
  },
  {
   "cell_type": "code",
   "outputs": [
    {
     "data": {
      "text/plain": "race                  asian  black  hispanic  native  null  other  white  \\\nstate                                                                      \nAlabama                   0     12         0       0     2      0     30   \nAlaska                    0      1         0       5     1      0      5   \nArizona                   0      4        30       8     5      0     48   \nArkansas                  0      3         0       0     4      0     14   \nCalifornia               14     60       145       0    25      8    103   \nColorado                  2      8        20       1     5      0     28   \nConnecticut               0      0         1       0     1      0      5   \nDelaware                  0      1         0       0     0      0      4   \nDistrict of Columbia      0     10         0       0     0      0      0   \nFlorida                   1     44        16       0     5      2     61   \nGeorgia                   1     20         6       0     5      0     30   \nHawaii                    2      1         0       0     0      7      0   \nIdaho                     0      0         4       0     0      0     10   \nIllinois                  0     32         6       0     0      0     16   \nIndiana                   0     11         2       0     2      0     22   \nIowa                      0      3         0       0     0      0      7   \nKansas                    0      1         3       0     0      0     16   \nKentucky                  0      6         2       0     1      0     30   \nLouisiana                 1     27         0       0     2      0     18   \nMaine                     0      1         0       0     1      1      5   \nMaryland                  0     22         0       0     1      0     10   \nMassachusetts             0      7         5       0     0      0      9   \nMichigan                  0     12         1       0     0      0     18   \nMinnesota                 1      5         1       1     0      2     18   \nMississippi               0      7         0       0     0      0     11   \nMissouri                  0     19         2       0     3      0     29   \nMontana                   0      0         0       0     0      0      9   \nNebraska                  0      3         0       0     0      0     12   \nNevada                    0      5        11       0     3      0     16   \nNew Hampshire             0      0         0       0     0      0      5   \nNew Jersey                1     12         4       0     2      0     10   \nNew Mexico                0      0        26       1     2      0     15   \nNew York                  1     20         3       0     1      0     16   \nNorth Carolina            1     27         2       0     1      0     34   \nNorth Dakota              0      0         0       2     0      0      1   \nOhio                      2     26         0       0     2      2     31   \nOklahoma                  0     14         4       1     7      0     39   \nOregon                    0      3         0       0     2      0     27   \nPennsylvania              0     19         2       0     4      0     19   \nRhode Island              0      1         1       0     0      0      0   \nSouth Carolina            0     13         0       0     0      0     24   \nSouth Dakota              0      0         0       2     0      0      5   \nTennessee                 1      9         2       0     3      1     32   \nTexas                     2     40        56       1     7      3     88   \nUtah                      0      0         2       0     0      1     18   \nVermont                   0      0         0       1     0      0      2   \nVirginia                  1     18         2       0     0      0     17   \nWashington                2      5         5       4     2      1     28   \nWest Virginia             0      3         0       0     3      0     19   \nWisconsin                 0      7         2       0     0      0     22   \nWyoming                   0      0         1       1     1      0      5   \n\nrace                  total  \nstate                        \nAlabama                  44  \nAlaska                   12  \nArizona                  95  \nArkansas                 21  \nCalifornia              355  \nColorado                 64  \nConnecticut               7  \nDelaware                  5  \nDistrict of Columbia     10  \nFlorida                 129  \nGeorgia                  62  \nHawaii                   10  \nIdaho                    14  \nIllinois                 54  \nIndiana                  37  \nIowa                     10  \nKansas                   20  \nKentucky                 39  \nLouisiana                48  \nMaine                     8  \nMaryland                 33  \nMassachusetts            21  \nMichigan                 31  \nMinnesota                28  \nMississippi              18  \nMissouri                 53  \nMontana                   9  \nNebraska                 15  \nNevada                   35  \nNew Hampshire             5  \nNew Jersey               29  \nNew Mexico               44  \nNew York                 41  \nNorth Carolina           65  \nNorth Dakota              3  \nOhio                     63  \nOklahoma                 65  \nOregon                   32  \nPennsylvania             44  \nRhode Island              2  \nSouth Carolina           37  \nSouth Dakota              7  \nTennessee                48  \nTexas                   197  \nUtah                     21  \nVermont                   3  \nVirginia                 38  \nWashington               47  \nWest Virginia            25  \nWisconsin                31  \nWyoming                   8  ",
      "text/html": "<div>\n<style scoped>\n    .dataframe tbody tr th:only-of-type {\n        vertical-align: middle;\n    }\n\n    .dataframe tbody tr th {\n        vertical-align: top;\n    }\n\n    .dataframe thead th {\n        text-align: right;\n    }\n</style>\n<table border=\"1\" class=\"dataframe\">\n  <thead>\n    <tr style=\"text-align: right;\">\n      <th>race</th>\n      <th>asian</th>\n      <th>black</th>\n      <th>hispanic</th>\n      <th>native</th>\n      <th>null</th>\n      <th>other</th>\n      <th>white</th>\n      <th>total</th>\n    </tr>\n    <tr>\n      <th>state</th>\n      <th></th>\n      <th></th>\n      <th></th>\n      <th></th>\n      <th></th>\n      <th></th>\n      <th></th>\n      <th></th>\n    </tr>\n  </thead>\n  <tbody>\n    <tr>\n      <th>Alabama</th>\n      <td>0</td>\n      <td>12</td>\n      <td>0</td>\n      <td>0</td>\n      <td>2</td>\n      <td>0</td>\n      <td>30</td>\n      <td>44</td>\n    </tr>\n    <tr>\n      <th>Alaska</th>\n      <td>0</td>\n      <td>1</td>\n      <td>0</td>\n      <td>5</td>\n      <td>1</td>\n      <td>0</td>\n      <td>5</td>\n      <td>12</td>\n    </tr>\n    <tr>\n      <th>Arizona</th>\n      <td>0</td>\n      <td>4</td>\n      <td>30</td>\n      <td>8</td>\n      <td>5</td>\n      <td>0</td>\n      <td>48</td>\n      <td>95</td>\n    </tr>\n    <tr>\n      <th>Arkansas</th>\n      <td>0</td>\n      <td>3</td>\n      <td>0</td>\n      <td>0</td>\n      <td>4</td>\n      <td>0</td>\n      <td>14</td>\n      <td>21</td>\n    </tr>\n    <tr>\n      <th>California</th>\n      <td>14</td>\n      <td>60</td>\n      <td>145</td>\n      <td>0</td>\n      <td>25</td>\n      <td>8</td>\n      <td>103</td>\n      <td>355</td>\n    </tr>\n    <tr>\n      <th>Colorado</th>\n      <td>2</td>\n      <td>8</td>\n      <td>20</td>\n      <td>1</td>\n      <td>5</td>\n      <td>0</td>\n      <td>28</td>\n      <td>64</td>\n    </tr>\n    <tr>\n      <th>Connecticut</th>\n      <td>0</td>\n      <td>0</td>\n      <td>1</td>\n      <td>0</td>\n      <td>1</td>\n      <td>0</td>\n      <td>5</td>\n      <td>7</td>\n    </tr>\n    <tr>\n      <th>Delaware</th>\n      <td>0</td>\n      <td>1</td>\n      <td>0</td>\n      <td>0</td>\n      <td>0</td>\n      <td>0</td>\n      <td>4</td>\n      <td>5</td>\n    </tr>\n    <tr>\n      <th>District of Columbia</th>\n      <td>0</td>\n      <td>10</td>\n      <td>0</td>\n      <td>0</td>\n      <td>0</td>\n      <td>0</td>\n      <td>0</td>\n      <td>10</td>\n    </tr>\n    <tr>\n      <th>Florida</th>\n      <td>1</td>\n      <td>44</td>\n      <td>16</td>\n      <td>0</td>\n      <td>5</td>\n      <td>2</td>\n      <td>61</td>\n      <td>129</td>\n    </tr>\n    <tr>\n      <th>Georgia</th>\n      <td>1</td>\n      <td>20</td>\n      <td>6</td>\n      <td>0</td>\n      <td>5</td>\n      <td>0</td>\n      <td>30</td>\n      <td>62</td>\n    </tr>\n    <tr>\n      <th>Hawaii</th>\n      <td>2</td>\n      <td>1</td>\n      <td>0</td>\n      <td>0</td>\n      <td>0</td>\n      <td>7</td>\n      <td>0</td>\n      <td>10</td>\n    </tr>\n    <tr>\n      <th>Idaho</th>\n      <td>0</td>\n      <td>0</td>\n      <td>4</td>\n      <td>0</td>\n      <td>0</td>\n      <td>0</td>\n      <td>10</td>\n      <td>14</td>\n    </tr>\n    <tr>\n      <th>Illinois</th>\n      <td>0</td>\n      <td>32</td>\n      <td>6</td>\n      <td>0</td>\n      <td>0</td>\n      <td>0</td>\n      <td>16</td>\n      <td>54</td>\n    </tr>\n    <tr>\n      <th>Indiana</th>\n      <td>0</td>\n      <td>11</td>\n      <td>2</td>\n      <td>0</td>\n      <td>2</td>\n      <td>0</td>\n      <td>22</td>\n      <td>37</td>\n    </tr>\n    <tr>\n      <th>Iowa</th>\n      <td>0</td>\n      <td>3</td>\n      <td>0</td>\n      <td>0</td>\n      <td>0</td>\n      <td>0</td>\n      <td>7</td>\n      <td>10</td>\n    </tr>\n    <tr>\n      <th>Kansas</th>\n      <td>0</td>\n      <td>1</td>\n      <td>3</td>\n      <td>0</td>\n      <td>0</td>\n      <td>0</td>\n      <td>16</td>\n      <td>20</td>\n    </tr>\n    <tr>\n      <th>Kentucky</th>\n      <td>0</td>\n      <td>6</td>\n      <td>2</td>\n      <td>0</td>\n      <td>1</td>\n      <td>0</td>\n      <td>30</td>\n      <td>39</td>\n    </tr>\n    <tr>\n      <th>Louisiana</th>\n      <td>1</td>\n      <td>27</td>\n      <td>0</td>\n      <td>0</td>\n      <td>2</td>\n      <td>0</td>\n      <td>18</td>\n      <td>48</td>\n    </tr>\n    <tr>\n      <th>Maine</th>\n      <td>0</td>\n      <td>1</td>\n      <td>0</td>\n      <td>0</td>\n      <td>1</td>\n      <td>1</td>\n      <td>5</td>\n      <td>8</td>\n    </tr>\n    <tr>\n      <th>Maryland</th>\n      <td>0</td>\n      <td>22</td>\n      <td>0</td>\n      <td>0</td>\n      <td>1</td>\n      <td>0</td>\n      <td>10</td>\n      <td>33</td>\n    </tr>\n    <tr>\n      <th>Massachusetts</th>\n      <td>0</td>\n      <td>7</td>\n      <td>5</td>\n      <td>0</td>\n      <td>0</td>\n      <td>0</td>\n      <td>9</td>\n      <td>21</td>\n    </tr>\n    <tr>\n      <th>Michigan</th>\n      <td>0</td>\n      <td>12</td>\n      <td>1</td>\n      <td>0</td>\n      <td>0</td>\n      <td>0</td>\n      <td>18</td>\n      <td>31</td>\n    </tr>\n    <tr>\n      <th>Minnesota</th>\n      <td>1</td>\n      <td>5</td>\n      <td>1</td>\n      <td>1</td>\n      <td>0</td>\n      <td>2</td>\n      <td>18</td>\n      <td>28</td>\n    </tr>\n    <tr>\n      <th>Mississippi</th>\n      <td>0</td>\n      <td>7</td>\n      <td>0</td>\n      <td>0</td>\n      <td>0</td>\n      <td>0</td>\n      <td>11</td>\n      <td>18</td>\n    </tr>\n    <tr>\n      <th>Missouri</th>\n      <td>0</td>\n      <td>19</td>\n      <td>2</td>\n      <td>0</td>\n      <td>3</td>\n      <td>0</td>\n      <td>29</td>\n      <td>53</td>\n    </tr>\n    <tr>\n      <th>Montana</th>\n      <td>0</td>\n      <td>0</td>\n      <td>0</td>\n      <td>0</td>\n      <td>0</td>\n      <td>0</td>\n      <td>9</td>\n      <td>9</td>\n    </tr>\n    <tr>\n      <th>Nebraska</th>\n      <td>0</td>\n      <td>3</td>\n      <td>0</td>\n      <td>0</td>\n      <td>0</td>\n      <td>0</td>\n      <td>12</td>\n      <td>15</td>\n    </tr>\n    <tr>\n      <th>Nevada</th>\n      <td>0</td>\n      <td>5</td>\n      <td>11</td>\n      <td>0</td>\n      <td>3</td>\n      <td>0</td>\n      <td>16</td>\n      <td>35</td>\n    </tr>\n    <tr>\n      <th>New Hampshire</th>\n      <td>0</td>\n      <td>0</td>\n      <td>0</td>\n      <td>0</td>\n      <td>0</td>\n      <td>0</td>\n      <td>5</td>\n      <td>5</td>\n    </tr>\n    <tr>\n      <th>New Jersey</th>\n      <td>1</td>\n      <td>12</td>\n      <td>4</td>\n      <td>0</td>\n      <td>2</td>\n      <td>0</td>\n      <td>10</td>\n      <td>29</td>\n    </tr>\n    <tr>\n      <th>New Mexico</th>\n      <td>0</td>\n      <td>0</td>\n      <td>26</td>\n      <td>1</td>\n      <td>2</td>\n      <td>0</td>\n      <td>15</td>\n      <td>44</td>\n    </tr>\n    <tr>\n      <th>New York</th>\n      <td>1</td>\n      <td>20</td>\n      <td>3</td>\n      <td>0</td>\n      <td>1</td>\n      <td>0</td>\n      <td>16</td>\n      <td>41</td>\n    </tr>\n    <tr>\n      <th>North Carolina</th>\n      <td>1</td>\n      <td>27</td>\n      <td>2</td>\n      <td>0</td>\n      <td>1</td>\n      <td>0</td>\n      <td>34</td>\n      <td>65</td>\n    </tr>\n    <tr>\n      <th>North Dakota</th>\n      <td>0</td>\n      <td>0</td>\n      <td>0</td>\n      <td>2</td>\n      <td>0</td>\n      <td>0</td>\n      <td>1</td>\n      <td>3</td>\n    </tr>\n    <tr>\n      <th>Ohio</th>\n      <td>2</td>\n      <td>26</td>\n      <td>0</td>\n      <td>0</td>\n      <td>2</td>\n      <td>2</td>\n      <td>31</td>\n      <td>63</td>\n    </tr>\n    <tr>\n      <th>Oklahoma</th>\n      <td>0</td>\n      <td>14</td>\n      <td>4</td>\n      <td>1</td>\n      <td>7</td>\n      <td>0</td>\n      <td>39</td>\n      <td>65</td>\n    </tr>\n    <tr>\n      <th>Oregon</th>\n      <td>0</td>\n      <td>3</td>\n      <td>0</td>\n      <td>0</td>\n      <td>2</td>\n      <td>0</td>\n      <td>27</td>\n      <td>32</td>\n    </tr>\n    <tr>\n      <th>Pennsylvania</th>\n      <td>0</td>\n      <td>19</td>\n      <td>2</td>\n      <td>0</td>\n      <td>4</td>\n      <td>0</td>\n      <td>19</td>\n      <td>44</td>\n    </tr>\n    <tr>\n      <th>Rhode Island</th>\n      <td>0</td>\n      <td>1</td>\n      <td>1</td>\n      <td>0</td>\n      <td>0</td>\n      <td>0</td>\n      <td>0</td>\n      <td>2</td>\n    </tr>\n    <tr>\n      <th>South Carolina</th>\n      <td>0</td>\n      <td>13</td>\n      <td>0</td>\n      <td>0</td>\n      <td>0</td>\n      <td>0</td>\n      <td>24</td>\n      <td>37</td>\n    </tr>\n    <tr>\n      <th>South Dakota</th>\n      <td>0</td>\n      <td>0</td>\n      <td>0</td>\n      <td>2</td>\n      <td>0</td>\n      <td>0</td>\n      <td>5</td>\n      <td>7</td>\n    </tr>\n    <tr>\n      <th>Tennessee</th>\n      <td>1</td>\n      <td>9</td>\n      <td>2</td>\n      <td>0</td>\n      <td>3</td>\n      <td>1</td>\n      <td>32</td>\n      <td>48</td>\n    </tr>\n    <tr>\n      <th>Texas</th>\n      <td>2</td>\n      <td>40</td>\n      <td>56</td>\n      <td>1</td>\n      <td>7</td>\n      <td>3</td>\n      <td>88</td>\n      <td>197</td>\n    </tr>\n    <tr>\n      <th>Utah</th>\n      <td>0</td>\n      <td>0</td>\n      <td>2</td>\n      <td>0</td>\n      <td>0</td>\n      <td>1</td>\n      <td>18</td>\n      <td>21</td>\n    </tr>\n    <tr>\n      <th>Vermont</th>\n      <td>0</td>\n      <td>0</td>\n      <td>0</td>\n      <td>1</td>\n      <td>0</td>\n      <td>0</td>\n      <td>2</td>\n      <td>3</td>\n    </tr>\n    <tr>\n      <th>Virginia</th>\n      <td>1</td>\n      <td>18</td>\n      <td>2</td>\n      <td>0</td>\n      <td>0</td>\n      <td>0</td>\n      <td>17</td>\n      <td>38</td>\n    </tr>\n    <tr>\n      <th>Washington</th>\n      <td>2</td>\n      <td>5</td>\n      <td>5</td>\n      <td>4</td>\n      <td>2</td>\n      <td>1</td>\n      <td>28</td>\n      <td>47</td>\n    </tr>\n    <tr>\n      <th>West Virginia</th>\n      <td>0</td>\n      <td>3</td>\n      <td>0</td>\n      <td>0</td>\n      <td>3</td>\n      <td>0</td>\n      <td>19</td>\n      <td>25</td>\n    </tr>\n    <tr>\n      <th>Wisconsin</th>\n      <td>0</td>\n      <td>7</td>\n      <td>2</td>\n      <td>0</td>\n      <td>0</td>\n      <td>0</td>\n      <td>22</td>\n      <td>31</td>\n    </tr>\n    <tr>\n      <th>Wyoming</th>\n      <td>0</td>\n      <td>0</td>\n      <td>1</td>\n      <td>1</td>\n      <td>1</td>\n      <td>0</td>\n      <td>5</td>\n      <td>8</td>\n    </tr>\n  </tbody>\n</table>\n</div>"
     },
     "execution_count": 333,
     "metadata": {},
     "output_type": "execute_result"
    }
   ],
   "source": [
    "pivot"
   ],
   "metadata": {
    "collapsed": false,
    "ExecuteTime": {
     "end_time": "2024-03-26T12:46:13.742847900Z",
     "start_time": "2024-03-26T12:46:13.077853300Z"
    }
   },
   "id": "53938f18ec63f632",
   "execution_count": 333
  },
  {
   "cell_type": "code",
   "outputs": [
    {
     "data": {
      "text/plain": "race                 state  total  white  black  asian  hispanic  native\n0                  Alabama   8.76   9.46   9.32   0.00      0.00    0.00\n1                   Alaska  16.36  11.86  48.24   0.00      0.00   41.22\n2                  Arizona  13.28  12.58  12.61   0.00     13.68   28.75\n3                 Arkansas   6.97   6.78   6.67   0.00      0.00    0.00\n4               California   8.98   7.51  28.31   2.34      9.31    0.00\n5                 Colorado  11.08   7.45  36.15  10.24     15.83   23.38\n6              Connecticut   1.94   2.19   0.00   0.00      1.60    0.00\n7                 Delaware   5.05   6.90   4.70   0.00      0.00    0.00\n8     District of Columbia  14.50   0.00  35.45   0.00      0.00    0.00\n9                  Florida   5.99   5.50  14.07   1.59      2.81    0.00\n10                 Georgia   5.79   5.59   6.10   2.10      5.34    0.00\n11                  Hawaii   6.87   0.00  45.71   3.76      0.00    0.00\n12                   Idaho   7.61   6.89   0.00   0.00     16.71    0.00\n13                Illinois   4.21   2.14  18.02   0.00      2.57    0.00\n14                 Indiana   5.45   4.30  17.25   0.00      3.61    0.00\n15                    Iowa   3.13   2.65  23.20   0.00      0.00    0.00\n16                  Kansas   6.81   7.54   6.12   0.00      7.84    0.00\n17                Kentucky   8.66   8.19  16.77   0.00      9.62    0.00\n18               Louisiana  10.31   6.93  18.59  11.72      0.00    0.00\n19                   Maine   5.87   4.07  39.82   0.00      0.00    0.00\n20                Maryland   5.34   3.43  12.26   0.00      0.00    0.00\n21           Massachusetts   2.99   1.90  15.32   0.00      5.63    0.00\n22                Michigan   3.08   2.47   8.83   0.00      1.77    0.00\n23               Minnesota   4.91   4.13  12.73   3.36      2.89   16.76\n24             Mississippi   6.08   6.71   6.49   0.00      0.00    0.00\n25                Missouri   8.61   6.22  27.43   0.00      6.60    0.00\n26                 Montana   8.30   9.99   0.00   0.00      0.00    0.00\n27                Nebraska   7.65   8.08  31.78   0.00      0.00    0.00\n28                  Nevada  11.27  11.22  17.13   0.00     12.36    0.00\n29           New Hampshire   3.63   4.16   0.00   0.00      0.00    0.00\n30              New Jersey   3.12   2.08  10.40   1.06      2.00    0.00\n31              New Mexico  20.78  19.41   0.00   0.00     25.72    5.26\n32                New York   2.03   1.51   7.25   0.52      0.76    0.00\n33          North Carolina   6.23   5.39  12.81   2.94      1.79    0.00\n34            North Dakota   3.85   1.57   0.00   0.00      0.00   52.33\n35                    Ohio   5.34   3.46  17.84   6.74      0.00    0.00\n36                Oklahoma  16.42  16.20  49.43   0.00      8.48    3.12\n37                  Oregon   7.55   8.89  38.14   0.00      0.00    0.00\n38            Pennsylvania   3.38   1.99  13.88   0.00      1.91    0.00\n39            Rhode Island   1.82   0.00  18.06   0.00      5.49    0.00\n40          South Carolina   7.23   7.55  10.24   0.00      0.00    0.00\n41            South Dakota   7.89   7.09   0.00   0.00      0.00   26.64\n42               Tennessee   6.95   6.53   8.30   7.45      4.17    0.00\n43                   Texas   6.76   7.60  11.61   1.28      4.89    8.83\n44                    Utah   6.42   7.30   0.00   0.00      4.06    0.00\n45                 Vermont   4.67   3.49   0.00   0.00      0.00  463.82\n46                Virginia   4.40   3.36  11.41   1.64      2.20    0.00\n47              Washington   6.10   5.69  16.88   2.77      4.72   26.03\n48           West Virginia  13.94  11.88  46.33   0.00      0.00    0.00\n49               Wisconsin   5.26   4.75  19.10   0.00      4.47    0.00\n50                 Wyoming  13.87  10.65   0.00   0.00     16.94   81.50",
      "text/html": "<div>\n<style scoped>\n    .dataframe tbody tr th:only-of-type {\n        vertical-align: middle;\n    }\n\n    .dataframe tbody tr th {\n        vertical-align: top;\n    }\n\n    .dataframe thead th {\n        text-align: right;\n    }\n</style>\n<table border=\"1\" class=\"dataframe\">\n  <thead>\n    <tr style=\"text-align: right;\">\n      <th>race</th>\n      <th>state</th>\n      <th>total</th>\n      <th>white</th>\n      <th>black</th>\n      <th>asian</th>\n      <th>hispanic</th>\n      <th>native</th>\n    </tr>\n  </thead>\n  <tbody>\n    <tr>\n      <th>0</th>\n      <td>Alabama</td>\n      <td>8.76</td>\n      <td>9.46</td>\n      <td>9.32</td>\n      <td>0.00</td>\n      <td>0.00</td>\n      <td>0.00</td>\n    </tr>\n    <tr>\n      <th>1</th>\n      <td>Alaska</td>\n      <td>16.36</td>\n      <td>11.86</td>\n      <td>48.24</td>\n      <td>0.00</td>\n      <td>0.00</td>\n      <td>41.22</td>\n    </tr>\n    <tr>\n      <th>2</th>\n      <td>Arizona</td>\n      <td>13.28</td>\n      <td>12.58</td>\n      <td>12.61</td>\n      <td>0.00</td>\n      <td>13.68</td>\n      <td>28.75</td>\n    </tr>\n    <tr>\n      <th>3</th>\n      <td>Arkansas</td>\n      <td>6.97</td>\n      <td>6.78</td>\n      <td>6.67</td>\n      <td>0.00</td>\n      <td>0.00</td>\n      <td>0.00</td>\n    </tr>\n    <tr>\n      <th>4</th>\n      <td>California</td>\n      <td>8.98</td>\n      <td>7.51</td>\n      <td>28.31</td>\n      <td>2.34</td>\n      <td>9.31</td>\n      <td>0.00</td>\n    </tr>\n    <tr>\n      <th>5</th>\n      <td>Colorado</td>\n      <td>11.08</td>\n      <td>7.45</td>\n      <td>36.15</td>\n      <td>10.24</td>\n      <td>15.83</td>\n      <td>23.38</td>\n    </tr>\n    <tr>\n      <th>6</th>\n      <td>Connecticut</td>\n      <td>1.94</td>\n      <td>2.19</td>\n      <td>0.00</td>\n      <td>0.00</td>\n      <td>1.60</td>\n      <td>0.00</td>\n    </tr>\n    <tr>\n      <th>7</th>\n      <td>Delaware</td>\n      <td>5.05</td>\n      <td>6.90</td>\n      <td>4.70</td>\n      <td>0.00</td>\n      <td>0.00</td>\n      <td>0.00</td>\n    </tr>\n    <tr>\n      <th>8</th>\n      <td>District of Columbia</td>\n      <td>14.50</td>\n      <td>0.00</td>\n      <td>35.45</td>\n      <td>0.00</td>\n      <td>0.00</td>\n      <td>0.00</td>\n    </tr>\n    <tr>\n      <th>9</th>\n      <td>Florida</td>\n      <td>5.99</td>\n      <td>5.50</td>\n      <td>14.07</td>\n      <td>1.59</td>\n      <td>2.81</td>\n      <td>0.00</td>\n    </tr>\n    <tr>\n      <th>10</th>\n      <td>Georgia</td>\n      <td>5.79</td>\n      <td>5.59</td>\n      <td>6.10</td>\n      <td>2.10</td>\n      <td>5.34</td>\n      <td>0.00</td>\n    </tr>\n    <tr>\n      <th>11</th>\n      <td>Hawaii</td>\n      <td>6.87</td>\n      <td>0.00</td>\n      <td>45.71</td>\n      <td>3.76</td>\n      <td>0.00</td>\n      <td>0.00</td>\n    </tr>\n    <tr>\n      <th>12</th>\n      <td>Idaho</td>\n      <td>7.61</td>\n      <td>6.89</td>\n      <td>0.00</td>\n      <td>0.00</td>\n      <td>16.71</td>\n      <td>0.00</td>\n    </tr>\n    <tr>\n      <th>13</th>\n      <td>Illinois</td>\n      <td>4.21</td>\n      <td>2.14</td>\n      <td>18.02</td>\n      <td>0.00</td>\n      <td>2.57</td>\n      <td>0.00</td>\n    </tr>\n    <tr>\n      <th>14</th>\n      <td>Indiana</td>\n      <td>5.45</td>\n      <td>4.30</td>\n      <td>17.25</td>\n      <td>0.00</td>\n      <td>3.61</td>\n      <td>0.00</td>\n    </tr>\n    <tr>\n      <th>15</th>\n      <td>Iowa</td>\n      <td>3.13</td>\n      <td>2.65</td>\n      <td>23.20</td>\n      <td>0.00</td>\n      <td>0.00</td>\n      <td>0.00</td>\n    </tr>\n    <tr>\n      <th>16</th>\n      <td>Kansas</td>\n      <td>6.81</td>\n      <td>7.54</td>\n      <td>6.12</td>\n      <td>0.00</td>\n      <td>7.84</td>\n      <td>0.00</td>\n    </tr>\n    <tr>\n      <th>17</th>\n      <td>Kentucky</td>\n      <td>8.66</td>\n      <td>8.19</td>\n      <td>16.77</td>\n      <td>0.00</td>\n      <td>9.62</td>\n      <td>0.00</td>\n    </tr>\n    <tr>\n      <th>18</th>\n      <td>Louisiana</td>\n      <td>10.31</td>\n      <td>6.93</td>\n      <td>18.59</td>\n      <td>11.72</td>\n      <td>0.00</td>\n      <td>0.00</td>\n    </tr>\n    <tr>\n      <th>19</th>\n      <td>Maine</td>\n      <td>5.87</td>\n      <td>4.07</td>\n      <td>39.82</td>\n      <td>0.00</td>\n      <td>0.00</td>\n      <td>0.00</td>\n    </tr>\n    <tr>\n      <th>20</th>\n      <td>Maryland</td>\n      <td>5.34</td>\n      <td>3.43</td>\n      <td>12.26</td>\n      <td>0.00</td>\n      <td>0.00</td>\n      <td>0.00</td>\n    </tr>\n    <tr>\n      <th>21</th>\n      <td>Massachusetts</td>\n      <td>2.99</td>\n      <td>1.90</td>\n      <td>15.32</td>\n      <td>0.00</td>\n      <td>5.63</td>\n      <td>0.00</td>\n    </tr>\n    <tr>\n      <th>22</th>\n      <td>Michigan</td>\n      <td>3.08</td>\n      <td>2.47</td>\n      <td>8.83</td>\n      <td>0.00</td>\n      <td>1.77</td>\n      <td>0.00</td>\n    </tr>\n    <tr>\n      <th>23</th>\n      <td>Minnesota</td>\n      <td>4.91</td>\n      <td>4.13</td>\n      <td>12.73</td>\n      <td>3.36</td>\n      <td>2.89</td>\n      <td>16.76</td>\n    </tr>\n    <tr>\n      <th>24</th>\n      <td>Mississippi</td>\n      <td>6.08</td>\n      <td>6.71</td>\n      <td>6.49</td>\n      <td>0.00</td>\n      <td>0.00</td>\n      <td>0.00</td>\n    </tr>\n    <tr>\n      <th>25</th>\n      <td>Missouri</td>\n      <td>8.61</td>\n      <td>6.22</td>\n      <td>27.43</td>\n      <td>0.00</td>\n      <td>6.60</td>\n      <td>0.00</td>\n    </tr>\n    <tr>\n      <th>26</th>\n      <td>Montana</td>\n      <td>8.30</td>\n      <td>9.99</td>\n      <td>0.00</td>\n      <td>0.00</td>\n      <td>0.00</td>\n      <td>0.00</td>\n    </tr>\n    <tr>\n      <th>27</th>\n      <td>Nebraska</td>\n      <td>7.65</td>\n      <td>8.08</td>\n      <td>31.78</td>\n      <td>0.00</td>\n      <td>0.00</td>\n      <td>0.00</td>\n    </tr>\n    <tr>\n      <th>28</th>\n      <td>Nevada</td>\n      <td>11.27</td>\n      <td>11.22</td>\n      <td>17.13</td>\n      <td>0.00</td>\n      <td>12.36</td>\n      <td>0.00</td>\n    </tr>\n    <tr>\n      <th>29</th>\n      <td>New Hampshire</td>\n      <td>3.63</td>\n      <td>4.16</td>\n      <td>0.00</td>\n      <td>0.00</td>\n      <td>0.00</td>\n      <td>0.00</td>\n    </tr>\n    <tr>\n      <th>30</th>\n      <td>New Jersey</td>\n      <td>3.12</td>\n      <td>2.08</td>\n      <td>10.40</td>\n      <td>1.06</td>\n      <td>2.00</td>\n      <td>0.00</td>\n    </tr>\n    <tr>\n      <th>31</th>\n      <td>New Mexico</td>\n      <td>20.78</td>\n      <td>19.41</td>\n      <td>0.00</td>\n      <td>0.00</td>\n      <td>25.72</td>\n      <td>5.26</td>\n    </tr>\n    <tr>\n      <th>32</th>\n      <td>New York</td>\n      <td>2.03</td>\n      <td>1.51</td>\n      <td>7.25</td>\n      <td>0.52</td>\n      <td>0.76</td>\n      <td>0.00</td>\n    </tr>\n    <tr>\n      <th>33</th>\n      <td>North Carolina</td>\n      <td>6.23</td>\n      <td>5.39</td>\n      <td>12.81</td>\n      <td>2.94</td>\n      <td>1.79</td>\n      <td>0.00</td>\n    </tr>\n    <tr>\n      <th>34</th>\n      <td>North Dakota</td>\n      <td>3.85</td>\n      <td>1.57</td>\n      <td>0.00</td>\n      <td>0.00</td>\n      <td>0.00</td>\n      <td>52.33</td>\n    </tr>\n    <tr>\n      <th>35</th>\n      <td>Ohio</td>\n      <td>5.34</td>\n      <td>3.46</td>\n      <td>17.84</td>\n      <td>6.74</td>\n      <td>0.00</td>\n      <td>0.00</td>\n    </tr>\n    <tr>\n      <th>36</th>\n      <td>Oklahoma</td>\n      <td>16.42</td>\n      <td>16.20</td>\n      <td>49.43</td>\n      <td>0.00</td>\n      <td>8.48</td>\n      <td>3.12</td>\n    </tr>\n    <tr>\n      <th>37</th>\n      <td>Oregon</td>\n      <td>7.55</td>\n      <td>8.89</td>\n      <td>38.14</td>\n      <td>0.00</td>\n      <td>0.00</td>\n      <td>0.00</td>\n    </tr>\n    <tr>\n      <th>38</th>\n      <td>Pennsylvania</td>\n      <td>3.38</td>\n      <td>1.99</td>\n      <td>13.88</td>\n      <td>0.00</td>\n      <td>1.91</td>\n      <td>0.00</td>\n    </tr>\n    <tr>\n      <th>39</th>\n      <td>Rhode Island</td>\n      <td>1.82</td>\n      <td>0.00</td>\n      <td>18.06</td>\n      <td>0.00</td>\n      <td>5.49</td>\n      <td>0.00</td>\n    </tr>\n    <tr>\n      <th>40</th>\n      <td>South Carolina</td>\n      <td>7.23</td>\n      <td>7.55</td>\n      <td>10.24</td>\n      <td>0.00</td>\n      <td>0.00</td>\n      <td>0.00</td>\n    </tr>\n    <tr>\n      <th>41</th>\n      <td>South Dakota</td>\n      <td>7.89</td>\n      <td>7.09</td>\n      <td>0.00</td>\n      <td>0.00</td>\n      <td>0.00</td>\n      <td>26.64</td>\n    </tr>\n    <tr>\n      <th>42</th>\n      <td>Tennessee</td>\n      <td>6.95</td>\n      <td>6.53</td>\n      <td>8.30</td>\n      <td>7.45</td>\n      <td>4.17</td>\n      <td>0.00</td>\n    </tr>\n    <tr>\n      <th>43</th>\n      <td>Texas</td>\n      <td>6.76</td>\n      <td>7.60</td>\n      <td>11.61</td>\n      <td>1.28</td>\n      <td>4.89</td>\n      <td>8.83</td>\n    </tr>\n    <tr>\n      <th>44</th>\n      <td>Utah</td>\n      <td>6.42</td>\n      <td>7.30</td>\n      <td>0.00</td>\n      <td>0.00</td>\n      <td>4.06</td>\n      <td>0.00</td>\n    </tr>\n    <tr>\n      <th>45</th>\n      <td>Vermont</td>\n      <td>4.67</td>\n      <td>3.49</td>\n      <td>0.00</td>\n      <td>0.00</td>\n      <td>0.00</td>\n      <td>463.82</td>\n    </tr>\n    <tr>\n      <th>46</th>\n      <td>Virginia</td>\n      <td>4.40</td>\n      <td>3.36</td>\n      <td>11.41</td>\n      <td>1.64</td>\n      <td>2.20</td>\n      <td>0.00</td>\n    </tr>\n    <tr>\n      <th>47</th>\n      <td>Washington</td>\n      <td>6.10</td>\n      <td>5.69</td>\n      <td>16.88</td>\n      <td>2.77</td>\n      <td>4.72</td>\n      <td>26.03</td>\n    </tr>\n    <tr>\n      <th>48</th>\n      <td>West Virginia</td>\n      <td>13.94</td>\n      <td>11.88</td>\n      <td>46.33</td>\n      <td>0.00</td>\n      <td>0.00</td>\n      <td>0.00</td>\n    </tr>\n    <tr>\n      <th>49</th>\n      <td>Wisconsin</td>\n      <td>5.26</td>\n      <td>4.75</td>\n      <td>19.10</td>\n      <td>0.00</td>\n      <td>4.47</td>\n      <td>0.00</td>\n    </tr>\n    <tr>\n      <th>50</th>\n      <td>Wyoming</td>\n      <td>13.87</td>\n      <td>10.65</td>\n      <td>0.00</td>\n      <td>0.00</td>\n      <td>16.94</td>\n      <td>81.50</td>\n    </tr>\n  </tbody>\n</table>\n</div>"
     },
     "execution_count": 334,
     "metadata": {},
     "output_type": "execute_result"
    }
   ],
   "source": [
    "shootings_scaled_by_population"
   ],
   "metadata": {
    "collapsed": false,
    "ExecuteTime": {
     "end_time": "2024-03-26T12:46:13.958105400Z",
     "start_time": "2024-03-26T12:46:13.156596Z"
    }
   },
   "id": "2c393e5e3a1fec92",
   "execution_count": 334
  },
  {
   "cell_type": "code",
   "outputs": [
    {
     "data": {
      "text/plain": "                         total  not hispanic     white    black    asian  \\\nstate                                                                      \nAlabama                5024279       4760232   3171351  1288159    75918   \nAlaska                  733391        683567    421758    20731    43449   \nArizona                7151502       4959249   3816547   317161   248837   \nArkansas               3011524       2754677   2063550   449884    51210   \nCalifornia            39538223      23958571  13714587  2119286  5978795   \nColorado               5773714       4510324   3760663   221310   195220   \nConnecticut            3605944       2982651   2279232   360937   170459   \nDelaware                989948        885658    579851   212960    42398   \nDistrict of Columbia    689545        611893    261771   282066    33192   \nFlorida               21538187      15840947  11100503  3127052   629626   \nGeorgia               10711908       9588451   5362156  3278119   475680   \nHawaii                 1455271       1316348    314365    21877   531558   \nIdaho                  1839106       1599699   1450523    14785    26036   \nIllinois              12812508      10475098   7472751  1775612   747280   \nIndiana                6785528       6231337   5121004   637500   166651   \nIowa                   3190369       2974383   2638201   129321    75017   \nKansas                 2937880       2555277   2122575   163352    85225   \nKentucky               4505836       4297982   3664764   357764    73843   \nLouisiana              4657757       4335208   2596702  1452420    85336   \nMaine                  1362359       1335750   1228264    25115    16668   \nMaryland               6177224       5447479   2913782  1795027   417962   \nMassachusetts          7029917       6142232   4748897   457055   504900   \nMichigan              10077331       9512909   7295651  1358458   332288   \nMinnesota              5706494       5360854   4353880   392850   297460   \nMississippi            2961279       2856059   1639077  1079001    32305   \nMissouri               6154913       5851845   4663907   692774   132158   \nMontana                1084225       1039026    901318     5077     8077   \nNebraska               1961504       1726789   1484687    94405    52359   \nNevada                 3104614       2214357   1425952   291960   265991   \nNew Hampshire          1377529       1318075   1200649    18655    35604   \nNew Jersey             9288994       7286419   4816381  1154142   942921   \nNew Mexico             2117522       1106711    772952    38330    35261   \nNew York              20201249      16253217  10598907  2759022  1916329   \nNorth Carolina        10439388       9320792   6312148  2107526   340059   \nNorth Dakota            779094        745682    636160    26152    13050   \nOhio                  11799448      11278140   8954135  1457180   296604   \nOklahoma               3959353       3487422   2407188   283242    89653   \nOregon                 4237256       3648499   3036158    78658   191797   \nPennsylvania          13002700      11953085   9553417  1368978   506674   \nRhode Island           1097379        915278    754050    55386    38367   \nSouth Carolina         5118425       4765587   3178552  1269031    89394   \nSouth Dakota            886667        847926    705583    17441    13332   \nTennessee              6910840       6431653   4900246  1083772   134302   \nTexas                 29145505      17703788  11584597  3444712  1561518   \nUtah                   3271616       2778704   2465355    37192    78618   \nVermont                 643077        627573    573201     8649    11457   \nVirginia               8631393       7722644   5058363  1578090   610612   \nWashington             7705281       6646068   4918820   296170   723062   \nWest Virginia          1793716       1758889   1598834    64749    14903   \nWisconsin              5893718       5446428   4634018   366508   174267   \nWyoming                 576851        517805    469664     4735     5037   \n\n                      hispanic  native  \nstate                                   \nAlabama                 264047   25731  \nAlaska                   49824  121293  \nArizona                2192253  278253  \nArkansas                256847   34829  \nCalifornia            15579652  294252  \nColorado               1263390   42773  \nConnecticut             623293    7378  \nDelaware                104290    2825  \nDistrict of Columbia     77652    1626  \nFlorida                5697240   53690  \nGeorgia                1123457   26476  \nHawaii                  138923  151375  \nIdaho                   239407   22304  \nIllinois               2337410   19520  \nIndiana                 554191   15699  \nIowa                    215986   14684  \nKansas                  382603   25036  \nKentucky                207854   11542  \nLouisiana               322549   27700  \nMaine                    26609    7700  \nMaryland                729745   14630  \nMassachusetts           887685   10994  \nMichigan                564422   50009  \nMinnesota               345640   59667  \nMississippi             105220   15056  \nMissouri                303068   32789  \nMontana                  45199   65431  \nNebraska                234715   16369  \nNevada                  890257   46362  \nNew Hampshire            59454    2687  \nNew Jersey             2002575   13150  \nNew Mexico             1010811  190061  \nNew York               3948032   61005  \nNorth Carolina         1118596  107866  \nNorth Dakota             33412   38219  \nOhio                    521308   23442  \nOklahoma                471931  320058  \nOregon                  588757   60239  \nPennsylvania           1049615   18190  \nRhode Island            182101    3833  \nSouth Carolina          352838   19676  \nSouth Dakota             38741   75088  \nTennessee               479187   19133  \nTexas                 11441717  113282  \nUtah                    492912   64521  \nVermont                  15504    2156  \nVirginia                908749   25275  \nWashington             1059213  153681  \nWest Virginia            34827    3616  \nWisconsin               447290   50276  \nWyoming                  59046   12270  ",
      "text/html": "<div>\n<style scoped>\n    .dataframe tbody tr th:only-of-type {\n        vertical-align: middle;\n    }\n\n    .dataframe tbody tr th {\n        vertical-align: top;\n    }\n\n    .dataframe thead th {\n        text-align: right;\n    }\n</style>\n<table border=\"1\" class=\"dataframe\">\n  <thead>\n    <tr style=\"text-align: right;\">\n      <th></th>\n      <th>total</th>\n      <th>not hispanic</th>\n      <th>white</th>\n      <th>black</th>\n      <th>asian</th>\n      <th>hispanic</th>\n      <th>native</th>\n    </tr>\n    <tr>\n      <th>state</th>\n      <th></th>\n      <th></th>\n      <th></th>\n      <th></th>\n      <th></th>\n      <th></th>\n      <th></th>\n    </tr>\n  </thead>\n  <tbody>\n    <tr>\n      <th>Alabama</th>\n      <td>5024279</td>\n      <td>4760232</td>\n      <td>3171351</td>\n      <td>1288159</td>\n      <td>75918</td>\n      <td>264047</td>\n      <td>25731</td>\n    </tr>\n    <tr>\n      <th>Alaska</th>\n      <td>733391</td>\n      <td>683567</td>\n      <td>421758</td>\n      <td>20731</td>\n      <td>43449</td>\n      <td>49824</td>\n      <td>121293</td>\n    </tr>\n    <tr>\n      <th>Arizona</th>\n      <td>7151502</td>\n      <td>4959249</td>\n      <td>3816547</td>\n      <td>317161</td>\n      <td>248837</td>\n      <td>2192253</td>\n      <td>278253</td>\n    </tr>\n    <tr>\n      <th>Arkansas</th>\n      <td>3011524</td>\n      <td>2754677</td>\n      <td>2063550</td>\n      <td>449884</td>\n      <td>51210</td>\n      <td>256847</td>\n      <td>34829</td>\n    </tr>\n    <tr>\n      <th>California</th>\n      <td>39538223</td>\n      <td>23958571</td>\n      <td>13714587</td>\n      <td>2119286</td>\n      <td>5978795</td>\n      <td>15579652</td>\n      <td>294252</td>\n    </tr>\n    <tr>\n      <th>Colorado</th>\n      <td>5773714</td>\n      <td>4510324</td>\n      <td>3760663</td>\n      <td>221310</td>\n      <td>195220</td>\n      <td>1263390</td>\n      <td>42773</td>\n    </tr>\n    <tr>\n      <th>Connecticut</th>\n      <td>3605944</td>\n      <td>2982651</td>\n      <td>2279232</td>\n      <td>360937</td>\n      <td>170459</td>\n      <td>623293</td>\n      <td>7378</td>\n    </tr>\n    <tr>\n      <th>Delaware</th>\n      <td>989948</td>\n      <td>885658</td>\n      <td>579851</td>\n      <td>212960</td>\n      <td>42398</td>\n      <td>104290</td>\n      <td>2825</td>\n    </tr>\n    <tr>\n      <th>District of Columbia</th>\n      <td>689545</td>\n      <td>611893</td>\n      <td>261771</td>\n      <td>282066</td>\n      <td>33192</td>\n      <td>77652</td>\n      <td>1626</td>\n    </tr>\n    <tr>\n      <th>Florida</th>\n      <td>21538187</td>\n      <td>15840947</td>\n      <td>11100503</td>\n      <td>3127052</td>\n      <td>629626</td>\n      <td>5697240</td>\n      <td>53690</td>\n    </tr>\n    <tr>\n      <th>Georgia</th>\n      <td>10711908</td>\n      <td>9588451</td>\n      <td>5362156</td>\n      <td>3278119</td>\n      <td>475680</td>\n      <td>1123457</td>\n      <td>26476</td>\n    </tr>\n    <tr>\n      <th>Hawaii</th>\n      <td>1455271</td>\n      <td>1316348</td>\n      <td>314365</td>\n      <td>21877</td>\n      <td>531558</td>\n      <td>138923</td>\n      <td>151375</td>\n    </tr>\n    <tr>\n      <th>Idaho</th>\n      <td>1839106</td>\n      <td>1599699</td>\n      <td>1450523</td>\n      <td>14785</td>\n      <td>26036</td>\n      <td>239407</td>\n      <td>22304</td>\n    </tr>\n    <tr>\n      <th>Illinois</th>\n      <td>12812508</td>\n      <td>10475098</td>\n      <td>7472751</td>\n      <td>1775612</td>\n      <td>747280</td>\n      <td>2337410</td>\n      <td>19520</td>\n    </tr>\n    <tr>\n      <th>Indiana</th>\n      <td>6785528</td>\n      <td>6231337</td>\n      <td>5121004</td>\n      <td>637500</td>\n      <td>166651</td>\n      <td>554191</td>\n      <td>15699</td>\n    </tr>\n    <tr>\n      <th>Iowa</th>\n      <td>3190369</td>\n      <td>2974383</td>\n      <td>2638201</td>\n      <td>129321</td>\n      <td>75017</td>\n      <td>215986</td>\n      <td>14684</td>\n    </tr>\n    <tr>\n      <th>Kansas</th>\n      <td>2937880</td>\n      <td>2555277</td>\n      <td>2122575</td>\n      <td>163352</td>\n      <td>85225</td>\n      <td>382603</td>\n      <td>25036</td>\n    </tr>\n    <tr>\n      <th>Kentucky</th>\n      <td>4505836</td>\n      <td>4297982</td>\n      <td>3664764</td>\n      <td>357764</td>\n      <td>73843</td>\n      <td>207854</td>\n      <td>11542</td>\n    </tr>\n    <tr>\n      <th>Louisiana</th>\n      <td>4657757</td>\n      <td>4335208</td>\n      <td>2596702</td>\n      <td>1452420</td>\n      <td>85336</td>\n      <td>322549</td>\n      <td>27700</td>\n    </tr>\n    <tr>\n      <th>Maine</th>\n      <td>1362359</td>\n      <td>1335750</td>\n      <td>1228264</td>\n      <td>25115</td>\n      <td>16668</td>\n      <td>26609</td>\n      <td>7700</td>\n    </tr>\n    <tr>\n      <th>Maryland</th>\n      <td>6177224</td>\n      <td>5447479</td>\n      <td>2913782</td>\n      <td>1795027</td>\n      <td>417962</td>\n      <td>729745</td>\n      <td>14630</td>\n    </tr>\n    <tr>\n      <th>Massachusetts</th>\n      <td>7029917</td>\n      <td>6142232</td>\n      <td>4748897</td>\n      <td>457055</td>\n      <td>504900</td>\n      <td>887685</td>\n      <td>10994</td>\n    </tr>\n    <tr>\n      <th>Michigan</th>\n      <td>10077331</td>\n      <td>9512909</td>\n      <td>7295651</td>\n      <td>1358458</td>\n      <td>332288</td>\n      <td>564422</td>\n      <td>50009</td>\n    </tr>\n    <tr>\n      <th>Minnesota</th>\n      <td>5706494</td>\n      <td>5360854</td>\n      <td>4353880</td>\n      <td>392850</td>\n      <td>297460</td>\n      <td>345640</td>\n      <td>59667</td>\n    </tr>\n    <tr>\n      <th>Mississippi</th>\n      <td>2961279</td>\n      <td>2856059</td>\n      <td>1639077</td>\n      <td>1079001</td>\n      <td>32305</td>\n      <td>105220</td>\n      <td>15056</td>\n    </tr>\n    <tr>\n      <th>Missouri</th>\n      <td>6154913</td>\n      <td>5851845</td>\n      <td>4663907</td>\n      <td>692774</td>\n      <td>132158</td>\n      <td>303068</td>\n      <td>32789</td>\n    </tr>\n    <tr>\n      <th>Montana</th>\n      <td>1084225</td>\n      <td>1039026</td>\n      <td>901318</td>\n      <td>5077</td>\n      <td>8077</td>\n      <td>45199</td>\n      <td>65431</td>\n    </tr>\n    <tr>\n      <th>Nebraska</th>\n      <td>1961504</td>\n      <td>1726789</td>\n      <td>1484687</td>\n      <td>94405</td>\n      <td>52359</td>\n      <td>234715</td>\n      <td>16369</td>\n    </tr>\n    <tr>\n      <th>Nevada</th>\n      <td>3104614</td>\n      <td>2214357</td>\n      <td>1425952</td>\n      <td>291960</td>\n      <td>265991</td>\n      <td>890257</td>\n      <td>46362</td>\n    </tr>\n    <tr>\n      <th>New Hampshire</th>\n      <td>1377529</td>\n      <td>1318075</td>\n      <td>1200649</td>\n      <td>18655</td>\n      <td>35604</td>\n      <td>59454</td>\n      <td>2687</td>\n    </tr>\n    <tr>\n      <th>New Jersey</th>\n      <td>9288994</td>\n      <td>7286419</td>\n      <td>4816381</td>\n      <td>1154142</td>\n      <td>942921</td>\n      <td>2002575</td>\n      <td>13150</td>\n    </tr>\n    <tr>\n      <th>New Mexico</th>\n      <td>2117522</td>\n      <td>1106711</td>\n      <td>772952</td>\n      <td>38330</td>\n      <td>35261</td>\n      <td>1010811</td>\n      <td>190061</td>\n    </tr>\n    <tr>\n      <th>New York</th>\n      <td>20201249</td>\n      <td>16253217</td>\n      <td>10598907</td>\n      <td>2759022</td>\n      <td>1916329</td>\n      <td>3948032</td>\n      <td>61005</td>\n    </tr>\n    <tr>\n      <th>North Carolina</th>\n      <td>10439388</td>\n      <td>9320792</td>\n      <td>6312148</td>\n      <td>2107526</td>\n      <td>340059</td>\n      <td>1118596</td>\n      <td>107866</td>\n    </tr>\n    <tr>\n      <th>North Dakota</th>\n      <td>779094</td>\n      <td>745682</td>\n      <td>636160</td>\n      <td>26152</td>\n      <td>13050</td>\n      <td>33412</td>\n      <td>38219</td>\n    </tr>\n    <tr>\n      <th>Ohio</th>\n      <td>11799448</td>\n      <td>11278140</td>\n      <td>8954135</td>\n      <td>1457180</td>\n      <td>296604</td>\n      <td>521308</td>\n      <td>23442</td>\n    </tr>\n    <tr>\n      <th>Oklahoma</th>\n      <td>3959353</td>\n      <td>3487422</td>\n      <td>2407188</td>\n      <td>283242</td>\n      <td>89653</td>\n      <td>471931</td>\n      <td>320058</td>\n    </tr>\n    <tr>\n      <th>Oregon</th>\n      <td>4237256</td>\n      <td>3648499</td>\n      <td>3036158</td>\n      <td>78658</td>\n      <td>191797</td>\n      <td>588757</td>\n      <td>60239</td>\n    </tr>\n    <tr>\n      <th>Pennsylvania</th>\n      <td>13002700</td>\n      <td>11953085</td>\n      <td>9553417</td>\n      <td>1368978</td>\n      <td>506674</td>\n      <td>1049615</td>\n      <td>18190</td>\n    </tr>\n    <tr>\n      <th>Rhode Island</th>\n      <td>1097379</td>\n      <td>915278</td>\n      <td>754050</td>\n      <td>55386</td>\n      <td>38367</td>\n      <td>182101</td>\n      <td>3833</td>\n    </tr>\n    <tr>\n      <th>South Carolina</th>\n      <td>5118425</td>\n      <td>4765587</td>\n      <td>3178552</td>\n      <td>1269031</td>\n      <td>89394</td>\n      <td>352838</td>\n      <td>19676</td>\n    </tr>\n    <tr>\n      <th>South Dakota</th>\n      <td>886667</td>\n      <td>847926</td>\n      <td>705583</td>\n      <td>17441</td>\n      <td>13332</td>\n      <td>38741</td>\n      <td>75088</td>\n    </tr>\n    <tr>\n      <th>Tennessee</th>\n      <td>6910840</td>\n      <td>6431653</td>\n      <td>4900246</td>\n      <td>1083772</td>\n      <td>134302</td>\n      <td>479187</td>\n      <td>19133</td>\n    </tr>\n    <tr>\n      <th>Texas</th>\n      <td>29145505</td>\n      <td>17703788</td>\n      <td>11584597</td>\n      <td>3444712</td>\n      <td>1561518</td>\n      <td>11441717</td>\n      <td>113282</td>\n    </tr>\n    <tr>\n      <th>Utah</th>\n      <td>3271616</td>\n      <td>2778704</td>\n      <td>2465355</td>\n      <td>37192</td>\n      <td>78618</td>\n      <td>492912</td>\n      <td>64521</td>\n    </tr>\n    <tr>\n      <th>Vermont</th>\n      <td>643077</td>\n      <td>627573</td>\n      <td>573201</td>\n      <td>8649</td>\n      <td>11457</td>\n      <td>15504</td>\n      <td>2156</td>\n    </tr>\n    <tr>\n      <th>Virginia</th>\n      <td>8631393</td>\n      <td>7722644</td>\n      <td>5058363</td>\n      <td>1578090</td>\n      <td>610612</td>\n      <td>908749</td>\n      <td>25275</td>\n    </tr>\n    <tr>\n      <th>Washington</th>\n      <td>7705281</td>\n      <td>6646068</td>\n      <td>4918820</td>\n      <td>296170</td>\n      <td>723062</td>\n      <td>1059213</td>\n      <td>153681</td>\n    </tr>\n    <tr>\n      <th>West Virginia</th>\n      <td>1793716</td>\n      <td>1758889</td>\n      <td>1598834</td>\n      <td>64749</td>\n      <td>14903</td>\n      <td>34827</td>\n      <td>3616</td>\n    </tr>\n    <tr>\n      <th>Wisconsin</th>\n      <td>5893718</td>\n      <td>5446428</td>\n      <td>4634018</td>\n      <td>366508</td>\n      <td>174267</td>\n      <td>447290</td>\n      <td>50276</td>\n    </tr>\n    <tr>\n      <th>Wyoming</th>\n      <td>576851</td>\n      <td>517805</td>\n      <td>469664</td>\n      <td>4735</td>\n      <td>5037</td>\n      <td>59046</td>\n      <td>12270</td>\n    </tr>\n  </tbody>\n</table>\n</div>"
     },
     "execution_count": 335,
     "metadata": {},
     "output_type": "execute_result"
    }
   ],
   "source": [
    "p5"
   ],
   "metadata": {
    "collapsed": false,
    "ExecuteTime": {
     "end_time": "2024-03-26T12:46:14.196100800Z",
     "start_time": "2024-03-26T12:46:13.300694400Z"
    }
   },
   "id": "f991212853466a64",
   "execution_count": 335
  },
  {
   "cell_type": "code",
   "outputs": [],
   "source": [
    "shootings_scaled_by_population = shootings_scaled_by_population.set_index(\"state\")"
   ],
   "metadata": {
    "collapsed": false,
    "ExecuteTime": {
     "end_time": "2024-03-26T12:46:14.316756100Z",
     "start_time": "2024-03-26T12:46:13.400047200Z"
    }
   },
   "id": "89950b75afc839bb",
   "execution_count": 336
  },
  {
   "cell_type": "code",
   "outputs": [
    {
     "data": {
      "text/plain": "                      population  fatalities  fatalities_per_million\nstate                                                               \nAlabama                    25731           0                    0.00\nAlaska                    121293           5                   41.22\nArizona                   278253           8                   28.75\nArkansas                   34829           0                    0.00\nCalifornia                294252           0                    0.00\nColorado                   42773           1                   23.38\nConnecticut                 7378           0                    0.00\nDelaware                    2825           0                    0.00\nDistrict of Columbia        1626           0                    0.00\nFlorida                    53690           0                    0.00\nGeorgia                    26476           0                    0.00\nHawaii                    151375           0                    0.00\nIdaho                      22304           0                    0.00\nIllinois                   19520           0                    0.00\nIndiana                    15699           0                    0.00\nIowa                       14684           0                    0.00\nKansas                     25036           0                    0.00\nKentucky                   11542           0                    0.00\nLouisiana                  27700           0                    0.00\nMaine                       7700           0                    0.00\nMaryland                   14630           0                    0.00\nMassachusetts              10994           0                    0.00\nMichigan                   50009           0                    0.00\nMinnesota                  59667           1                   16.76\nMississippi                15056           0                    0.00\nMissouri                   32789           0                    0.00\nMontana                    65431           0                    0.00\nNebraska                   16369           0                    0.00\nNevada                     46362           0                    0.00\nNew Hampshire               2687           0                    0.00\nNew Jersey                 13150           0                    0.00\nNew Mexico                190061           1                    5.26\nNew York                   61005           0                    0.00\nNorth Carolina            107866           0                    0.00\nNorth Dakota               38219           2                   52.33\nOhio                       23442           0                    0.00\nOklahoma                  320058           1                    3.12\nOregon                     60239           0                    0.00\nPennsylvania               18190           0                    0.00\nRhode Island                3833           0                    0.00\nSouth Carolina             19676           0                    0.00\nSouth Dakota               75088           2                   26.64\nTennessee                  19133           0                    0.00\nTexas                     113282           1                    8.83\nUtah                       64521           0                    0.00\nVermont                     2156           1                  463.82\nVirginia                   25275           0                    0.00\nWashington                153681           4                   26.03\nWest Virginia               3616           0                    0.00\nWisconsin                  50276           0                    0.00\nWyoming                    12270           1                   81.50",
      "text/html": "<div>\n<style scoped>\n    .dataframe tbody tr th:only-of-type {\n        vertical-align: middle;\n    }\n\n    .dataframe tbody tr th {\n        vertical-align: top;\n    }\n\n    .dataframe thead th {\n        text-align: right;\n    }\n</style>\n<table border=\"1\" class=\"dataframe\">\n  <thead>\n    <tr style=\"text-align: right;\">\n      <th></th>\n      <th>population</th>\n      <th>fatalities</th>\n      <th>fatalities_per_million</th>\n    </tr>\n    <tr>\n      <th>state</th>\n      <th></th>\n      <th></th>\n      <th></th>\n    </tr>\n  </thead>\n  <tbody>\n    <tr>\n      <th>Alabama</th>\n      <td>25731</td>\n      <td>0</td>\n      <td>0.00</td>\n    </tr>\n    <tr>\n      <th>Alaska</th>\n      <td>121293</td>\n      <td>5</td>\n      <td>41.22</td>\n    </tr>\n    <tr>\n      <th>Arizona</th>\n      <td>278253</td>\n      <td>8</td>\n      <td>28.75</td>\n    </tr>\n    <tr>\n      <th>Arkansas</th>\n      <td>34829</td>\n      <td>0</td>\n      <td>0.00</td>\n    </tr>\n    <tr>\n      <th>California</th>\n      <td>294252</td>\n      <td>0</td>\n      <td>0.00</td>\n    </tr>\n    <tr>\n      <th>Colorado</th>\n      <td>42773</td>\n      <td>1</td>\n      <td>23.38</td>\n    </tr>\n    <tr>\n      <th>Connecticut</th>\n      <td>7378</td>\n      <td>0</td>\n      <td>0.00</td>\n    </tr>\n    <tr>\n      <th>Delaware</th>\n      <td>2825</td>\n      <td>0</td>\n      <td>0.00</td>\n    </tr>\n    <tr>\n      <th>District of Columbia</th>\n      <td>1626</td>\n      <td>0</td>\n      <td>0.00</td>\n    </tr>\n    <tr>\n      <th>Florida</th>\n      <td>53690</td>\n      <td>0</td>\n      <td>0.00</td>\n    </tr>\n    <tr>\n      <th>Georgia</th>\n      <td>26476</td>\n      <td>0</td>\n      <td>0.00</td>\n    </tr>\n    <tr>\n      <th>Hawaii</th>\n      <td>151375</td>\n      <td>0</td>\n      <td>0.00</td>\n    </tr>\n    <tr>\n      <th>Idaho</th>\n      <td>22304</td>\n      <td>0</td>\n      <td>0.00</td>\n    </tr>\n    <tr>\n      <th>Illinois</th>\n      <td>19520</td>\n      <td>0</td>\n      <td>0.00</td>\n    </tr>\n    <tr>\n      <th>Indiana</th>\n      <td>15699</td>\n      <td>0</td>\n      <td>0.00</td>\n    </tr>\n    <tr>\n      <th>Iowa</th>\n      <td>14684</td>\n      <td>0</td>\n      <td>0.00</td>\n    </tr>\n    <tr>\n      <th>Kansas</th>\n      <td>25036</td>\n      <td>0</td>\n      <td>0.00</td>\n    </tr>\n    <tr>\n      <th>Kentucky</th>\n      <td>11542</td>\n      <td>0</td>\n      <td>0.00</td>\n    </tr>\n    <tr>\n      <th>Louisiana</th>\n      <td>27700</td>\n      <td>0</td>\n      <td>0.00</td>\n    </tr>\n    <tr>\n      <th>Maine</th>\n      <td>7700</td>\n      <td>0</td>\n      <td>0.00</td>\n    </tr>\n    <tr>\n      <th>Maryland</th>\n      <td>14630</td>\n      <td>0</td>\n      <td>0.00</td>\n    </tr>\n    <tr>\n      <th>Massachusetts</th>\n      <td>10994</td>\n      <td>0</td>\n      <td>0.00</td>\n    </tr>\n    <tr>\n      <th>Michigan</th>\n      <td>50009</td>\n      <td>0</td>\n      <td>0.00</td>\n    </tr>\n    <tr>\n      <th>Minnesota</th>\n      <td>59667</td>\n      <td>1</td>\n      <td>16.76</td>\n    </tr>\n    <tr>\n      <th>Mississippi</th>\n      <td>15056</td>\n      <td>0</td>\n      <td>0.00</td>\n    </tr>\n    <tr>\n      <th>Missouri</th>\n      <td>32789</td>\n      <td>0</td>\n      <td>0.00</td>\n    </tr>\n    <tr>\n      <th>Montana</th>\n      <td>65431</td>\n      <td>0</td>\n      <td>0.00</td>\n    </tr>\n    <tr>\n      <th>Nebraska</th>\n      <td>16369</td>\n      <td>0</td>\n      <td>0.00</td>\n    </tr>\n    <tr>\n      <th>Nevada</th>\n      <td>46362</td>\n      <td>0</td>\n      <td>0.00</td>\n    </tr>\n    <tr>\n      <th>New Hampshire</th>\n      <td>2687</td>\n      <td>0</td>\n      <td>0.00</td>\n    </tr>\n    <tr>\n      <th>New Jersey</th>\n      <td>13150</td>\n      <td>0</td>\n      <td>0.00</td>\n    </tr>\n    <tr>\n      <th>New Mexico</th>\n      <td>190061</td>\n      <td>1</td>\n      <td>5.26</td>\n    </tr>\n    <tr>\n      <th>New York</th>\n      <td>61005</td>\n      <td>0</td>\n      <td>0.00</td>\n    </tr>\n    <tr>\n      <th>North Carolina</th>\n      <td>107866</td>\n      <td>0</td>\n      <td>0.00</td>\n    </tr>\n    <tr>\n      <th>North Dakota</th>\n      <td>38219</td>\n      <td>2</td>\n      <td>52.33</td>\n    </tr>\n    <tr>\n      <th>Ohio</th>\n      <td>23442</td>\n      <td>0</td>\n      <td>0.00</td>\n    </tr>\n    <tr>\n      <th>Oklahoma</th>\n      <td>320058</td>\n      <td>1</td>\n      <td>3.12</td>\n    </tr>\n    <tr>\n      <th>Oregon</th>\n      <td>60239</td>\n      <td>0</td>\n      <td>0.00</td>\n    </tr>\n    <tr>\n      <th>Pennsylvania</th>\n      <td>18190</td>\n      <td>0</td>\n      <td>0.00</td>\n    </tr>\n    <tr>\n      <th>Rhode Island</th>\n      <td>3833</td>\n      <td>0</td>\n      <td>0.00</td>\n    </tr>\n    <tr>\n      <th>South Carolina</th>\n      <td>19676</td>\n      <td>0</td>\n      <td>0.00</td>\n    </tr>\n    <tr>\n      <th>South Dakota</th>\n      <td>75088</td>\n      <td>2</td>\n      <td>26.64</td>\n    </tr>\n    <tr>\n      <th>Tennessee</th>\n      <td>19133</td>\n      <td>0</td>\n      <td>0.00</td>\n    </tr>\n    <tr>\n      <th>Texas</th>\n      <td>113282</td>\n      <td>1</td>\n      <td>8.83</td>\n    </tr>\n    <tr>\n      <th>Utah</th>\n      <td>64521</td>\n      <td>0</td>\n      <td>0.00</td>\n    </tr>\n    <tr>\n      <th>Vermont</th>\n      <td>2156</td>\n      <td>1</td>\n      <td>463.82</td>\n    </tr>\n    <tr>\n      <th>Virginia</th>\n      <td>25275</td>\n      <td>0</td>\n      <td>0.00</td>\n    </tr>\n    <tr>\n      <th>Washington</th>\n      <td>153681</td>\n      <td>4</td>\n      <td>26.03</td>\n    </tr>\n    <tr>\n      <th>West Virginia</th>\n      <td>3616</td>\n      <td>0</td>\n      <td>0.00</td>\n    </tr>\n    <tr>\n      <th>Wisconsin</th>\n      <td>50276</td>\n      <td>0</td>\n      <td>0.00</td>\n    </tr>\n    <tr>\n      <th>Wyoming</th>\n      <td>12270</td>\n      <td>1</td>\n      <td>81.50</td>\n    </tr>\n  </tbody>\n</table>\n</div>"
     },
     "execution_count": 338,
     "metadata": {},
     "output_type": "execute_result"
    }
   ],
   "source": [
    "merged_native = pd.merge(p5[\"native\"], pivot[\"native\"], left_index=True, \n",
    "                         right_index=True)\n",
    "merged_native = pd.merge(merged_native, shootings_scaled_by_population[\"native\"], \n",
    "                         left_index=True, right_index=True)\n",
    "merged_native.columns = [\"population\", \"fatalities\", \"fatalities_per_million\"]\n",
    "merged_native.head()"
   ],
   "metadata": {
    "collapsed": false,
    "ExecuteTime": {
     "end_time": "2024-03-26T12:46:34.493766Z",
     "start_time": "2024-03-26T12:46:34.138710800Z"
    }
   },
   "id": "ec608b1ce2905be5",
   "execution_count": 338
  },
  {
   "cell_type": "markdown",
   "source": [
    "**SPLOM scatter plot matrix**"
   ],
   "metadata": {
    "collapsed": false
   },
   "id": "9aca9769c414b1e3"
  },
  {
   "cell_type": "code",
   "outputs": [
    {
     "data": {
      "text/plain": "<seaborn.axisgrid.PairGrid at 0x18a49286800>"
     },
     "execution_count": 343,
     "metadata": {},
     "output_type": "execute_result"
    },
    {
     "data": {
      "text/plain": "<Figure size 750x750 with 12 Axes>",
      "image/png": "[encoded data removed]"
     },
     "metadata": {},
     "output_type": "display_data"
    }
   ],
   "source": [
    "sns.pairplot(merged_native)"
   ],
   "metadata": {
    "collapsed": false,
    "ExecuteTime": {
     "end_time": "2024-03-26T13:38:32.246490800Z",
     "start_time": "2024-03-26T13:38:26.184491400Z"
    }
   },
   "id": "ef8052a578fb9f64",
   "execution_count": 343
  },
  {
   "cell_type": "markdown",
   "source": [
    "### 4.1.1 Correlation Check - Pearson"
   ],
   "metadata": {
    "collapsed": false
   },
   "id": "b27e9fe0dd30ba75"
  },
  {
   "cell_type": "code",
   "outputs": [
    {
     "data": {
      "text/plain": "                        population  fatalities  fatalities_per_million\npopulation                1.000000    0.528963               -0.064704\nfatalities                0.528963    1.000000                0.183188\nfatalities_per_million   -0.064704    0.183188                1.000000",
      "text/html": "<div>\n<style scoped>\n    .dataframe tbody tr th:only-of-type {\n        vertical-align: middle;\n    }\n\n    .dataframe tbody tr th {\n        vertical-align: top;\n    }\n\n    .dataframe thead th {\n        text-align: right;\n    }\n</style>\n<table border=\"1\" class=\"dataframe\">\n  <thead>\n    <tr style=\"text-align: right;\">\n      <th></th>\n      <th>population</th>\n      <th>fatalities</th>\n      <th>fatalities_per_million</th>\n    </tr>\n  </thead>\n  <tbody>\n    <tr>\n      <th>population</th>\n      <td>1.000000</td>\n      <td>0.528963</td>\n      <td>-0.064704</td>\n    </tr>\n    <tr>\n      <th>fatalities</th>\n      <td>0.528963</td>\n      <td>1.000000</td>\n      <td>0.183188</td>\n    </tr>\n    <tr>\n      <th>fatalities_per_million</th>\n      <td>-0.064704</td>\n      <td>0.183188</td>\n      <td>1.000000</td>\n    </tr>\n  </tbody>\n</table>\n</div>"
     },
     "execution_count": 339,
     "metadata": {},
     "output_type": "execute_result"
    }
   ],
   "source": [
    "merged_native.corr()"
   ],
   "metadata": {
    "collapsed": false,
    "ExecuteTime": {
     "end_time": "2024-03-26T12:58:21.372335700Z",
     "start_time": "2024-03-26T12:58:20.710385Z"
    }
   },
   "id": "de37d63255b1976b",
   "execution_count": 339
  },
  {
   "cell_type": "markdown",
   "source": [
    "### 4.1.2 Correlation Check - Pearson (without the state with highest \n",
    "### fatality rate)"
   ],
   "metadata": {
    "collapsed": false
   },
   "id": "dcf58b72ae3305a4"
  },
  {
   "cell_type": "code",
   "outputs": [],
   "source": [
    "merged_native_without_outlier = merged_native.drop(index=\"Vermont\")"
   ],
   "metadata": {
    "collapsed": false,
    "ExecuteTime": {
     "end_time": "2024-03-26T14:07:07.908153100Z",
     "start_time": "2024-03-26T14:07:07.507706500Z"
    }
   },
   "id": "2c0f585035d0be19",
   "execution_count": 348
  },
  {
   "cell_type": "code",
   "outputs": [
    {
     "data": {
      "text/plain": "                        population  fatalities  fatalities_per_million\npopulation                1.000000    0.537077                0.155442\nfatalities                0.537077    1.000000                0.589826\nfatalities_per_million    0.155442    0.589826                1.000000",
      "text/html": "<div>\n<style scoped>\n    .dataframe tbody tr th:only-of-type {\n        vertical-align: middle;\n    }\n\n    .dataframe tbody tr th {\n        vertical-align: top;\n    }\n\n    .dataframe thead th {\n        text-align: right;\n    }\n</style>\n<table border=\"1\" class=\"dataframe\">\n  <thead>\n    <tr style=\"text-align: right;\">\n      <th></th>\n      <th>population</th>\n      <th>fatalities</th>\n      <th>fatalities_per_million</th>\n    </tr>\n  </thead>\n  <tbody>\n    <tr>\n      <th>population</th>\n      <td>1.000000</td>\n      <td>0.537077</td>\n      <td>0.155442</td>\n    </tr>\n    <tr>\n      <th>fatalities</th>\n      <td>0.537077</td>\n      <td>1.000000</td>\n      <td>0.589826</td>\n    </tr>\n    <tr>\n      <th>fatalities_per_million</th>\n      <td>0.155442</td>\n      <td>0.589826</td>\n      <td>1.000000</td>\n    </tr>\n  </tbody>\n</table>\n</div>"
     },
     "execution_count": 350,
     "metadata": {},
     "output_type": "execute_result"
    }
   ],
   "source": [
    "merged_native_without_outlier.corr()"
   ],
   "metadata": {
    "collapsed": false,
    "ExecuteTime": {
     "end_time": "2024-03-26T14:07:29.505321100Z",
     "start_time": "2024-03-26T14:07:28.994111500Z"
    }
   },
   "id": "40d8bf3e87ddecf2",
   "execution_count": 350
  },
  {
   "cell_type": "markdown",
   "source": [
    "## 4.2 Race inequality - Is it actually different between race?"
   ],
   "metadata": {
    "collapsed": false
   },
   "id": "d901b9296f3610df"
  },
  {
   "cell_type": "code",
   "outputs": [],
   "source": [],
   "metadata": {
    "collapsed": false
   },
   "id": "9629fb92e602f59e"
  },
  {
   "cell_type": "code",
   "outputs": [],
   "source": [
    "\"\"\"\"grouped_data = db_replaced.groupby('race').agg(\n",
    "    total_cases=pd.NamedAgg(column='age', aggfunc='count'),\n",
    "    mental_illness_cases=pd.NamedAgg(column='signs_of_mental_illness', aggfunc='sum'),\n",
    "    cases_with_guns=pd.NamedAgg(column='armed', aggfunc=lambda x: (x == 'gun').sum())\n",
    ")\n",
    "grouped_data\"\"\"\""
   ],
   "metadata": {
    "collapsed": false,
    "ExecuteTime": {
     "start_time": "2024-03-26T12:46:15.176633700Z"
    }
   },
   "id": "5732198cab80a97a",
   "execution_count": null
  },
  {
   "cell_type": "markdown",
   "source": [
    "# Improvements"
   ],
   "metadata": {
    "collapsed": false
   },
   "id": "89d0b8beab955ddb"
  },
  {
   "cell_type": "markdown",
   "source": [
    "1. Methodology differences may exist between data sources, and so may not be\n",
    " comparable.\n",
    "2. New datasets are data from Census 2020, not from years 2015-2017, which \n",
    "may affect analysis. Also, COVID-19 may have an impact on the data."
   ],
   "metadata": {
    "collapsed": false
   },
   "id": "f9357c173e9317b5"
  }
 ],
 "metadata": {
  "kernelspec": {
   "display_name": "Python 3",
   "language": "python",
   "name": "python3"
  },
  "language_info": {
   "codemirror_mode": {
    "name": "ipython",
    "version": 2
   },
   "file_extension": ".py",
   "mimetype": "text/x-python",
   "name": "python",
   "nbconvert_exporter": "python",
   "pygments_lexer": "ipython2",
   "version": "2.7.6"
  }
 },
 "nbformat": 4,
 "nbformat_minor": 5
}
